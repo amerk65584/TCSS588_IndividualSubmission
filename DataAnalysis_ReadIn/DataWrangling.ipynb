{
 "cells": [
  {
   "cell_type": "markdown",
   "metadata": {},
   "source": [
    "# Data Wrangling\n",
    "\n",
    "The purpose of this notebook is to compile the data from each machine learning algorithm into a format that is easier to analyze.\n",
    "\n",
    "In this notebook we:\n",
    "- Read in the files\n",
    "- Normalize any data that still needs to be\n",
    "- Combine data into a large super matrix for each data set\n",
    "- Write super matrix out to a file\n",
    "\n",
    "## Read in each output file\n",
    "### Logistic Regression files"
   ]
  },
  {
   "cell_type": "code",
   "execution_count": 1,
   "metadata": {},
   "outputs": [
    {
     "data": {
      "text/html": [
       "<table>\n",
       "<thead><tr><th></th><th scope=col>Accuracy</th><th scope=col>Intercept</th></tr></thead>\n",
       "<tbody>\n",
       "\t<tr><th scope=row>Fold 1_10k</th><td>1.0000000</td><td>-786.4671</td></tr>\n",
       "\t<tr><th scope=row>Fold 2_10k</th><td>1.0000000</td><td>1802.1233</td></tr>\n",
       "\t<tr><th scope=row>Fold 3_10k</th><td>1.0000000</td><td>-351.5635</td></tr>\n",
       "\t<tr><th scope=row>Fold 4_0k</th><td>0.9714286</td><td>-840.7232</td></tr>\n",
       "\t<tr><th scope=row>Fold 5_10k</th><td>1.0000000</td><td> 300.9593</td></tr>\n",
       "</tbody>\n",
       "</table>\n"
      ],
      "text/latex": [
       "\\begin{tabular}{r|ll}\n",
       "  & Accuracy & Intercept\\\\\n",
       "\\hline\n",
       "\tFold 1\\_10k & 1.0000000 & -786.4671\\\\\n",
       "\tFold 2\\_10k & 1.0000000 & 1802.1233\\\\\n",
       "\tFold 3\\_10k & 1.0000000 & -351.5635\\\\\n",
       "\tFold 4\\_0k & 0.9714286 & -840.7232\\\\\n",
       "\tFold 5\\_10k & 1.0000000 &  300.9593\\\\\n",
       "\\end{tabular}\n"
      ],
      "text/markdown": [
       "\n",
       "| <!--/--> | Accuracy | Intercept |\n",
       "|---|---|---|\n",
       "| Fold 1_10k | 1.0000000 | -786.4671 |\n",
       "| Fold 2_10k | 1.0000000 | 1802.1233 |\n",
       "| Fold 3_10k | 1.0000000 | -351.5635 |\n",
       "| Fold 4_0k | 0.9714286 | -840.7232 |\n",
       "| Fold 5_10k | 1.0000000 |  300.9593 |\n",
       "\n"
      ],
      "text/plain": [
       "           Accuracy  Intercept\n",
       "Fold 1_10k 1.0000000 -786.4671\n",
       "Fold 2_10k 1.0000000 1802.1233\n",
       "Fold 3_10k 1.0000000 -351.5635\n",
       "Fold 4_0k  0.9714286 -840.7232\n",
       "Fold 5_10k 1.0000000  300.9593"
      ]
     },
     "metadata": {},
     "output_type": "display_data"
    },
    {
     "data": {
      "text/html": [
       "<table>\n",
       "<thead><tr><th></th><th scope=col>Accuracy</th><th scope=col>Intercept</th></tr></thead>\n",
       "<tbody>\n",
       "\t<tr><th scope=row>Fold 1_5k</th><td>0.9722222 </td><td>  641.0724</td></tr>\n",
       "\t<tr><th scope=row>Fold 2_5k</th><td>0.9714286 </td><td> 1456.1149</td></tr>\n",
       "\t<tr><th scope=row>Fold 3_5k</th><td>0.9428571 </td><td>  521.6163</td></tr>\n",
       "\t<tr><th scope=row>Fold 4_5k</th><td>0.9428571 </td><td>-1198.7052</td></tr>\n",
       "\t<tr><th scope=row>Fold 5_5k</th><td>0.9722222 </td><td> -295.9289</td></tr>\n",
       "</tbody>\n",
       "</table>\n"
      ],
      "text/latex": [
       "\\begin{tabular}{r|ll}\n",
       "  & Accuracy & Intercept\\\\\n",
       "\\hline\n",
       "\tFold 1\\_5k & 0.9722222  &   641.0724\\\\\n",
       "\tFold 2\\_5k & 0.9714286  &  1456.1149\\\\\n",
       "\tFold 3\\_5k & 0.9428571  &   521.6163\\\\\n",
       "\tFold 4\\_5k & 0.9428571  & -1198.7052\\\\\n",
       "\tFold 5\\_5k & 0.9722222  &  -295.9289\\\\\n",
       "\\end{tabular}\n"
      ],
      "text/markdown": [
       "\n",
       "| <!--/--> | Accuracy | Intercept |\n",
       "|---|---|---|\n",
       "| Fold 1_5k | 0.9722222  |   641.0724 |\n",
       "| Fold 2_5k | 0.9714286  |  1456.1149 |\n",
       "| Fold 3_5k | 0.9428571  |   521.6163 |\n",
       "| Fold 4_5k | 0.9428571  | -1198.7052 |\n",
       "| Fold 5_5k | 0.9722222  |  -295.9289 |\n",
       "\n"
      ],
      "text/plain": [
       "          Accuracy  Intercept \n",
       "Fold 1_5k 0.9722222   641.0724\n",
       "Fold 2_5k 0.9714286  1456.1149\n",
       "Fold 3_5k 0.9428571   521.6163\n",
       "Fold 4_5k 0.9428571 -1198.7052\n",
       "Fold 5_5k 0.9722222  -295.9289"
      ]
     },
     "metadata": {},
     "output_type": "display_data"
    },
    {
     "data": {
      "text/html": [
       "<table>\n",
       "<thead><tr><th></th><th scope=col>Accuracy</th><th scope=col>Intercept</th></tr></thead>\n",
       "<tbody>\n",
       "\t<tr><th scope=row>Fold 1_2.5k</th><td>0.9722222  </td><td>  1838.3546</td></tr>\n",
       "\t<tr><th scope=row>Fold 2_2.5k</th><td>0.9428571  </td><td>  4548.3233</td></tr>\n",
       "\t<tr><th scope=row>Fold 3_2.5k</th><td>0.9714286  </td><td>   497.3577</td></tr>\n",
       "\t<tr><th scope=row>Fold 4_2.5k</th><td>0.9428571  </td><td>  -914.9638</td></tr>\n",
       "\t<tr><th scope=row>Fold 5_2.5k</th><td>0.9722222  </td><td>148918.8378</td></tr>\n",
       "</tbody>\n",
       "</table>\n"
      ],
      "text/latex": [
       "\\begin{tabular}{r|ll}\n",
       "  & Accuracy & Intercept\\\\\n",
       "\\hline\n",
       "\tFold 1\\_2.5k & 0.9722222   &   1838.3546\\\\\n",
       "\tFold 2\\_2.5k & 0.9428571   &   4548.3233\\\\\n",
       "\tFold 3\\_2.5k & 0.9714286   &    497.3577\\\\\n",
       "\tFold 4\\_2.5k & 0.9428571   &   -914.9638\\\\\n",
       "\tFold 5\\_2.5k & 0.9722222   & 148918.8378\\\\\n",
       "\\end{tabular}\n"
      ],
      "text/markdown": [
       "\n",
       "| <!--/--> | Accuracy | Intercept |\n",
       "|---|---|---|\n",
       "| Fold 1_2.5k | 0.9722222   |   1838.3546 |\n",
       "| Fold 2_2.5k | 0.9428571   |   4548.3233 |\n",
       "| Fold 3_2.5k | 0.9714286   |    497.3577 |\n",
       "| Fold 4_2.5k | 0.9428571   |   -914.9638 |\n",
       "| Fold 5_2.5k | 0.9722222   | 148918.8378 |\n",
       "\n"
      ],
      "text/plain": [
       "            Accuracy  Intercept  \n",
       "Fold 1_2.5k 0.9722222   1838.3546\n",
       "Fold 2_2.5k 0.9428571   4548.3233\n",
       "Fold 3_2.5k 0.9714286    497.3577\n",
       "Fold 4_2.5k 0.9428571   -914.9638\n",
       "Fold 5_2.5k 0.9722222 148918.8378"
      ]
     },
     "metadata": {},
     "output_type": "display_data"
    },
    {
     "data": {
      "text/html": [
       "<table>\n",
       "<thead><tr><th></th><th scope=col>Accuracy</th><th scope=col>Intercept</th></tr></thead>\n",
       "<tbody>\n",
       "\t<tr><th scope=row>Fold 1_1k</th><td>1.0000000</td><td>2886.3864</td></tr>\n",
       "\t<tr><th scope=row>Fold 2_1k</th><td>0.9714286</td><td>-578.1678</td></tr>\n",
       "\t<tr><th scope=row>Fold 3_1k</th><td>1.0000000</td><td>8913.0326</td></tr>\n",
       "\t<tr><th scope=row>Fold 4_1k</th><td>0.9428571</td><td> 675.7159</td></tr>\n",
       "\t<tr><th scope=row>Fold 5_1k</th><td>0.9722222</td><td>-404.6812</td></tr>\n",
       "</tbody>\n",
       "</table>\n"
      ],
      "text/latex": [
       "\\begin{tabular}{r|ll}\n",
       "  & Accuracy & Intercept\\\\\n",
       "\\hline\n",
       "\tFold 1\\_1k & 1.0000000 & 2886.3864\\\\\n",
       "\tFold 2\\_1k & 0.9714286 & -578.1678\\\\\n",
       "\tFold 3\\_1k & 1.0000000 & 8913.0326\\\\\n",
       "\tFold 4\\_1k & 0.9428571 &  675.7159\\\\\n",
       "\tFold 5\\_1k & 0.9722222 & -404.6812\\\\\n",
       "\\end{tabular}\n"
      ],
      "text/markdown": [
       "\n",
       "| <!--/--> | Accuracy | Intercept |\n",
       "|---|---|---|\n",
       "| Fold 1_1k | 1.0000000 | 2886.3864 |\n",
       "| Fold 2_1k | 0.9714286 | -578.1678 |\n",
       "| Fold 3_1k | 1.0000000 | 8913.0326 |\n",
       "| Fold 4_1k | 0.9428571 |  675.7159 |\n",
       "| Fold 5_1k | 0.9722222 | -404.6812 |\n",
       "\n"
      ],
      "text/plain": [
       "          Accuracy  Intercept\n",
       "Fold 1_1k 1.0000000 2886.3864\n",
       "Fold 2_1k 0.9714286 -578.1678\n",
       "Fold 3_1k 1.0000000 8913.0326\n",
       "Fold 4_1k 0.9428571  675.7159\n",
       "Fold 5_1k 0.9722222 -404.6812"
      ]
     },
     "metadata": {},
     "output_type": "display_data"
    },
    {
     "data": {
      "text/html": [
       "<table>\n",
       "<thead><tr><th></th><th scope=col>Accuracy</th><th scope=col>Intercept</th></tr></thead>\n",
       "<tbody>\n",
       "\t<tr><th scope=row>Fold 1_100</th><td>0.9444444</td><td> 34.83226</td></tr>\n",
       "\t<tr><th scope=row>Fold 2_100</th><td>0.9714286</td><td>240.93207</td></tr>\n",
       "\t<tr><th scope=row>Fold 3_100</th><td>0.9714286</td><td> 48.26701</td></tr>\n",
       "\t<tr><th scope=row>Fold 4_100</th><td>0.9714286</td><td>107.74293</td></tr>\n",
       "\t<tr><th scope=row>Fold 5_100</th><td>0.9444444</td><td>119.84550</td></tr>\n",
       "</tbody>\n",
       "</table>\n"
      ],
      "text/latex": [
       "\\begin{tabular}{r|ll}\n",
       "  & Accuracy & Intercept\\\\\n",
       "\\hline\n",
       "\tFold 1\\_100 & 0.9444444 &  34.83226\\\\\n",
       "\tFold 2\\_100 & 0.9714286 & 240.93207\\\\\n",
       "\tFold 3\\_100 & 0.9714286 &  48.26701\\\\\n",
       "\tFold 4\\_100 & 0.9714286 & 107.74293\\\\\n",
       "\tFold 5\\_100 & 0.9444444 & 119.84550\\\\\n",
       "\\end{tabular}\n"
      ],
      "text/markdown": [
       "\n",
       "| <!--/--> | Accuracy | Intercept |\n",
       "|---|---|---|\n",
       "| Fold 1_100 | 0.9444444 |  34.83226 |\n",
       "| Fold 2_100 | 0.9714286 | 240.93207 |\n",
       "| Fold 3_100 | 0.9714286 |  48.26701 |\n",
       "| Fold 4_100 | 0.9714286 | 107.74293 |\n",
       "| Fold 5_100 | 0.9444444 | 119.84550 |\n",
       "\n"
      ],
      "text/plain": [
       "           Accuracy  Intercept\n",
       "Fold 1_100 0.9444444  34.83226\n",
       "Fold 2_100 0.9714286 240.93207\n",
       "Fold 3_100 0.9714286  48.26701\n",
       "Fold 4_100 0.9714286 107.74293\n",
       "Fold 5_100 0.9444444 119.84550"
      ]
     },
     "metadata": {},
     "output_type": "display_data"
    }
   ],
   "source": [
    "#logistic regression files\n",
    "log.reg.coef.10k = read.table(\"log_reg/LogRegCoef_10k.txt\", sep=\"\\t\", header=T)\n",
    "log.reg.coef.5k = read.table(\"log_reg/LogRegCoef_5k.txt\", sep=\"\\t\", header=T)\n",
    "log.reg.coef.2.5k = read.table(\"log_reg/LogRegCoef_2.5k.txt\", sep=\"\\t\", header=T)\n",
    "log.reg.coef.1k = read.table(\"log_reg/LogRegCoef_1k.txt\", sep=\"\\t\", header=T)\n",
    "log.reg.coef.100 = read.table(\"log_reg/LogRegCoef_100.txt\", sep=\"\\t\", header=T)\n",
    "log.reg.acc.int.10k = read.table(\"log_reg/LogRegAcc_Int_10k.txt\", sep=\"\\t\", header=T)\n",
    "log.reg.acc.int.5k = read.table(\"log_reg/LogRegAcc_Int_5k.txt\", sep=\"\\t\", header=T)\n",
    "log.reg.acc.int.2.5k = read.table(\"log_reg/LogRegAcc_Int_2.5k.txt\", sep=\"\\t\", header=T)\n",
    "log.reg.acc.int.1k = read.table(\"log_reg/LogRegAcc_Int_1k.txt\", sep=\"\\t\", header=T)\n",
    "log.reg.acc.int.100 = read.table(\"log_reg/LogRegAcc_Int_100.txt\", sep=\"\\t\", header=T)\n",
    "\n",
    "#sanity check\n",
    "# print(\"Logistic regression\")\n",
    "# dim(log.reg.acc.int.10k)\n",
    "# dim(log.reg.acc.int.5k)\n",
    "# dim(log.reg.acc.int.2.5k)\n",
    "# dim(log.reg.acc.int.1k)\n",
    "# dim(log.reg.acc.int.100)\n",
    "# dim(log.reg.coef.10k)\n",
    "# dim(log.reg.coef.5k)\n",
    "# dim(log.reg.coef.2.5k)\n",
    "# dim(log.reg.coef.1k)\n",
    "# dim(log.reg.coef.100)\n",
    "log.reg.acc.int.10k\n",
    "log.reg.acc.int.5k\n",
    "log.reg.acc.int.2.5k\n",
    "log.reg.acc.int.1k\n",
    "log.reg.acc.int.100\n",
    "# log.reg.coef.10k[, 1:6]\n",
    "# log.reg.coef.5k[, 1:6]\n",
    "# log.reg.coef.2.5k[, 1:6]\n",
    "# log.reg.coef.1k[, 1:6]\n",
    "# log.reg.coef.100[, 1:6]"
   ]
  },
  {
   "cell_type": "markdown",
   "metadata": {},
   "source": [
    "### LASSO files"
   ]
  },
  {
   "cell_type": "code",
   "execution_count": 2,
   "metadata": {},
   "outputs": [],
   "source": [
    "#lasso files\n",
    "lasso.coef.10k = read.table(\"lasso/LassoCoef_10k.txt\", sep=\"\\t\", header=T)\n",
    "lasso.coef.5k = read.table(\"lasso/LassoCoef_5k.txt\", sep=\"\\t\", header=T)\n",
    "lasso.coef.2.5k = read.table(\"lasso/LassoCoef_2.5k.txt\", sep=\"\\t\", header=T)\n",
    "lasso.coef.1k = read.table(\"lasso/LassoCoef_1k.txt\", sep=\"\\t\", header=T)\n",
    "lasso.coef.100 = read.table(\"lasso/LassoCoef_100.txt\", sep=\"\\t\", header=T)\n",
    "lasso.acc.int.10k = read.table(\"lasso/LassoAcc_Int_10k.txt\", sep=\"\\t\", header=T)\n",
    "lasso.acc.int.5k = read.table(\"lasso/LassoAcc_Int_5k.txt\", sep=\"\\t\", header=T)\n",
    "lasso.acc.int.2.5k = read.table(\"lasso/LassoAcc_Int_2.5k.txt\", sep=\"\\t\", header=T)\n",
    "lasso.acc.int.1k = read.table(\"lasso/LassoAcc_Int_1k.txt\", sep=\"\\t\", header=T)\n",
    "lasso.acc.int.100 = read.table(\"lasso/LassoAcc_Int_100.txt\", sep=\"\\t\", header=T)\n",
    "\n",
    "#lasso files\n",
    "# print(\"lasso\")\n",
    "# dim(lasso.coef.10k)\n",
    "# dim(lasso.coef.5k)\n",
    "# dim(lasso.coef.2.5k)\n",
    "# dim(lasso.coef.1k)\n",
    "# dim(lasso.coef.100)\n",
    "# lasso.coef.10k[, 1:6]\n",
    "# lasso.coef.5k[, 1:6]\n",
    "# lasso.coef.2.5k[, 1:6]\n",
    "# lasso.coef.1k[, 1:6]\n",
    "# lasso.coef.100[, 1:6]"
   ]
  },
  {
   "cell_type": "code",
   "execution_count": 3,
   "metadata": {},
   "outputs": [
    {
     "data": {
      "text/html": [
       "-0.252416448019377"
      ],
      "text/latex": [
       "-0.252416448019377"
      ],
      "text/markdown": [
       "-0.252416448019377"
      ],
      "text/plain": [
       "[1] -0.2524164"
      ]
     },
     "metadata": {},
     "output_type": "display_data"
    },
    {
     "data": {
      "text/html": [
       "0.275070709666138"
      ],
      "text/latex": [
       "0.275070709666138"
      ],
      "text/markdown": [
       "0.275070709666138"
      ],
      "text/plain": [
       "[1] 0.2750707"
      ]
     },
     "metadata": {},
     "output_type": "display_data"
    }
   ],
   "source": [
    "min(lasso.coef.10k[1,])\n",
    "max(lasso.coef.10k[1,])"
   ]
  },
  {
   "cell_type": "markdown",
   "metadata": {},
   "source": [
    "### Decision and Extra Tree files"
   ]
  },
  {
   "cell_type": "code",
   "execution_count": 4,
   "metadata": {},
   "outputs": [],
   "source": [
    "#decision tree files\n",
    "decision.tree.feature.importance.100 = read.csv(\"trees/DecisionTrees/100_decisiontree_feature_importance_all.csv\", sep=\",\", dec=\".\")\n",
    "extra.tree.feature.importance.100 = read.csv(\"trees/ExtraTrees/100_extra_tree_feature_importance_all.csv\", sep=\",\", dec=\".\")\n",
    "decision.tree.accuracy.100 = read.csv(\"trees/100_Accuracy.csv\", sep=\",\", dec=\".\")\n",
    "#trim decision tree data\n",
    "dimnames(decision.tree.feature.importance.100)[[1]] <- decision.tree.feature.importance.100[,1]\n",
    "decision.tree.feature.importance.100 <- decision.tree.feature.importance.100[, -1]\n",
    "dimnames(extra.tree.feature.importance.100)[[1]] <- extra.tree.feature.importance.100[,1]\n",
    "extra.tree.feature.importance.100 <- extra.tree.feature.importance.100[, -1]\n",
    "dimnames(decision.tree.accuracy.100)[[1]] <- decision.tree.accuracy.100[,1]\n",
    "decision.tree.accuracy.100 <- decision.tree.accuracy.100[, -1]\n",
    "#fix column names for unity across data\n",
    "rownames(decision.tree.feature.importance.100) = rownames(log.reg.coef.100)\n",
    "rownames(extra.tree.feature.importance.100) = rownames(log.reg.coef.100)\n",
    "rownames(decision.tree.accuracy.100) = rownames(log.reg.coef.100)\n",
    "\n",
    "#decision tree files\n",
    "decision.tree.feature.importance.1k = read.csv(\"trees/DecisionTrees/1k_decisiontree_feature_importance_all.csv\", sep=\",\", dec=\".\")\n",
    "extra.tree.feature.importance.1k = read.csv(\"trees/ExtraTrees/1k_extra_tree_feature_importance_all.csv\", sep=\",\", dec=\".\")\n",
    "decision.tree.accuracy.1k = read.csv(\"trees/1k_Accuracy.csv\", sep=\",\", dec=\".\")\n",
    "#trim decision tree data\n",
    "dimnames(decision.tree.feature.importance.1k)[[1]] <- decision.tree.feature.importance.1k[,1]\n",
    "decision.tree.feature.importance.1k <- decision.tree.feature.importance.1k[, -1]\n",
    "dimnames(extra.tree.feature.importance.1k)[[1]] <- extra.tree.feature.importance.1k[,1]\n",
    "extra.tree.feature.importance.1k <- extra.tree.feature.importance.1k[, -1]\n",
    "dimnames(decision.tree.accuracy.1k)[[1]] <- decision.tree.accuracy.1k[,1]\n",
    "decision.tree.accuracy.1k <- decision.tree.accuracy.1k[, -1]\n",
    "#fix column names for unity across data\n",
    "rownames(decision.tree.feature.importance.1k) = rownames(log.reg.coef.1k)\n",
    "rownames(extra.tree.feature.importance.1k) = rownames(log.reg.coef.1k)\n",
    "rownames(decision.tree.accuracy.1k) = rownames(log.reg.coef.1k)\n",
    "\n",
    "#decision tree files\n",
    "decision.tree.feature.importance.2.5k = read.csv(\"trees/DecisionTrees/2.5k_decisiontree_feature_importance_all.csv\", sep=\",\", dec=\".\")\n",
    "extra.tree.feature.importance.2.5k = read.csv(\"trees/ExtraTrees/2.5k_extra_tree_feature_importance_all.csv\", sep=\",\", dec=\".\")\n",
    "decision.tree.accuracy.2.5k = read.csv(\"trees/2.5k_Accuracy.csv\", sep=\",\", dec=\".\")\n",
    "#trim decision tree data\n",
    "dimnames(decision.tree.feature.importance.2.5k)[[1]] <- decision.tree.feature.importance.2.5k[,1]\n",
    "decision.tree.feature.importance.2.5k <- decision.tree.feature.importance.2.5k[, -1]\n",
    "dimnames(extra.tree.feature.importance.2.5k)[[1]] <- extra.tree.feature.importance.2.5k[,1]\n",
    "extra.tree.feature.importance.2.5k <- extra.tree.feature.importance.2.5k[, -1]\n",
    "dimnames(decision.tree.accuracy.2.5k)[[1]] <- decision.tree.accuracy.2.5k[,1]\n",
    "decision.tree.accuracy.2.5k <- decision.tree.accuracy.2.5k[, -1]\n",
    "#fix column names for unity across data\n",
    "rownames(decision.tree.feature.importance.2.5k) = rownames(log.reg.coef.2.5k)\n",
    "rownames(extra.tree.feature.importance.2.5k) = rownames(log.reg.coef.2.5k)\n",
    "rownames(decision.tree.accuracy.2.5k) = rownames(log.reg.coef.2.5k)\n",
    "\n",
    "#decision tree files\n",
    "decision.tree.feature.importance.5k = read.csv(\"trees/DecisionTrees/5k_decisiontree_feature_importance_all.csv\", sep=\",\", dec=\".\")\n",
    "extra.tree.feature.importance.5k = read.csv(\"trees/ExtraTrees/5k_extra_tree_feature_importance_all.csv\", sep=\",\", dec=\".\")\n",
    "decision.tree.accuracy.5k = read.csv(\"trees/5k_Accuracy.csv\", sep=\",\", dec=\".\")\n",
    "#trim decision tree data\n",
    "dimnames(decision.tree.feature.importance.5k)[[1]] <- decision.tree.feature.importance.5k[,1]\n",
    "decision.tree.feature.importance.5k <- decision.tree.feature.importance.5k[, -1]\n",
    "dimnames(extra.tree.feature.importance.5k)[[1]] <- extra.tree.feature.importance.5k[,1]\n",
    "extra.tree.feature.importance.5k <- extra.tree.feature.importance.5k[, -1]\n",
    "dimnames(decision.tree.accuracy.5k)[[1]] <- decision.tree.accuracy.5k[,1]\n",
    "decision.tree.accuracy.5k <- decision.tree.accuracy.5k[, -1]\n",
    "#fix column names for unity across data\n",
    "rownames(decision.tree.feature.importance.5k) = rownames(log.reg.coef.5k)\n",
    "rownames(extra.tree.feature.importance.5k) = rownames(log.reg.coef.5k)\n",
    "rownames(decision.tree.accuracy.5k) = rownames(log.reg.coef.5k)\n",
    "\n",
    "#decision tree files\n",
    "decision.tree.feature.importance.10k = read.csv(\"trees/DecisionTrees/10k_decisiontree_feature_importance_all.csv\", sep=\",\", dec=\".\")\n",
    "extra.tree.feature.importance.10k = read.csv(\"trees/ExtraTrees/10k_extra_tree_feature_importance_all.csv\", sep=\",\", dec=\".\")\n",
    "decision.tree.accuracy.10k = read.csv(\"trees/10k_Accuracy.csv\", sep=\",\", dec=\".\")\n",
    "#trim decision tree data\n",
    "dimnames(decision.tree.feature.importance.10k)[[1]] <- decision.tree.feature.importance.10k[,1]\n",
    "decision.tree.feature.importance.10k <- decision.tree.feature.importance.10k[, -1]\n",
    "dimnames(extra.tree.feature.importance.10k)[[1]] <- extra.tree.feature.importance.10k[,1]\n",
    "extra.tree.feature.importance.10k <- extra.tree.feature.importance.10k[, -1]\n",
    "dimnames(decision.tree.accuracy.10k)[[1]] <- decision.tree.accuracy.10k[,1]\n",
    "decision.tree.accuracy.10k <- decision.tree.accuracy.10k[, -1]\n",
    "#fix column names for unity across data\n",
    "rownames(decision.tree.feature.importance.10k) = rownames(log.reg.coef.10k)\n",
    "rownames(extra.tree.feature.importance.10k) = rownames(log.reg.coef.10k)\n",
    "rownames(decision.tree.accuracy.10k) = rownames(log.reg.coef.10k)\n",
    "\n",
    "#sanity check\n",
    "# dim(decision.tree.feature.importance)\n",
    "# dim(extra.tree.feature.importance)\n",
    "# dim(decision.tree.accuracy)\n",
    "# decision.tree.accuracy\n",
    "# decision.tree.feature.importance[, 1:6]\n",
    "# extra.tree.feature.importance[, 1:6]"
   ]
  },
  {
   "cell_type": "markdown",
   "metadata": {},
   "source": [
    "### Neural Network files"
   ]
  },
  {
   "cell_type": "code",
   "execution_count": 7,
   "metadata": {},
   "outputs": [],
   "source": [
    "#neural net files\n",
    "neural.net.unnormalized.10k = read.csv(\"nn/unnormalized_values_10k.csv\", sep=\",\", dec=\".\")\n",
    "neural.net.unnormalized.5k = read.csv(\"nn/unnormalized_values_5k.csv\", sep=\",\", dec=\".\")\n",
    "neural.net.unnormalized.2.5k = read.csv(\"nn/unnormalized_values_2.5k.csv\", sep=\",\", dec=\".\")\n",
    "neural.net.unnormalized.1k = read.csv(\"nn/unnormalized_values_1k.csv\", sep=\",\", dec=\".\")\n",
    "neural.net.unnormalized.100 = read.csv(\"nn/unnormalized_values_100.csv\", sep=\",\", dec=\".\")\n",
    "neural.net.normalized.10k = read.csv(\"nn/normalized_values_10k.csv\", sep=\",\", dec=\".\")\n",
    "neural.net.normalized.5k = read.csv(\"nn/normalized_values_5k.csv\", sep=\",\", dec=\".\")\n",
    "neural.net.normalized.2.5k = read.csv(\"nn/normalized_values_2.5k.csv\", sep=\",\", dec=\".\")\n",
    "neural.net.normalized.1k = read.csv(\"nn/normalized_values_1k.csv\", sep=\",\", dec=\".\")\n",
    "neural.net.normalized.100 = read.csv(\"nn/normalized_values_100.csv\", sep=\",\", dec=\".\")\n",
    "#trim neural net files\n",
    "dimnames(neural.net.unnormalized.10k)[[1]] <- neural.net.unnormalized.10k[,1]\n",
    "neural.net.unnormalized.10k <- neural.net.unnormalized.10k[, -1]\n",
    "dimnames(neural.net.unnormalized.5k)[[1]] <- neural.net.unnormalized.5k[,1]\n",
    "neural.net.unnormalized.5k <- neural.net.unnormalized.5k[, -1]\n",
    "dimnames(neural.net.unnormalized.2.5k)[[1]] <- neural.net.unnormalized.2.5k[,1]\n",
    "neural.net.unnormalized.2.5k <- neural.net.unnormalized.2.5k[, -1]\n",
    "dimnames(neural.net.unnormalized.1k)[[1]] <- neural.net.unnormalized.1k[,1]\n",
    "neural.net.unnormalized.1k <- neural.net.unnormalized.1k[, -1]\n",
    "dimnames(neural.net.unnormalized.100)[[1]] <- neural.net.unnormalized.100[,1]\n",
    "neural.net.unnormalized.100 <- neural.net.unnormalized.100[, -1]\n",
    "dimnames(neural.net.normalized.10k)[[1]] <- neural.net.normalized.10k[,1]\n",
    "neural.net.normalized.10k <- neural.net.normalized.10k[, -1]\n",
    "dimnames(neural.net.normalized.5k)[[1]] <- neural.net.normalized.5k[,1]\n",
    "neural.net.normalized.5k <- neural.net.normalized.5k[, -1]\n",
    "dimnames(neural.net.normalized.2.5k)[[1]] <- neural.net.normalized.2.5k[,1]\n",
    "neural.net.normalized.2.5k <- neural.net.normalized.2.5k[, -1]\n",
    "dimnames(neural.net.normalized.1k)[[1]] <- neural.net.normalized.1k[,1]\n",
    "neural.net.normalized.1k <- neural.net.normalized.1k[, -1]\n",
    "dimnames(neural.net.normalized.100)[[1]] <- neural.net.normalized.100[,1]\n",
    "neural.net.normalized.100 <- neural.net.normalized.100[, -1]\n",
    "\n",
    "#fix row names for unity across data\n",
    "rownames(neural.net.unnormalized.10k) = rownames(log.reg.coef.10k)\n",
    "rownames(neural.net.unnormalized.5k) = rownames(log.reg.coef.10k)\n",
    "rownames(neural.net.unnormalized.2.5k) = rownames(log.reg.coef.10k)\n",
    "rownames(neural.net.unnormalized.1k) = rownames(log.reg.coef.10k)\n",
    "rownames(neural.net.unnormalized.100) = rownames(log.reg.coef.10k)\n",
    "rownames(neural.net.normalized.10k) = rownames(log.reg.coef.10k)\n",
    "rownames(neural.net.normalized.5k) = rownames(log.reg.coef.10k)\n",
    "rownames(neural.net.normalized.2.5k) = rownames(log.reg.coef.10k)\n",
    "rownames(neural.net.normalized.1k) = rownames(log.reg.coef.10k)\n",
    "rownames(neural.net.normalized.100) = rownames(log.reg.coef.10k)"
   ]
  },
  {
   "cell_type": "code",
   "execution_count": null,
   "metadata": {},
   "outputs": [],
   "source": [
    "#sanity check\n",
    "# dim(neural.net.unnormalized.10k)\n",
    "# dim(neural.net.unnormalized.5k)\n",
    "# dim(neural.net.unnormalized.2.5k)\n",
    "# dim(neural.net.unnormalized.1k)\n",
    "# dim(neural.net.normalized.10k)\n",
    "# dim(neural.net.normalized.5k)\n",
    "# dim(neural.net.normalized.2.5k)\n",
    "# dim(neural.net.normalized.1k)\n",
    "\n",
    "# neural.net.unnormalized.10k[, 1:6]\n",
    "# neural.net.normalized.10k[, 1:6]\n",
    "# neural.net.unnormalized.5k[, 1:6]\n",
    "# neural.net.normalized.5k[, 1:6]\n",
    "# neural.net.unnormalized.2.5k[, 1:6]\n",
    "# neural.net.normalized.2.5k[, 1:6]\n",
    "# neural.net.unnormalized.1k[, 1:6]\n",
    "# neural.net.normalized.1k[, 1:6]\n",
    "\n",
    "#min(neural.net.normalized.10k[1,])\n",
    "#max(neural.net.normalized.10k[1,])\n",
    "#min(neural.net.normalized.5k[1,])\n",
    "#max(neural.net.normalized.5k[1,])\n",
    "#min(neural.net.normalized.2.5k[1,])\n",
    "#max(neural.net.normalized.2.5k[1,])\n",
    "#min(neural.net.normalized.1k[1,])\n",
    "#max(neural.net.normalized.1k[1,])\n",
    "#min(neural.net.normalized.100[1,])\n",
    "#max(neural.net.normalized.100[1,])"
   ]
  },
  {
   "cell_type": "code",
   "execution_count": 8,
   "metadata": {},
   "outputs": [
    {
     "name": "stderr",
     "output_type": "stream",
     "text": [
      "Warning message in read.table(file = file, header = header, sep = sep, quote = quote, :\n",
      "“incomplete final line found by readTableHeader on 'nn/Accuracies.csv'”"
     ]
    }
   ],
   "source": [
    "nn.acc = read.csv(\"nn/Accuracies.csv\", sep=\",\", dec=\".\", header=F)\n",
    "dimnames(nn.acc)[[1]] <- nn.acc[,1]\n",
    "nn.acc <- nn.acc[,-1]\n",
    "dimnames(nn.acc)[[2]] <- c(\"Fold1\", \"Fold2\", \"Fold3\", \"Fold4\", \"Fold5\")"
   ]
  },
  {
   "cell_type": "code",
   "execution_count": 9,
   "metadata": {},
   "outputs": [
    {
     "data": {
      "text/html": [
       "<table>\n",
       "<thead><tr><th></th><th scope=col>10k</th><th scope=col>5k</th><th scope=col>2.5k</th><th scope=col>1k</th><th scope=col>100</th></tr></thead>\n",
       "<tbody>\n",
       "\t<tr><th scope=row>Fold1</th><td>0.8611</td><td>0.8889</td><td>0.9167</td><td>0.8889</td><td>0.6667</td></tr>\n",
       "\t<tr><th scope=row>Fold2</th><td>0.9167</td><td>0.8333</td><td>0.9167</td><td>0.8611</td><td>0.6667</td></tr>\n",
       "\t<tr><th scope=row>Fold3</th><td>0.8571</td><td>0.9143</td><td>0.9429</td><td>0.9714</td><td>0.7143</td></tr>\n",
       "\t<tr><th scope=row>Fold4</th><td>0.8571</td><td>0.7143</td><td>0.7714</td><td>0.8857</td><td>0.7714</td></tr>\n",
       "\t<tr><th scope=row>Fold5</th><td>0.9143</td><td>0.8286</td><td>0.9143</td><td>0.9429</td><td>0.7429</td></tr>\n",
       "</tbody>\n",
       "</table>\n"
      ],
      "text/latex": [
       "\\begin{tabular}{r|lllll}\n",
       "  & 10k & 5k & 2.5k & 1k & 100\\\\\n",
       "\\hline\n",
       "\tFold1 & 0.8611 & 0.8889 & 0.9167 & 0.8889 & 0.6667\\\\\n",
       "\tFold2 & 0.9167 & 0.8333 & 0.9167 & 0.8611 & 0.6667\\\\\n",
       "\tFold3 & 0.8571 & 0.9143 & 0.9429 & 0.9714 & 0.7143\\\\\n",
       "\tFold4 & 0.8571 & 0.7143 & 0.7714 & 0.8857 & 0.7714\\\\\n",
       "\tFold5 & 0.9143 & 0.8286 & 0.9143 & 0.9429 & 0.7429\\\\\n",
       "\\end{tabular}\n"
      ],
      "text/markdown": [
       "\n",
       "| <!--/--> | 10k | 5k | 2.5k | 1k | 100 |\n",
       "|---|---|---|---|---|---|\n",
       "| Fold1 | 0.8611 | 0.8889 | 0.9167 | 0.8889 | 0.6667 |\n",
       "| Fold2 | 0.9167 | 0.8333 | 0.9167 | 0.8611 | 0.6667 |\n",
       "| Fold3 | 0.8571 | 0.9143 | 0.9429 | 0.9714 | 0.7143 |\n",
       "| Fold4 | 0.8571 | 0.7143 | 0.7714 | 0.8857 | 0.7714 |\n",
       "| Fold5 | 0.9143 | 0.8286 | 0.9143 | 0.9429 | 0.7429 |\n",
       "\n"
      ],
      "text/plain": [
       "      10k    5k     2.5k   1k     100   \n",
       "Fold1 0.8611 0.8889 0.9167 0.8889 0.6667\n",
       "Fold2 0.9167 0.8333 0.9167 0.8611 0.6667\n",
       "Fold3 0.8571 0.9143 0.9429 0.9714 0.7143\n",
       "Fold4 0.8571 0.7143 0.7714 0.8857 0.7714\n",
       "Fold5 0.9143 0.8286 0.9143 0.9429 0.7429"
      ]
     },
     "metadata": {},
     "output_type": "display_data"
    }
   ],
   "source": [
    "nn.acc <- t(nn.acc)\n",
    "nn.acc"
   ]
  },
  {
   "cell_type": "markdown",
   "metadata": {},
   "source": [
    "# Normalize data"
   ]
  },
  {
   "cell_type": "markdown",
   "metadata": {},
   "source": [
    "### Logistic Regression data"
   ]
  },
  {
   "cell_type": "code",
   "execution_count": 30,
   "metadata": {},
   "outputs": [],
   "source": [
    "#normalize log reg coefficients\n",
    "log.reg.coef.norm.10k = matrix(ncol = ncol(log.reg.coef.10k))\n",
    "log.reg.coef.norm.5k = matrix(ncol = ncol(log.reg.coef.5k))\n",
    "log.reg.coef.norm.2.5k = matrix(ncol = ncol(log.reg.coef.2.5k))\n",
    "log.reg.coef.norm.1k = matrix(ncol = ncol(log.reg.coef.1k))\n",
    "log.reg.coef.norm.100 = matrix(ncol = ncol(log.reg.coef.100))\n",
    "\n",
    "colnames(log.reg.coef.norm.10k) = colnames(log.reg.coef.10k)\n",
    "colnames(log.reg.coef.norm.5k) = colnames(log.reg.coef.5k)\n",
    "colnames(log.reg.coef.norm.2.5k) = colnames(log.reg.coef.2.5k)\n",
    "colnames(log.reg.coef.norm.1k) = colnames(log.reg.coef.1k)\n",
    "colnames(log.reg.coef.norm.100) = colnames(log.reg.coef.100)\n",
    "\n",
    "for (i in 1:nrow(log.reg.coef.10k)) {\n",
    "    #normalize\n",
    "    temp.10k = (log.reg.coef.10k[i,] - min(log.reg.coef.10k[i,], na.rm=T)) / (max(log.reg.coef.10k[i,], na.rm=T) - min(log.reg.coef.10k[i,], na.rm=T))\n",
    "    temp.5k = (log.reg.coef.5k[i,] - min(log.reg.coef.5k[i,], na.rm=T)) / (max(log.reg.coef.5k[i,], na.rm=T) - min(log.reg.coef.5k[i,], na.rm=T))\n",
    "    temp.2.5k = (log.reg.coef.2.5k[i,] - min(log.reg.coef.2.5k[i,], na.rm=T)) / (max(log.reg.coef.2.5k[i,], na.rm=T) - min(log.reg.coef.2.5k[i,], na.rm=T))\n",
    "    temp.1k = (log.reg.coef.1k[i,] - min(log.reg.coef.1k[i,], na.rm=T)) / (max(log.reg.coef.1k[i,], na.rm=T) - min(log.reg.coef.1k[i,], na.rm=T))\n",
    "    temp.100 = (log.reg.coef.100[i,] - min(log.reg.coef.100[i,], na.rm=T)) / (max(log.reg.coef.100[i,], na.rm=T) - min(log.reg.coef.100[i,], na.rm=T))\n",
    "\n",
    "    log.reg.coef.norm.10k = rbind(log.reg.coef.norm.10k, temp.10k)\n",
    "    log.reg.coef.norm.5k = rbind(log.reg.coef.norm.5k, temp.5k)\n",
    "    log.reg.coef.norm.2.5k = rbind(log.reg.coef.norm.2.5k, temp.2.5k)\n",
    "    log.reg.coef.norm.1k = rbind(log.reg.coef.norm.1k, temp.1k)\n",
    "    log.reg.coef.norm.100 = rbind(log.reg.coef.norm.100, temp.100)\n",
    "    #remove NAs\n",
    "    log.reg.coef.norm.10k[is.na(log.reg.coef.norm.10k)] = 0\n",
    "    log.reg.coef.norm.5k[is.na(log.reg.coef.norm.5k)] = 0\n",
    "    log.reg.coef.norm.2.5k[is.na(log.reg.coef.norm.2.5k)] = 0\n",
    "    log.reg.coef.norm.1k[is.na(log.reg.coef.norm.1k)] = 0\n",
    "    log.reg.coef.norm.100[is.na(log.reg.coef.norm.100)] = 0\n",
    "}\n",
    "#remove empty first row\n",
    "log.reg.coef.norm.10k = log.reg.coef.norm.10k[-1,]\n",
    "log.reg.coef.norm.5k = log.reg.coef.norm.5k[-1,]\n",
    "log.reg.coef.norm.2.5k = log.reg.coef.norm.2.5k[-1,]\n",
    "log.reg.coef.norm.1k = log.reg.coef.norm.1k[-1,]\n",
    "log.reg.coef.norm.100 = log.reg.coef.norm.100[-1,]"
   ]
  },
  {
   "cell_type": "code",
   "execution_count": 31,
   "metadata": {},
   "outputs": [
    {
     "data": {
      "text/html": [
       "<table>\n",
       "<thead><tr><th></th><th scope=col>ENSG00000000003.13</th><th scope=col>ENSG00000000971.14</th><th scope=col>ENSG00000001084.9</th><th scope=col>ENSG00000001167.13</th><th scope=col>ENSG00000001461.15</th><th scope=col>ENSG00000001561.6</th><th scope=col>ENSG00000001631.13</th><th scope=col>ENSG00000002330.12</th><th scope=col>ENSG00000002586.16</th><th scope=col>ENSG00000002587.8</th><th scope=col>ENSG00000002746.13</th><th scope=col>ENSG00000002933.6</th><th scope=col>ENSG00000003137.7</th><th scope=col>ENSG00000003393.13</th><th scope=col>ENSG00000003436.13</th><th scope=col>ENSG00000003509.14</th><th scope=col>ENSG00000004059.9</th><th scope=col>ENSG00000004139.12</th><th scope=col>ENSG00000004399.11</th><th scope=col>ENSG00000004455.15</th></tr></thead>\n",
       "<tbody>\n",
       "\t<tr><th scope=row>Fold 1_10k</th><td>0.4994409 </td><td>0.5274549 </td><td>0.3859824 </td><td>0.9290671 </td><td>0.4490394 </td><td>0.5002010 </td><td>0.3390382 </td><td>0.5275156 </td><td>0.67284726</td><td>0.4434763 </td><td>0.5624553 </td><td>0.6114496 </td><td>0.4713236 </td><td>0.4775565 </td><td>0.5005781 </td><td>0.7960521 </td><td>0.2515649 </td><td>0.3868422 </td><td>0.2614419 </td><td>0.3917603 </td></tr>\n",
       "\t<tr><th scope=row>Fold 2_10k</th><td>0.4263767 </td><td>0.4122517 </td><td>0.2910652 </td><td>0.5115296 </td><td>0.4144736 </td><td>0.4632628 </td><td>0.4909473 </td><td>0.2310611 </td><td>0.29059612</td><td>0.4002197 </td><td>0.4253242 </td><td>0.4462235 </td><td>0.4172884 </td><td>0.4590470 </td><td>0.3754011 </td><td>0.0000000 </td><td>0.5997677 </td><td>0.3847155 </td><td>0.4534601 </td><td>0.5153158 </td></tr>\n",
       "\t<tr><th scope=row>Fold 3_10k</th><td>0.5768463 </td><td>0.5889738 </td><td>0.6822579 </td><td>0.3128962 </td><td>0.7553332 </td><td>0.5185495 </td><td>0.6014722 </td><td>0.7655831 </td><td>0.59560386</td><td>0.5964962 </td><td>0.5855597 </td><td>0.6062623 </td><td>0.6363694 </td><td>0.7009712 </td><td>0.6915449 </td><td>0.6349556 </td><td>0.8331848 </td><td>0.6453888 </td><td>0.5964337 </td><td>0.6064758 </td></tr>\n",
       "\t<tr><th scope=row>Fold 4_10k</th><td>0.4400798 </td><td>0.4662038 </td><td>0.3702467 </td><td>0.6008274 </td><td>0.0000000 </td><td>0.4780815 </td><td>0.2645380 </td><td>0.4891172 </td><td>0.09536906</td><td>0.4226290 </td><td>0.4684774 </td><td>0.3923205 </td><td>0.4681259 </td><td>0.4603120 </td><td>0.3080675 </td><td>0.6484615 </td><td>0.1593153 </td><td>0.4575572 </td><td>0.4363684 </td><td>1.0000000 </td></tr>\n",
       "\t<tr><th scope=row>Fold 5_10k</th><td>0.4796359 </td><td>0.6330226 </td><td>0.4204075 </td><td>0.6494225 </td><td>0.6703715 </td><td>0.6014687 </td><td>0.3283774 </td><td>0.8233051 </td><td>0.71959132</td><td>0.5833577 </td><td>0.5954208 </td><td>0.5701529 </td><td>0.6370190 </td><td>0.5485111 </td><td>0.6286785 </td><td>0.8783345 </td><td>0.7932950 </td><td>0.5915237 </td><td>0.4758804 </td><td>0.6005783 </td></tr>\n",
       "</tbody>\n",
       "</table>\n"
      ],
      "text/latex": [
       "\\begin{tabular}{r|llllllllllllllllllll}\n",
       "  & ENSG00000000003.13 & ENSG00000000971.14 & ENSG00000001084.9 & ENSG00000001167.13 & ENSG00000001461.15 & ENSG00000001561.6 & ENSG00000001631.13 & ENSG00000002330.12 & ENSG00000002586.16 & ENSG00000002587.8 & ENSG00000002746.13 & ENSG00000002933.6 & ENSG00000003137.7 & ENSG00000003393.13 & ENSG00000003436.13 & ENSG00000003509.14 & ENSG00000004059.9 & ENSG00000004139.12 & ENSG00000004399.11 & ENSG00000004455.15\\\\\n",
       "\\hline\n",
       "\tFold 1\\_10k & 0.4994409  & 0.5274549  & 0.3859824  & 0.9290671  & 0.4490394  & 0.5002010  & 0.3390382  & 0.5275156  & 0.67284726 & 0.4434763  & 0.5624553  & 0.6114496  & 0.4713236  & 0.4775565  & 0.5005781  & 0.7960521  & 0.2515649  & 0.3868422  & 0.2614419  & 0.3917603 \\\\\n",
       "\tFold 2\\_10k & 0.4263767  & 0.4122517  & 0.2910652  & 0.5115296  & 0.4144736  & 0.4632628  & 0.4909473  & 0.2310611  & 0.29059612 & 0.4002197  & 0.4253242  & 0.4462235  & 0.4172884  & 0.4590470  & 0.3754011  & 0.0000000  & 0.5997677  & 0.3847155  & 0.4534601  & 0.5153158 \\\\\n",
       "\tFold 3\\_10k & 0.5768463  & 0.5889738  & 0.6822579  & 0.3128962  & 0.7553332  & 0.5185495  & 0.6014722  & 0.7655831  & 0.59560386 & 0.5964962  & 0.5855597  & 0.6062623  & 0.6363694  & 0.7009712  & 0.6915449  & 0.6349556  & 0.8331848  & 0.6453888  & 0.5964337  & 0.6064758 \\\\\n",
       "\tFold 4\\_10k & 0.4400798  & 0.4662038  & 0.3702467  & 0.6008274  & 0.0000000  & 0.4780815  & 0.2645380  & 0.4891172  & 0.09536906 & 0.4226290  & 0.4684774  & 0.3923205  & 0.4681259  & 0.4603120  & 0.3080675  & 0.6484615  & 0.1593153  & 0.4575572  & 0.4363684  & 1.0000000 \\\\\n",
       "\tFold 5\\_10k & 0.4796359  & 0.6330226  & 0.4204075  & 0.6494225  & 0.6703715  & 0.6014687  & 0.3283774  & 0.8233051  & 0.71959132 & 0.5833577  & 0.5954208  & 0.5701529  & 0.6370190  & 0.5485111  & 0.6286785  & 0.8783345  & 0.7932950  & 0.5915237  & 0.4758804  & 0.6005783 \\\\\n",
       "\\end{tabular}\n"
      ],
      "text/markdown": [
       "\n",
       "| <!--/--> | ENSG00000000003.13 | ENSG00000000971.14 | ENSG00000001084.9 | ENSG00000001167.13 | ENSG00000001461.15 | ENSG00000001561.6 | ENSG00000001631.13 | ENSG00000002330.12 | ENSG00000002586.16 | ENSG00000002587.8 | ENSG00000002746.13 | ENSG00000002933.6 | ENSG00000003137.7 | ENSG00000003393.13 | ENSG00000003436.13 | ENSG00000003509.14 | ENSG00000004059.9 | ENSG00000004139.12 | ENSG00000004399.11 | ENSG00000004455.15 |\n",
       "|---|---|---|---|---|---|---|---|---|---|---|---|---|---|---|---|---|---|---|---|---|\n",
       "| Fold 1_10k | 0.4994409  | 0.5274549  | 0.3859824  | 0.9290671  | 0.4490394  | 0.5002010  | 0.3390382  | 0.5275156  | 0.67284726 | 0.4434763  | 0.5624553  | 0.6114496  | 0.4713236  | 0.4775565  | 0.5005781  | 0.7960521  | 0.2515649  | 0.3868422  | 0.2614419  | 0.3917603  |\n",
       "| Fold 2_10k | 0.4263767  | 0.4122517  | 0.2910652  | 0.5115296  | 0.4144736  | 0.4632628  | 0.4909473  | 0.2310611  | 0.29059612 | 0.4002197  | 0.4253242  | 0.4462235  | 0.4172884  | 0.4590470  | 0.3754011  | 0.0000000  | 0.5997677  | 0.3847155  | 0.4534601  | 0.5153158  |\n",
       "| Fold 3_10k | 0.5768463  | 0.5889738  | 0.6822579  | 0.3128962  | 0.7553332  | 0.5185495  | 0.6014722  | 0.7655831  | 0.59560386 | 0.5964962  | 0.5855597  | 0.6062623  | 0.6363694  | 0.7009712  | 0.6915449  | 0.6349556  | 0.8331848  | 0.6453888  | 0.5964337  | 0.6064758  |\n",
       "| Fold 4_10k | 0.4400798  | 0.4662038  | 0.3702467  | 0.6008274  | 0.0000000  | 0.4780815  | 0.2645380  | 0.4891172  | 0.09536906 | 0.4226290  | 0.4684774  | 0.3923205  | 0.4681259  | 0.4603120  | 0.3080675  | 0.6484615  | 0.1593153  | 0.4575572  | 0.4363684  | 1.0000000  |\n",
       "| Fold 5_10k | 0.4796359  | 0.6330226  | 0.4204075  | 0.6494225  | 0.6703715  | 0.6014687  | 0.3283774  | 0.8233051  | 0.71959132 | 0.5833577  | 0.5954208  | 0.5701529  | 0.6370190  | 0.5485111  | 0.6286785  | 0.8783345  | 0.7932950  | 0.5915237  | 0.4758804  | 0.6005783  |\n",
       "\n"
      ],
      "text/plain": [
       "           ENSG00000000003.13 ENSG00000000971.14 ENSG00000001084.9\n",
       "Fold 1_10k 0.4994409          0.5274549          0.3859824        \n",
       "Fold 2_10k 0.4263767          0.4122517          0.2910652        \n",
       "Fold 3_10k 0.5768463          0.5889738          0.6822579        \n",
       "Fold 4_10k 0.4400798          0.4662038          0.3702467        \n",
       "Fold 5_10k 0.4796359          0.6330226          0.4204075        \n",
       "           ENSG00000001167.13 ENSG00000001461.15 ENSG00000001561.6\n",
       "Fold 1_10k 0.9290671          0.4490394          0.5002010        \n",
       "Fold 2_10k 0.5115296          0.4144736          0.4632628        \n",
       "Fold 3_10k 0.3128962          0.7553332          0.5185495        \n",
       "Fold 4_10k 0.6008274          0.0000000          0.4780815        \n",
       "Fold 5_10k 0.6494225          0.6703715          0.6014687        \n",
       "           ENSG00000001631.13 ENSG00000002330.12 ENSG00000002586.16\n",
       "Fold 1_10k 0.3390382          0.5275156          0.67284726        \n",
       "Fold 2_10k 0.4909473          0.2310611          0.29059612        \n",
       "Fold 3_10k 0.6014722          0.7655831          0.59560386        \n",
       "Fold 4_10k 0.2645380          0.4891172          0.09536906        \n",
       "Fold 5_10k 0.3283774          0.8233051          0.71959132        \n",
       "           ENSG00000002587.8 ENSG00000002746.13 ENSG00000002933.6\n",
       "Fold 1_10k 0.4434763         0.5624553          0.6114496        \n",
       "Fold 2_10k 0.4002197         0.4253242          0.4462235        \n",
       "Fold 3_10k 0.5964962         0.5855597          0.6062623        \n",
       "Fold 4_10k 0.4226290         0.4684774          0.3923205        \n",
       "Fold 5_10k 0.5833577         0.5954208          0.5701529        \n",
       "           ENSG00000003137.7 ENSG00000003393.13 ENSG00000003436.13\n",
       "Fold 1_10k 0.4713236         0.4775565          0.5005781         \n",
       "Fold 2_10k 0.4172884         0.4590470          0.3754011         \n",
       "Fold 3_10k 0.6363694         0.7009712          0.6915449         \n",
       "Fold 4_10k 0.4681259         0.4603120          0.3080675         \n",
       "Fold 5_10k 0.6370190         0.5485111          0.6286785         \n",
       "           ENSG00000003509.14 ENSG00000004059.9 ENSG00000004139.12\n",
       "Fold 1_10k 0.7960521          0.2515649         0.3868422         \n",
       "Fold 2_10k 0.0000000          0.5997677         0.3847155         \n",
       "Fold 3_10k 0.6349556          0.8331848         0.6453888         \n",
       "Fold 4_10k 0.6484615          0.1593153         0.4575572         \n",
       "Fold 5_10k 0.8783345          0.7932950         0.5915237         \n",
       "           ENSG00000004399.11 ENSG00000004455.15\n",
       "Fold 1_10k 0.2614419          0.3917603         \n",
       "Fold 2_10k 0.4534601          0.5153158         \n",
       "Fold 3_10k 0.5964337          0.6064758         \n",
       "Fold 4_10k 0.4363684          1.0000000         \n",
       "Fold 5_10k 0.4758804          0.6005783         "
      ]
     },
     "metadata": {},
     "output_type": "display_data"
    },
    {
     "data": {
      "text/html": [
       "<table>\n",
       "<thead><tr><th></th><th scope=col>ENSG00000000003.13</th><th scope=col>ENSG00000000971.14</th><th scope=col>ENSG00000001084.9</th><th scope=col>ENSG00000001561.6</th><th scope=col>ENSG00000002586.16</th><th scope=col>ENSG00000002933.6</th><th scope=col>ENSG00000003137.7</th><th scope=col>ENSG00000003436.13</th><th scope=col>ENSG00000004139.12</th><th scope=col>ENSG00000004399.11</th><th scope=col>ENSG00000004455.15</th><th scope=col>ENSG00000004766.14</th><th scope=col>ENSG00000004777.17</th><th scope=col>ENSG00000004799.7</th><th scope=col>ENSG00000004809.12</th><th scope=col>ENSG00000004848.6</th><th scope=col>ENSG00000004939.12</th><th scope=col>ENSG00000005007.11</th><th scope=col>ENSG00000005073.5</th><th scope=col>ENSG00000005108.14</th></tr></thead>\n",
       "<tbody>\n",
       "\t<tr><th scope=row>Fold 1_5k</th><td>0.6053645</td><td>0.5138170</td><td>0.4840389</td><td>0.5578280</td><td>0.5455676</td><td>0.4917138</td><td>0.5921454</td><td>0.5564652</td><td>0.5117079</td><td>0.4101564</td><td>0.4490027</td><td>0.5674893</td><td>0.7512071</td><td>0.5353813</td><td>0.6917303</td><td>0.5589940</td><td>0.4476393</td><td>0.1817670</td><td>0.5366260</td><td>0.4961511</td></tr>\n",
       "\t<tr><th scope=row>Fold 2_5k</th><td>0.5309788</td><td>0.5060045</td><td>0.8515418</td><td>0.5472157</td><td>0.1764962</td><td>0.4669850</td><td>0.5761677</td><td>0.4797196</td><td>0.6565150</td><td>0.6907061</td><td>0.5123496</td><td>0.4856171</td><td>0.3222161</td><td>0.5574050</td><td>0.5729631</td><td>0.5710292</td><td>0.5295678</td><td>0.4665622</td><td>0.5425818</td><td>0.5143167</td></tr>\n",
       "\t<tr><th scope=row>Fold 3_5k</th><td>0.6208883</td><td>0.6483652</td><td>0.7393011</td><td>0.5801801</td><td>0.6247011</td><td>0.6430368</td><td>0.6649823</td><td>0.6124789</td><td>0.6981501</td><td>0.6784318</td><td>1.0000000</td><td>0.8068810</td><td>0.5884054</td><td>0.6452388</td><td>0.6726056</td><td>0.6201156</td><td>0.6240645</td><td>0.8831926</td><td>0.6035835</td><td>0.6058598</td></tr>\n",
       "\t<tr><th scope=row>Fold 4_5k</th><td>0.4522677</td><td>0.5067145</td><td>0.4495335</td><td>0.4956459</td><td>0.3705868</td><td>0.5432256</td><td>0.3494214</td><td>0.5487531</td><td>0.5697358</td><td>0.2886969</td><td>0.2060035</td><td>0.4046327</td><td>0.3422141</td><td>0.4376511</td><td>0.5832821</td><td>0.5590124</td><td>0.4060708</td><td>0.6222456</td><td>0.5248528</td><td>0.4572076</td></tr>\n",
       "\t<tr><th scope=row>Fold 5_5k</th><td>0.6507551</td><td>0.5726229</td><td>0.4809076</td><td>0.6215375</td><td>0.5560941</td><td>0.5817704</td><td>0.6674687</td><td>0.6542518</td><td>0.6161791</td><td>1.0000000</td><td>0.6077177</td><td>0.6044042</td><td>0.1637445</td><td>0.5288212</td><td>0.8511790</td><td>0.5060423</td><td>0.5685179</td><td>0.6108091</td><td>0.5701453</td><td>0.5086609</td></tr>\n",
       "</tbody>\n",
       "</table>\n"
      ],
      "text/latex": [
       "\\begin{tabular}{r|llllllllllllllllllll}\n",
       "  & ENSG00000000003.13 & ENSG00000000971.14 & ENSG00000001084.9 & ENSG00000001561.6 & ENSG00000002586.16 & ENSG00000002933.6 & ENSG00000003137.7 & ENSG00000003436.13 & ENSG00000004139.12 & ENSG00000004399.11 & ENSG00000004455.15 & ENSG00000004766.14 & ENSG00000004777.17 & ENSG00000004799.7 & ENSG00000004809.12 & ENSG00000004848.6 & ENSG00000004939.12 & ENSG00000005007.11 & ENSG00000005073.5 & ENSG00000005108.14\\\\\n",
       "\\hline\n",
       "\tFold 1\\_5k & 0.6053645 & 0.5138170 & 0.4840389 & 0.5578280 & 0.5455676 & 0.4917138 & 0.5921454 & 0.5564652 & 0.5117079 & 0.4101564 & 0.4490027 & 0.5674893 & 0.7512071 & 0.5353813 & 0.6917303 & 0.5589940 & 0.4476393 & 0.1817670 & 0.5366260 & 0.4961511\\\\\n",
       "\tFold 2\\_5k & 0.5309788 & 0.5060045 & 0.8515418 & 0.5472157 & 0.1764962 & 0.4669850 & 0.5761677 & 0.4797196 & 0.6565150 & 0.6907061 & 0.5123496 & 0.4856171 & 0.3222161 & 0.5574050 & 0.5729631 & 0.5710292 & 0.5295678 & 0.4665622 & 0.5425818 & 0.5143167\\\\\n",
       "\tFold 3\\_5k & 0.6208883 & 0.6483652 & 0.7393011 & 0.5801801 & 0.6247011 & 0.6430368 & 0.6649823 & 0.6124789 & 0.6981501 & 0.6784318 & 1.0000000 & 0.8068810 & 0.5884054 & 0.6452388 & 0.6726056 & 0.6201156 & 0.6240645 & 0.8831926 & 0.6035835 & 0.6058598\\\\\n",
       "\tFold 4\\_5k & 0.4522677 & 0.5067145 & 0.4495335 & 0.4956459 & 0.3705868 & 0.5432256 & 0.3494214 & 0.5487531 & 0.5697358 & 0.2886969 & 0.2060035 & 0.4046327 & 0.3422141 & 0.4376511 & 0.5832821 & 0.5590124 & 0.4060708 & 0.6222456 & 0.5248528 & 0.4572076\\\\\n",
       "\tFold 5\\_5k & 0.6507551 & 0.5726229 & 0.4809076 & 0.6215375 & 0.5560941 & 0.5817704 & 0.6674687 & 0.6542518 & 0.6161791 & 1.0000000 & 0.6077177 & 0.6044042 & 0.1637445 & 0.5288212 & 0.8511790 & 0.5060423 & 0.5685179 & 0.6108091 & 0.5701453 & 0.5086609\\\\\n",
       "\\end{tabular}\n"
      ],
      "text/markdown": [
       "\n",
       "| <!--/--> | ENSG00000000003.13 | ENSG00000000971.14 | ENSG00000001084.9 | ENSG00000001561.6 | ENSG00000002586.16 | ENSG00000002933.6 | ENSG00000003137.7 | ENSG00000003436.13 | ENSG00000004139.12 | ENSG00000004399.11 | ENSG00000004455.15 | ENSG00000004766.14 | ENSG00000004777.17 | ENSG00000004799.7 | ENSG00000004809.12 | ENSG00000004848.6 | ENSG00000004939.12 | ENSG00000005007.11 | ENSG00000005073.5 | ENSG00000005108.14 |\n",
       "|---|---|---|---|---|---|---|---|---|---|---|---|---|---|---|---|---|---|---|---|---|\n",
       "| Fold 1_5k | 0.6053645 | 0.5138170 | 0.4840389 | 0.5578280 | 0.5455676 | 0.4917138 | 0.5921454 | 0.5564652 | 0.5117079 | 0.4101564 | 0.4490027 | 0.5674893 | 0.7512071 | 0.5353813 | 0.6917303 | 0.5589940 | 0.4476393 | 0.1817670 | 0.5366260 | 0.4961511 |\n",
       "| Fold 2_5k | 0.5309788 | 0.5060045 | 0.8515418 | 0.5472157 | 0.1764962 | 0.4669850 | 0.5761677 | 0.4797196 | 0.6565150 | 0.6907061 | 0.5123496 | 0.4856171 | 0.3222161 | 0.5574050 | 0.5729631 | 0.5710292 | 0.5295678 | 0.4665622 | 0.5425818 | 0.5143167 |\n",
       "| Fold 3_5k | 0.6208883 | 0.6483652 | 0.7393011 | 0.5801801 | 0.6247011 | 0.6430368 | 0.6649823 | 0.6124789 | 0.6981501 | 0.6784318 | 1.0000000 | 0.8068810 | 0.5884054 | 0.6452388 | 0.6726056 | 0.6201156 | 0.6240645 | 0.8831926 | 0.6035835 | 0.6058598 |\n",
       "| Fold 4_5k | 0.4522677 | 0.5067145 | 0.4495335 | 0.4956459 | 0.3705868 | 0.5432256 | 0.3494214 | 0.5487531 | 0.5697358 | 0.2886969 | 0.2060035 | 0.4046327 | 0.3422141 | 0.4376511 | 0.5832821 | 0.5590124 | 0.4060708 | 0.6222456 | 0.5248528 | 0.4572076 |\n",
       "| Fold 5_5k | 0.6507551 | 0.5726229 | 0.4809076 | 0.6215375 | 0.5560941 | 0.5817704 | 0.6674687 | 0.6542518 | 0.6161791 | 1.0000000 | 0.6077177 | 0.6044042 | 0.1637445 | 0.5288212 | 0.8511790 | 0.5060423 | 0.5685179 | 0.6108091 | 0.5701453 | 0.5086609 |\n",
       "\n"
      ],
      "text/plain": [
       "          ENSG00000000003.13 ENSG00000000971.14 ENSG00000001084.9\n",
       "Fold 1_5k 0.6053645          0.5138170          0.4840389        \n",
       "Fold 2_5k 0.5309788          0.5060045          0.8515418        \n",
       "Fold 3_5k 0.6208883          0.6483652          0.7393011        \n",
       "Fold 4_5k 0.4522677          0.5067145          0.4495335        \n",
       "Fold 5_5k 0.6507551          0.5726229          0.4809076        \n",
       "          ENSG00000001561.6 ENSG00000002586.16 ENSG00000002933.6\n",
       "Fold 1_5k 0.5578280         0.5455676          0.4917138        \n",
       "Fold 2_5k 0.5472157         0.1764962          0.4669850        \n",
       "Fold 3_5k 0.5801801         0.6247011          0.6430368        \n",
       "Fold 4_5k 0.4956459         0.3705868          0.5432256        \n",
       "Fold 5_5k 0.6215375         0.5560941          0.5817704        \n",
       "          ENSG00000003137.7 ENSG00000003436.13 ENSG00000004139.12\n",
       "Fold 1_5k 0.5921454         0.5564652          0.5117079         \n",
       "Fold 2_5k 0.5761677         0.4797196          0.6565150         \n",
       "Fold 3_5k 0.6649823         0.6124789          0.6981501         \n",
       "Fold 4_5k 0.3494214         0.5487531          0.5697358         \n",
       "Fold 5_5k 0.6674687         0.6542518          0.6161791         \n",
       "          ENSG00000004399.11 ENSG00000004455.15 ENSG00000004766.14\n",
       "Fold 1_5k 0.4101564          0.4490027          0.5674893         \n",
       "Fold 2_5k 0.6907061          0.5123496          0.4856171         \n",
       "Fold 3_5k 0.6784318          1.0000000          0.8068810         \n",
       "Fold 4_5k 0.2886969          0.2060035          0.4046327         \n",
       "Fold 5_5k 1.0000000          0.6077177          0.6044042         \n",
       "          ENSG00000004777.17 ENSG00000004799.7 ENSG00000004809.12\n",
       "Fold 1_5k 0.7512071          0.5353813         0.6917303         \n",
       "Fold 2_5k 0.3222161          0.5574050         0.5729631         \n",
       "Fold 3_5k 0.5884054          0.6452388         0.6726056         \n",
       "Fold 4_5k 0.3422141          0.4376511         0.5832821         \n",
       "Fold 5_5k 0.1637445          0.5288212         0.8511790         \n",
       "          ENSG00000004848.6 ENSG00000004939.12 ENSG00000005007.11\n",
       "Fold 1_5k 0.5589940         0.4476393          0.1817670         \n",
       "Fold 2_5k 0.5710292         0.5295678          0.4665622         \n",
       "Fold 3_5k 0.6201156         0.6240645          0.8831926         \n",
       "Fold 4_5k 0.5590124         0.4060708          0.6222456         \n",
       "Fold 5_5k 0.5060423         0.5685179          0.6108091         \n",
       "          ENSG00000005073.5 ENSG00000005108.14\n",
       "Fold 1_5k 0.5366260         0.4961511         \n",
       "Fold 2_5k 0.5425818         0.5143167         \n",
       "Fold 3_5k 0.6035835         0.6058598         \n",
       "Fold 4_5k 0.5248528         0.4572076         \n",
       "Fold 5_5k 0.5701453         0.5086609         "
      ]
     },
     "metadata": {},
     "output_type": "display_data"
    },
    {
     "data": {
      "text/html": [
       "<table>\n",
       "<thead><tr><th></th><th scope=col>ENSG00000000003.13</th><th scope=col>ENSG00000000971.14</th><th scope=col>ENSG00000001561.6</th><th scope=col>ENSG00000002586.16</th><th scope=col>ENSG00000003137.7</th><th scope=col>ENSG00000003436.13</th><th scope=col>ENSG00000004139.12</th><th scope=col>ENSG00000004399.11</th><th scope=col>ENSG00000004455.15</th><th scope=col>ENSG00000005073.5</th><th scope=col>ENSG00000005108.14</th><th scope=col>ENSG00000005156.10</th><th scope=col>ENSG00000005249.11</th><th scope=col>ENSG00000005381.7</th><th scope=col>ENSG00000005421.7</th><th scope=col>ENSG00000005513.9</th><th scope=col>ENSG00000006377.10</th><th scope=col>ENSG00000006432.14</th><th scope=col>ENSG00000006451.6</th><th scope=col>ENSG00000006468.12</th></tr></thead>\n",
       "<tbody>\n",
       "\t<tr><th scope=row>Fold 1_2.5k</th><td>0.4220371 </td><td>0.4750274 </td><td>0.4467388 </td><td>0.4724761 </td><td>0.6266091 </td><td>0.3769483 </td><td>0.4254832 </td><td>0.3771947 </td><td>0.2436932 </td><td>0.5068703 </td><td>0.5082256 </td><td>1.0000000 </td><td>0.4393810 </td><td>0.4574567 </td><td>0.4429057 </td><td>0.4897046 </td><td>0.5475620 </td><td>0.4154736 </td><td>0.47498705</td><td>0.4462874 </td></tr>\n",
       "\t<tr><th scope=row>Fold 2_2.5k</th><td>0.5936591 </td><td>0.5672079 </td><td>0.5658191 </td><td>0.5866972 </td><td>0.5670364 </td><td>0.7258142 </td><td>0.7366582 </td><td>0.7259072 </td><td>0.7653611 </td><td>0.6522516 </td><td>0.6257363 </td><td>0.4665450 </td><td>0.6036079 </td><td>0.6113381 </td><td>0.6290323 </td><td>0.6265631 </td><td>0.6194940 </td><td>0.6458134 </td><td>0.76075450</td><td>0.6127722 </td></tr>\n",
       "\t<tr><th scope=row>Fold 3_2.5k</th><td>0.3319382 </td><td>0.3299018 </td><td>0.3555429 </td><td>0.3527267 </td><td>0.3772920 </td><td>0.3436786 </td><td>0.3956220 </td><td>0.1333212 </td><td>0.4014651 </td><td>0.3392464 </td><td>0.3547120 </td><td>0.2919756 </td><td>0.2446203 </td><td>0.3604483 </td><td>0.3687523 </td><td>0.3103360 </td><td>0.2718733 </td><td>0.3335353 </td><td>0.28102640</td><td>0.3352786 </td></tr>\n",
       "\t<tr><th scope=row>Fold 4_2.5k</th><td>0.4269907 </td><td>0.4010694 </td><td>0.4007951 </td><td>0.3332993 </td><td>0.3777309 </td><td>0.3347019 </td><td>0.2374468 </td><td>0.2662313 </td><td>0.2052907 </td><td>0.3830349 </td><td>0.3911044 </td><td>0.0000000 </td><td>0.2096880 </td><td>0.4244060 </td><td>0.3775664 </td><td>0.2664814 </td><td>0.4213099 </td><td>0.4068061 </td><td>0.24694766</td><td>0.3656488 </td></tr>\n",
       "\t<tr><th scope=row>Fold 5_2.5k</th><td>0.6564436 </td><td>0.5070464 </td><td>0.6832262 </td><td>0.6491977 </td><td>0.7280068 </td><td>0.4970034 </td><td>0.4821789 </td><td>0.7531879 </td><td>0.6050838 </td><td>0.6479001 </td><td>0.5712910 </td><td>0.9338720 </td><td>0.6572351 </td><td>0.5799052 </td><td>0.5648421 </td><td>0.6215738 </td><td>0.5785203 </td><td>0.4650544 </td><td>0.05110899</td><td>0.5853929 </td></tr>\n",
       "</tbody>\n",
       "</table>\n"
      ],
      "text/latex": [
       "\\begin{tabular}{r|llllllllllllllllllll}\n",
       "  & ENSG00000000003.13 & ENSG00000000971.14 & ENSG00000001561.6 & ENSG00000002586.16 & ENSG00000003137.7 & ENSG00000003436.13 & ENSG00000004139.12 & ENSG00000004399.11 & ENSG00000004455.15 & ENSG00000005073.5 & ENSG00000005108.14 & ENSG00000005156.10 & ENSG00000005249.11 & ENSG00000005381.7 & ENSG00000005421.7 & ENSG00000005513.9 & ENSG00000006377.10 & ENSG00000006432.14 & ENSG00000006451.6 & ENSG00000006468.12\\\\\n",
       "\\hline\n",
       "\tFold 1\\_2.5k & 0.4220371  & 0.4750274  & 0.4467388  & 0.4724761  & 0.6266091  & 0.3769483  & 0.4254832  & 0.3771947  & 0.2436932  & 0.5068703  & 0.5082256  & 1.0000000  & 0.4393810  & 0.4574567  & 0.4429057  & 0.4897046  & 0.5475620  & 0.4154736  & 0.47498705 & 0.4462874 \\\\\n",
       "\tFold 2\\_2.5k & 0.5936591  & 0.5672079  & 0.5658191  & 0.5866972  & 0.5670364  & 0.7258142  & 0.7366582  & 0.7259072  & 0.7653611  & 0.6522516  & 0.6257363  & 0.4665450  & 0.6036079  & 0.6113381  & 0.6290323  & 0.6265631  & 0.6194940  & 0.6458134  & 0.76075450 & 0.6127722 \\\\\n",
       "\tFold 3\\_2.5k & 0.3319382  & 0.3299018  & 0.3555429  & 0.3527267  & 0.3772920  & 0.3436786  & 0.3956220  & 0.1333212  & 0.4014651  & 0.3392464  & 0.3547120  & 0.2919756  & 0.2446203  & 0.3604483  & 0.3687523  & 0.3103360  & 0.2718733  & 0.3335353  & 0.28102640 & 0.3352786 \\\\\n",
       "\tFold 4\\_2.5k & 0.4269907  & 0.4010694  & 0.4007951  & 0.3332993  & 0.3777309  & 0.3347019  & 0.2374468  & 0.2662313  & 0.2052907  & 0.3830349  & 0.3911044  & 0.0000000  & 0.2096880  & 0.4244060  & 0.3775664  & 0.2664814  & 0.4213099  & 0.4068061  & 0.24694766 & 0.3656488 \\\\\n",
       "\tFold 5\\_2.5k & 0.6564436  & 0.5070464  & 0.6832262  & 0.6491977  & 0.7280068  & 0.4970034  & 0.4821789  & 0.7531879  & 0.6050838  & 0.6479001  & 0.5712910  & 0.9338720  & 0.6572351  & 0.5799052  & 0.5648421  & 0.6215738  & 0.5785203  & 0.4650544  & 0.05110899 & 0.5853929 \\\\\n",
       "\\end{tabular}\n"
      ],
      "text/markdown": [
       "\n",
       "| <!--/--> | ENSG00000000003.13 | ENSG00000000971.14 | ENSG00000001561.6 | ENSG00000002586.16 | ENSG00000003137.7 | ENSG00000003436.13 | ENSG00000004139.12 | ENSG00000004399.11 | ENSG00000004455.15 | ENSG00000005073.5 | ENSG00000005108.14 | ENSG00000005156.10 | ENSG00000005249.11 | ENSG00000005381.7 | ENSG00000005421.7 | ENSG00000005513.9 | ENSG00000006377.10 | ENSG00000006432.14 | ENSG00000006451.6 | ENSG00000006468.12 |\n",
       "|---|---|---|---|---|---|---|---|---|---|---|---|---|---|---|---|---|---|---|---|---|\n",
       "| Fold 1_2.5k | 0.4220371  | 0.4750274  | 0.4467388  | 0.4724761  | 0.6266091  | 0.3769483  | 0.4254832  | 0.3771947  | 0.2436932  | 0.5068703  | 0.5082256  | 1.0000000  | 0.4393810  | 0.4574567  | 0.4429057  | 0.4897046  | 0.5475620  | 0.4154736  | 0.47498705 | 0.4462874  |\n",
       "| Fold 2_2.5k | 0.5936591  | 0.5672079  | 0.5658191  | 0.5866972  | 0.5670364  | 0.7258142  | 0.7366582  | 0.7259072  | 0.7653611  | 0.6522516  | 0.6257363  | 0.4665450  | 0.6036079  | 0.6113381  | 0.6290323  | 0.6265631  | 0.6194940  | 0.6458134  | 0.76075450 | 0.6127722  |\n",
       "| Fold 3_2.5k | 0.3319382  | 0.3299018  | 0.3555429  | 0.3527267  | 0.3772920  | 0.3436786  | 0.3956220  | 0.1333212  | 0.4014651  | 0.3392464  | 0.3547120  | 0.2919756  | 0.2446203  | 0.3604483  | 0.3687523  | 0.3103360  | 0.2718733  | 0.3335353  | 0.28102640 | 0.3352786  |\n",
       "| Fold 4_2.5k | 0.4269907  | 0.4010694  | 0.4007951  | 0.3332993  | 0.3777309  | 0.3347019  | 0.2374468  | 0.2662313  | 0.2052907  | 0.3830349  | 0.3911044  | 0.0000000  | 0.2096880  | 0.4244060  | 0.3775664  | 0.2664814  | 0.4213099  | 0.4068061  | 0.24694766 | 0.3656488  |\n",
       "| Fold 5_2.5k | 0.6564436  | 0.5070464  | 0.6832262  | 0.6491977  | 0.7280068  | 0.4970034  | 0.4821789  | 0.7531879  | 0.6050838  | 0.6479001  | 0.5712910  | 0.9338720  | 0.6572351  | 0.5799052  | 0.5648421  | 0.6215738  | 0.5785203  | 0.4650544  | 0.05110899 | 0.5853929  |\n",
       "\n"
      ],
      "text/plain": [
       "            ENSG00000000003.13 ENSG00000000971.14 ENSG00000001561.6\n",
       "Fold 1_2.5k 0.4220371          0.4750274          0.4467388        \n",
       "Fold 2_2.5k 0.5936591          0.5672079          0.5658191        \n",
       "Fold 3_2.5k 0.3319382          0.3299018          0.3555429        \n",
       "Fold 4_2.5k 0.4269907          0.4010694          0.4007951        \n",
       "Fold 5_2.5k 0.6564436          0.5070464          0.6832262        \n",
       "            ENSG00000002586.16 ENSG00000003137.7 ENSG00000003436.13\n",
       "Fold 1_2.5k 0.4724761          0.6266091         0.3769483         \n",
       "Fold 2_2.5k 0.5866972          0.5670364         0.7258142         \n",
       "Fold 3_2.5k 0.3527267          0.3772920         0.3436786         \n",
       "Fold 4_2.5k 0.3332993          0.3777309         0.3347019         \n",
       "Fold 5_2.5k 0.6491977          0.7280068         0.4970034         \n",
       "            ENSG00000004139.12 ENSG00000004399.11 ENSG00000004455.15\n",
       "Fold 1_2.5k 0.4254832          0.3771947          0.2436932         \n",
       "Fold 2_2.5k 0.7366582          0.7259072          0.7653611         \n",
       "Fold 3_2.5k 0.3956220          0.1333212          0.4014651         \n",
       "Fold 4_2.5k 0.2374468          0.2662313          0.2052907         \n",
       "Fold 5_2.5k 0.4821789          0.7531879          0.6050838         \n",
       "            ENSG00000005073.5 ENSG00000005108.14 ENSG00000005156.10\n",
       "Fold 1_2.5k 0.5068703         0.5082256          1.0000000         \n",
       "Fold 2_2.5k 0.6522516         0.6257363          0.4665450         \n",
       "Fold 3_2.5k 0.3392464         0.3547120          0.2919756         \n",
       "Fold 4_2.5k 0.3830349         0.3911044          0.0000000         \n",
       "Fold 5_2.5k 0.6479001         0.5712910          0.9338720         \n",
       "            ENSG00000005249.11 ENSG00000005381.7 ENSG00000005421.7\n",
       "Fold 1_2.5k 0.4393810          0.4574567         0.4429057        \n",
       "Fold 2_2.5k 0.6036079          0.6113381         0.6290323        \n",
       "Fold 3_2.5k 0.2446203          0.3604483         0.3687523        \n",
       "Fold 4_2.5k 0.2096880          0.4244060         0.3775664        \n",
       "Fold 5_2.5k 0.6572351          0.5799052         0.5648421        \n",
       "            ENSG00000005513.9 ENSG00000006377.10 ENSG00000006432.14\n",
       "Fold 1_2.5k 0.4897046         0.5475620          0.4154736         \n",
       "Fold 2_2.5k 0.6265631         0.6194940          0.6458134         \n",
       "Fold 3_2.5k 0.3103360         0.2718733          0.3335353         \n",
       "Fold 4_2.5k 0.2664814         0.4213099          0.4068061         \n",
       "Fold 5_2.5k 0.6215738         0.5785203          0.4650544         \n",
       "            ENSG00000006451.6 ENSG00000006468.12\n",
       "Fold 1_2.5k 0.47498705        0.4462874         \n",
       "Fold 2_2.5k 0.76075450        0.6127722         \n",
       "Fold 3_2.5k 0.28102640        0.3352786         \n",
       "Fold 4_2.5k 0.24694766        0.3656488         \n",
       "Fold 5_2.5k 0.05110899        0.5853929         "
      ]
     },
     "metadata": {},
     "output_type": "display_data"
    },
    {
     "data": {
      "text/html": [
       "<table>\n",
       "<thead><tr><th></th><th scope=col>ENSG00000000003.13</th><th scope=col>ENSG00000002586.16</th><th scope=col>ENSG00000003436.13</th><th scope=col>ENSG00000004139.12</th><th scope=col>ENSG00000004399.11</th><th scope=col>ENSG00000005073.5</th><th scope=col>ENSG00000005108.14</th><th scope=col>ENSG00000005156.10</th><th scope=col>ENSG00000005249.11</th><th scope=col>ENSG00000005381.7</th><th scope=col>ENSG00000006468.12</th><th scope=col>ENSG00000006638.10</th><th scope=col>ENSG00000007516.12</th><th scope=col>ENSG00000008056.11</th><th scope=col>ENSG00000008086.9</th><th scope=col>ENSG00000008283.14</th><th scope=col>ENSG00000008394.11</th><th scope=col>ENSG00000008735.13</th><th scope=col>ENSG00000010318.18</th><th scope=col>ENSG00000010319.5</th></tr></thead>\n",
       "<tbody>\n",
       "\t<tr><th scope=row>Fold 1_1k</th><td>0.2525920</td><td>0.6317432</td><td>0.4530985</td><td>0.2984767</td><td>0.6614434</td><td>0.4508005</td><td>0.4568510</td><td>0.2942222</td><td>0.3566816</td><td>0.5154703</td><td>0.4453261</td><td>0.5682820</td><td>0.4844310</td><td>0.4764001</td><td>0.4807465</td><td>0.6868754</td><td>0.3082709</td><td>0.3067339</td><td>0.4159930</td><td>0.4987222</td></tr>\n",
       "\t<tr><th scope=row>Fold 2_1k</th><td>0.5464902</td><td>0.7191469</td><td>0.4027855</td><td>0.4684560</td><td>0.6813172</td><td>0.5372777</td><td>0.5252488</td><td>0.2814707</td><td>0.5462807</td><td>0.5339204</td><td>0.5844556</td><td>0.5218946</td><td>0.5382171</td><td>0.4683313</td><td>0.5413507</td><td>0.5574185</td><td>0.5222279</td><td>0.5762052</td><td>0.2894280</td><td>0.4985716</td></tr>\n",
       "\t<tr><th scope=row>Fold 3_1k</th><td>0.5461310</td><td>0.3546847</td><td>0.5287073</td><td>0.4531102</td><td>0.5325464</td><td>0.5795498</td><td>0.5903829</td><td>0.3998043</td><td>0.6564899</td><td>0.5447056</td><td>0.5569162</td><td>0.5347383</td><td>0.5957364</td><td>0.6035083</td><td>0.5623146</td><td>0.7583129</td><td>0.5797754</td><td>0.5387416</td><td>0.8494478</td><td>0.5128347</td></tr>\n",
       "\t<tr><th scope=row>Fold 4_1k</th><td>0.6511066</td><td>0.6988648</td><td>0.6830919</td><td>0.6510005</td><td>0.8052289</td><td>0.6007256</td><td>0.5948158</td><td>0.6741632</td><td>0.6898402</td><td>0.5083228</td><td>0.7057426</td><td>0.8126108</td><td>0.5372568</td><td>0.5792388</td><td>0.6174308</td><td>0.3991658</td><td>0.6505726</td><td>0.7972005</td><td>0.8000794</td><td>0.7437565</td></tr>\n",
       "\t<tr><th scope=row>Fold 5_1k</th><td>0.6194750</td><td>0.4718451</td><td>0.6725339</td><td>0.8636829</td><td>0.5227287</td><td>0.5692662</td><td>0.6095043</td><td>0.8048277</td><td>0.5713803</td><td>0.5834707</td><td>0.6008172</td><td>0.6239302</td><td>0.5580048</td><td>0.6541584</td><td>0.6941636</td><td>0.5252786</td><td>0.5480947</td><td>0.7952108</td><td>0.6623110</td><td>0.6889299</td></tr>\n",
       "</tbody>\n",
       "</table>\n"
      ],
      "text/latex": [
       "\\begin{tabular}{r|llllllllllllllllllll}\n",
       "  & ENSG00000000003.13 & ENSG00000002586.16 & ENSG00000003436.13 & ENSG00000004139.12 & ENSG00000004399.11 & ENSG00000005073.5 & ENSG00000005108.14 & ENSG00000005156.10 & ENSG00000005249.11 & ENSG00000005381.7 & ENSG00000006468.12 & ENSG00000006638.10 & ENSG00000007516.12 & ENSG00000008056.11 & ENSG00000008086.9 & ENSG00000008283.14 & ENSG00000008394.11 & ENSG00000008735.13 & ENSG00000010318.18 & ENSG00000010319.5\\\\\n",
       "\\hline\n",
       "\tFold 1\\_1k & 0.2525920 & 0.6317432 & 0.4530985 & 0.2984767 & 0.6614434 & 0.4508005 & 0.4568510 & 0.2942222 & 0.3566816 & 0.5154703 & 0.4453261 & 0.5682820 & 0.4844310 & 0.4764001 & 0.4807465 & 0.6868754 & 0.3082709 & 0.3067339 & 0.4159930 & 0.4987222\\\\\n",
       "\tFold 2\\_1k & 0.5464902 & 0.7191469 & 0.4027855 & 0.4684560 & 0.6813172 & 0.5372777 & 0.5252488 & 0.2814707 & 0.5462807 & 0.5339204 & 0.5844556 & 0.5218946 & 0.5382171 & 0.4683313 & 0.5413507 & 0.5574185 & 0.5222279 & 0.5762052 & 0.2894280 & 0.4985716\\\\\n",
       "\tFold 3\\_1k & 0.5461310 & 0.3546847 & 0.5287073 & 0.4531102 & 0.5325464 & 0.5795498 & 0.5903829 & 0.3998043 & 0.6564899 & 0.5447056 & 0.5569162 & 0.5347383 & 0.5957364 & 0.6035083 & 0.5623146 & 0.7583129 & 0.5797754 & 0.5387416 & 0.8494478 & 0.5128347\\\\\n",
       "\tFold 4\\_1k & 0.6511066 & 0.6988648 & 0.6830919 & 0.6510005 & 0.8052289 & 0.6007256 & 0.5948158 & 0.6741632 & 0.6898402 & 0.5083228 & 0.7057426 & 0.8126108 & 0.5372568 & 0.5792388 & 0.6174308 & 0.3991658 & 0.6505726 & 0.7972005 & 0.8000794 & 0.7437565\\\\\n",
       "\tFold 5\\_1k & 0.6194750 & 0.4718451 & 0.6725339 & 0.8636829 & 0.5227287 & 0.5692662 & 0.6095043 & 0.8048277 & 0.5713803 & 0.5834707 & 0.6008172 & 0.6239302 & 0.5580048 & 0.6541584 & 0.6941636 & 0.5252786 & 0.5480947 & 0.7952108 & 0.6623110 & 0.6889299\\\\\n",
       "\\end{tabular}\n"
      ],
      "text/markdown": [
       "\n",
       "| <!--/--> | ENSG00000000003.13 | ENSG00000002586.16 | ENSG00000003436.13 | ENSG00000004139.12 | ENSG00000004399.11 | ENSG00000005073.5 | ENSG00000005108.14 | ENSG00000005156.10 | ENSG00000005249.11 | ENSG00000005381.7 | ENSG00000006468.12 | ENSG00000006638.10 | ENSG00000007516.12 | ENSG00000008056.11 | ENSG00000008086.9 | ENSG00000008283.14 | ENSG00000008394.11 | ENSG00000008735.13 | ENSG00000010318.18 | ENSG00000010319.5 |\n",
       "|---|---|---|---|---|---|---|---|---|---|---|---|---|---|---|---|---|---|---|---|---|\n",
       "| Fold 1_1k | 0.2525920 | 0.6317432 | 0.4530985 | 0.2984767 | 0.6614434 | 0.4508005 | 0.4568510 | 0.2942222 | 0.3566816 | 0.5154703 | 0.4453261 | 0.5682820 | 0.4844310 | 0.4764001 | 0.4807465 | 0.6868754 | 0.3082709 | 0.3067339 | 0.4159930 | 0.4987222 |\n",
       "| Fold 2_1k | 0.5464902 | 0.7191469 | 0.4027855 | 0.4684560 | 0.6813172 | 0.5372777 | 0.5252488 | 0.2814707 | 0.5462807 | 0.5339204 | 0.5844556 | 0.5218946 | 0.5382171 | 0.4683313 | 0.5413507 | 0.5574185 | 0.5222279 | 0.5762052 | 0.2894280 | 0.4985716 |\n",
       "| Fold 3_1k | 0.5461310 | 0.3546847 | 0.5287073 | 0.4531102 | 0.5325464 | 0.5795498 | 0.5903829 | 0.3998043 | 0.6564899 | 0.5447056 | 0.5569162 | 0.5347383 | 0.5957364 | 0.6035083 | 0.5623146 | 0.7583129 | 0.5797754 | 0.5387416 | 0.8494478 | 0.5128347 |\n",
       "| Fold 4_1k | 0.6511066 | 0.6988648 | 0.6830919 | 0.6510005 | 0.8052289 | 0.6007256 | 0.5948158 | 0.6741632 | 0.6898402 | 0.5083228 | 0.7057426 | 0.8126108 | 0.5372568 | 0.5792388 | 0.6174308 | 0.3991658 | 0.6505726 | 0.7972005 | 0.8000794 | 0.7437565 |\n",
       "| Fold 5_1k | 0.6194750 | 0.4718451 | 0.6725339 | 0.8636829 | 0.5227287 | 0.5692662 | 0.6095043 | 0.8048277 | 0.5713803 | 0.5834707 | 0.6008172 | 0.6239302 | 0.5580048 | 0.6541584 | 0.6941636 | 0.5252786 | 0.5480947 | 0.7952108 | 0.6623110 | 0.6889299 |\n",
       "\n"
      ],
      "text/plain": [
       "          ENSG00000000003.13 ENSG00000002586.16 ENSG00000003436.13\n",
       "Fold 1_1k 0.2525920          0.6317432          0.4530985         \n",
       "Fold 2_1k 0.5464902          0.7191469          0.4027855         \n",
       "Fold 3_1k 0.5461310          0.3546847          0.5287073         \n",
       "Fold 4_1k 0.6511066          0.6988648          0.6830919         \n",
       "Fold 5_1k 0.6194750          0.4718451          0.6725339         \n",
       "          ENSG00000004139.12 ENSG00000004399.11 ENSG00000005073.5\n",
       "Fold 1_1k 0.2984767          0.6614434          0.4508005        \n",
       "Fold 2_1k 0.4684560          0.6813172          0.5372777        \n",
       "Fold 3_1k 0.4531102          0.5325464          0.5795498        \n",
       "Fold 4_1k 0.6510005          0.8052289          0.6007256        \n",
       "Fold 5_1k 0.8636829          0.5227287          0.5692662        \n",
       "          ENSG00000005108.14 ENSG00000005156.10 ENSG00000005249.11\n",
       "Fold 1_1k 0.4568510          0.2942222          0.3566816         \n",
       "Fold 2_1k 0.5252488          0.2814707          0.5462807         \n",
       "Fold 3_1k 0.5903829          0.3998043          0.6564899         \n",
       "Fold 4_1k 0.5948158          0.6741632          0.6898402         \n",
       "Fold 5_1k 0.6095043          0.8048277          0.5713803         \n",
       "          ENSG00000005381.7 ENSG00000006468.12 ENSG00000006638.10\n",
       "Fold 1_1k 0.5154703         0.4453261          0.5682820         \n",
       "Fold 2_1k 0.5339204         0.5844556          0.5218946         \n",
       "Fold 3_1k 0.5447056         0.5569162          0.5347383         \n",
       "Fold 4_1k 0.5083228         0.7057426          0.8126108         \n",
       "Fold 5_1k 0.5834707         0.6008172          0.6239302         \n",
       "          ENSG00000007516.12 ENSG00000008056.11 ENSG00000008086.9\n",
       "Fold 1_1k 0.4844310          0.4764001          0.4807465        \n",
       "Fold 2_1k 0.5382171          0.4683313          0.5413507        \n",
       "Fold 3_1k 0.5957364          0.6035083          0.5623146        \n",
       "Fold 4_1k 0.5372568          0.5792388          0.6174308        \n",
       "Fold 5_1k 0.5580048          0.6541584          0.6941636        \n",
       "          ENSG00000008283.14 ENSG00000008394.11 ENSG00000008735.13\n",
       "Fold 1_1k 0.6868754          0.3082709          0.3067339         \n",
       "Fold 2_1k 0.5574185          0.5222279          0.5762052         \n",
       "Fold 3_1k 0.7583129          0.5797754          0.5387416         \n",
       "Fold 4_1k 0.3991658          0.6505726          0.7972005         \n",
       "Fold 5_1k 0.5252786          0.5480947          0.7952108         \n",
       "          ENSG00000010318.18 ENSG00000010319.5\n",
       "Fold 1_1k 0.4159930          0.4987222        \n",
       "Fold 2_1k 0.2894280          0.4985716        \n",
       "Fold 3_1k 0.8494478          0.5128347        \n",
       "Fold 4_1k 0.8000794          0.7437565        \n",
       "Fold 5_1k 0.6623110          0.6889299        "
      ]
     },
     "metadata": {},
     "output_type": "display_data"
    },
    {
     "data": {
      "text/html": [
       "<table>\n",
       "<thead><tr><th></th><th scope=col>ENSG00000002586.16</th><th scope=col>ENSG00000005381.7</th><th scope=col>ENSG00000007516.12</th><th scope=col>ENSG00000019991.14</th><th scope=col>ENSG00000037280.14</th><th scope=col>ENSG00000065054.12</th><th scope=col>ENSG00000067177.13</th><th scope=col>ENSG00000078399.14</th><th scope=col>ENSG00000078596.9</th><th scope=col>ENSG00000086205.15</th><th scope=col>ENSG00000087495.15</th><th scope=col>ENSG00000091490.9</th><th scope=col>ENSG00000091972.17</th><th scope=col>ENSG00000095917.12</th><th scope=col>ENSG00000102595.17</th><th scope=col>ENSG00000105996.6</th><th scope=col>ENSG00000105997.21</th><th scope=col>ENSG00000106004.4</th><th scope=col>ENSG00000106006.6</th><th scope=col>ENSG00000106538.8</th></tr></thead>\n",
       "<tbody>\n",
       "\t<tr><th scope=row>Fold 1_100</th><td>0.7987645</td><td>0.5084224</td><td>0.6139006</td><td>0.3597470</td><td>0.5199825</td><td>0.5694849</td><td>0.6330103</td><td>0.7295394</td><td>0.5483658</td><td>0.5907715</td><td>0.6366393</td><td>0.6228821</td><td>0.7343958</td><td>0.3680600</td><td>0.4401470</td><td>0.2764969</td><td>0.4334992</td><td>0.5460777</td><td>0.5414356</td><td>0.5588657</td></tr>\n",
       "\t<tr><th scope=row>Fold 2_100</th><td>0.1874249</td><td>0.5271933</td><td>0.6604543</td><td>0.7330306</td><td>0.6284940</td><td>0.7137958</td><td>0.7398743</td><td>0.7286017</td><td>0.4340336</td><td>0.6110810</td><td>0.6915663</td><td>0.4977816</td><td>0.7458195</td><td>0.4401846</td><td>0.5196532</td><td>0.5126534</td><td>0.5398147</td><td>0.6195331</td><td>0.5954090</td><td>0.7700192</td></tr>\n",
       "\t<tr><th scope=row>Fold 3_100</th><td>0.9917636</td><td>0.4677845</td><td>0.7023231</td><td>0.4246376</td><td>0.5853013</td><td>0.6193991</td><td>0.7926308</td><td>0.7558438</td><td>0.7138872</td><td>0.6112045</td><td>0.4271214</td><td>0.4648041</td><td>0.2694926</td><td>0.4709090</td><td>0.7198792</td><td>0.4130275</td><td>0.6559305</td><td>0.6576499</td><td>0.8840370</td><td>0.5321159</td></tr>\n",
       "\t<tr><th scope=row>Fold 4_100</th><td>0.4894729</td><td>0.7240266</td><td>0.5226974</td><td>0.5170355</td><td>0.7178933</td><td>0.5264698</td><td>0.7616211</td><td>0.8439485</td><td>0.4778866</td><td>0.6822926</td><td>0.6127339</td><td>0.4044966</td><td>0.5750775</td><td>0.2807518</td><td>0.6176341</td><td>0.3335894</td><td>0.1773369</td><td>0.5422904</td><td>0.7996896</td><td>0.7320262</td></tr>\n",
       "\t<tr><th scope=row>Fold 5_100</th><td>0.1420281</td><td>0.3457552</td><td>0.2087507</td><td>0.5164748</td><td>0.7947932</td><td>0.5053051</td><td>0.6056154</td><td>0.6664705</td><td>0.4699334</td><td>0.5856916</td><td>0.4765590</td><td>0.4345257</td><td>0.4732986</td><td>0.3815911</td><td>0.5181959</td><td>0.1146886</td><td>0.4579166</td><td>0.5526980</td><td>0.4843384</td><td>0.4108316</td></tr>\n",
       "</tbody>\n",
       "</table>\n"
      ],
      "text/latex": [
       "\\begin{tabular}{r|llllllllllllllllllll}\n",
       "  & ENSG00000002586.16 & ENSG00000005381.7 & ENSG00000007516.12 & ENSG00000019991.14 & ENSG00000037280.14 & ENSG00000065054.12 & ENSG00000067177.13 & ENSG00000078399.14 & ENSG00000078596.9 & ENSG00000086205.15 & ENSG00000087495.15 & ENSG00000091490.9 & ENSG00000091972.17 & ENSG00000095917.12 & ENSG00000102595.17 & ENSG00000105996.6 & ENSG00000105997.21 & ENSG00000106004.4 & ENSG00000106006.6 & ENSG00000106538.8\\\\\n",
       "\\hline\n",
       "\tFold 1\\_100 & 0.7987645 & 0.5084224 & 0.6139006 & 0.3597470 & 0.5199825 & 0.5694849 & 0.6330103 & 0.7295394 & 0.5483658 & 0.5907715 & 0.6366393 & 0.6228821 & 0.7343958 & 0.3680600 & 0.4401470 & 0.2764969 & 0.4334992 & 0.5460777 & 0.5414356 & 0.5588657\\\\\n",
       "\tFold 2\\_100 & 0.1874249 & 0.5271933 & 0.6604543 & 0.7330306 & 0.6284940 & 0.7137958 & 0.7398743 & 0.7286017 & 0.4340336 & 0.6110810 & 0.6915663 & 0.4977816 & 0.7458195 & 0.4401846 & 0.5196532 & 0.5126534 & 0.5398147 & 0.6195331 & 0.5954090 & 0.7700192\\\\\n",
       "\tFold 3\\_100 & 0.9917636 & 0.4677845 & 0.7023231 & 0.4246376 & 0.5853013 & 0.6193991 & 0.7926308 & 0.7558438 & 0.7138872 & 0.6112045 & 0.4271214 & 0.4648041 & 0.2694926 & 0.4709090 & 0.7198792 & 0.4130275 & 0.6559305 & 0.6576499 & 0.8840370 & 0.5321159\\\\\n",
       "\tFold 4\\_100 & 0.4894729 & 0.7240266 & 0.5226974 & 0.5170355 & 0.7178933 & 0.5264698 & 0.7616211 & 0.8439485 & 0.4778866 & 0.6822926 & 0.6127339 & 0.4044966 & 0.5750775 & 0.2807518 & 0.6176341 & 0.3335894 & 0.1773369 & 0.5422904 & 0.7996896 & 0.7320262\\\\\n",
       "\tFold 5\\_100 & 0.1420281 & 0.3457552 & 0.2087507 & 0.5164748 & 0.7947932 & 0.5053051 & 0.6056154 & 0.6664705 & 0.4699334 & 0.5856916 & 0.4765590 & 0.4345257 & 0.4732986 & 0.3815911 & 0.5181959 & 0.1146886 & 0.4579166 & 0.5526980 & 0.4843384 & 0.4108316\\\\\n",
       "\\end{tabular}\n"
      ],
      "text/markdown": [
       "\n",
       "| <!--/--> | ENSG00000002586.16 | ENSG00000005381.7 | ENSG00000007516.12 | ENSG00000019991.14 | ENSG00000037280.14 | ENSG00000065054.12 | ENSG00000067177.13 | ENSG00000078399.14 | ENSG00000078596.9 | ENSG00000086205.15 | ENSG00000087495.15 | ENSG00000091490.9 | ENSG00000091972.17 | ENSG00000095917.12 | ENSG00000102595.17 | ENSG00000105996.6 | ENSG00000105997.21 | ENSG00000106004.4 | ENSG00000106006.6 | ENSG00000106538.8 |\n",
       "|---|---|---|---|---|---|---|---|---|---|---|---|---|---|---|---|---|---|---|---|---|\n",
       "| Fold 1_100 | 0.7987645 | 0.5084224 | 0.6139006 | 0.3597470 | 0.5199825 | 0.5694849 | 0.6330103 | 0.7295394 | 0.5483658 | 0.5907715 | 0.6366393 | 0.6228821 | 0.7343958 | 0.3680600 | 0.4401470 | 0.2764969 | 0.4334992 | 0.5460777 | 0.5414356 | 0.5588657 |\n",
       "| Fold 2_100 | 0.1874249 | 0.5271933 | 0.6604543 | 0.7330306 | 0.6284940 | 0.7137958 | 0.7398743 | 0.7286017 | 0.4340336 | 0.6110810 | 0.6915663 | 0.4977816 | 0.7458195 | 0.4401846 | 0.5196532 | 0.5126534 | 0.5398147 | 0.6195331 | 0.5954090 | 0.7700192 |\n",
       "| Fold 3_100 | 0.9917636 | 0.4677845 | 0.7023231 | 0.4246376 | 0.5853013 | 0.6193991 | 0.7926308 | 0.7558438 | 0.7138872 | 0.6112045 | 0.4271214 | 0.4648041 | 0.2694926 | 0.4709090 | 0.7198792 | 0.4130275 | 0.6559305 | 0.6576499 | 0.8840370 | 0.5321159 |\n",
       "| Fold 4_100 | 0.4894729 | 0.7240266 | 0.5226974 | 0.5170355 | 0.7178933 | 0.5264698 | 0.7616211 | 0.8439485 | 0.4778866 | 0.6822926 | 0.6127339 | 0.4044966 | 0.5750775 | 0.2807518 | 0.6176341 | 0.3335894 | 0.1773369 | 0.5422904 | 0.7996896 | 0.7320262 |\n",
       "| Fold 5_100 | 0.1420281 | 0.3457552 | 0.2087507 | 0.5164748 | 0.7947932 | 0.5053051 | 0.6056154 | 0.6664705 | 0.4699334 | 0.5856916 | 0.4765590 | 0.4345257 | 0.4732986 | 0.3815911 | 0.5181959 | 0.1146886 | 0.4579166 | 0.5526980 | 0.4843384 | 0.4108316 |\n",
       "\n"
      ],
      "text/plain": [
       "           ENSG00000002586.16 ENSG00000005381.7 ENSG00000007516.12\n",
       "Fold 1_100 0.7987645          0.5084224         0.6139006         \n",
       "Fold 2_100 0.1874249          0.5271933         0.6604543         \n",
       "Fold 3_100 0.9917636          0.4677845         0.7023231         \n",
       "Fold 4_100 0.4894729          0.7240266         0.5226974         \n",
       "Fold 5_100 0.1420281          0.3457552         0.2087507         \n",
       "           ENSG00000019991.14 ENSG00000037280.14 ENSG00000065054.12\n",
       "Fold 1_100 0.3597470          0.5199825          0.5694849         \n",
       "Fold 2_100 0.7330306          0.6284940          0.7137958         \n",
       "Fold 3_100 0.4246376          0.5853013          0.6193991         \n",
       "Fold 4_100 0.5170355          0.7178933          0.5264698         \n",
       "Fold 5_100 0.5164748          0.7947932          0.5053051         \n",
       "           ENSG00000067177.13 ENSG00000078399.14 ENSG00000078596.9\n",
       "Fold 1_100 0.6330103          0.7295394          0.5483658        \n",
       "Fold 2_100 0.7398743          0.7286017          0.4340336        \n",
       "Fold 3_100 0.7926308          0.7558438          0.7138872        \n",
       "Fold 4_100 0.7616211          0.8439485          0.4778866        \n",
       "Fold 5_100 0.6056154          0.6664705          0.4699334        \n",
       "           ENSG00000086205.15 ENSG00000087495.15 ENSG00000091490.9\n",
       "Fold 1_100 0.5907715          0.6366393          0.6228821        \n",
       "Fold 2_100 0.6110810          0.6915663          0.4977816        \n",
       "Fold 3_100 0.6112045          0.4271214          0.4648041        \n",
       "Fold 4_100 0.6822926          0.6127339          0.4044966        \n",
       "Fold 5_100 0.5856916          0.4765590          0.4345257        \n",
       "           ENSG00000091972.17 ENSG00000095917.12 ENSG00000102595.17\n",
       "Fold 1_100 0.7343958          0.3680600          0.4401470         \n",
       "Fold 2_100 0.7458195          0.4401846          0.5196532         \n",
       "Fold 3_100 0.2694926          0.4709090          0.7198792         \n",
       "Fold 4_100 0.5750775          0.2807518          0.6176341         \n",
       "Fold 5_100 0.4732986          0.3815911          0.5181959         \n",
       "           ENSG00000105996.6 ENSG00000105997.21 ENSG00000106004.4\n",
       "Fold 1_100 0.2764969         0.4334992          0.5460777        \n",
       "Fold 2_100 0.5126534         0.5398147          0.6195331        \n",
       "Fold 3_100 0.4130275         0.6559305          0.6576499        \n",
       "Fold 4_100 0.3335894         0.1773369          0.5422904        \n",
       "Fold 5_100 0.1146886         0.4579166          0.5526980        \n",
       "           ENSG00000106006.6 ENSG00000106538.8\n",
       "Fold 1_100 0.5414356         0.5588657        \n",
       "Fold 2_100 0.5954090         0.7700192        \n",
       "Fold 3_100 0.8840370         0.5321159        \n",
       "Fold 4_100 0.7996896         0.7320262        \n",
       "Fold 5_100 0.4843384         0.4108316        "
      ]
     },
     "metadata": {},
     "output_type": "display_data"
    }
   ],
   "source": [
    "#sanity check\n",
    "log.reg.coef.norm.10k[, 1:20]\n",
    "log.reg.coef.norm.5k[, 1:20]\n",
    "log.reg.coef.norm.2.5k[, 1:20]\n",
    "log.reg.coef.norm.1k[, 1:20]\n",
    "log.reg.coef.norm.100[, 1:20]"
   ]
  },
  {
   "cell_type": "code",
   "execution_count": 32,
   "metadata": {},
   "outputs": [
    {
     "data": {
      "text/html": [
       "0"
      ],
      "text/latex": [
       "0"
      ],
      "text/markdown": [
       "0"
      ],
      "text/plain": [
       "[1] 0"
      ]
     },
     "metadata": {},
     "output_type": "display_data"
    },
    {
     "data": {
      "text/html": [
       "1"
      ],
      "text/latex": [
       "1"
      ],
      "text/markdown": [
       "1"
      ],
      "text/plain": [
       "[1] 1"
      ]
     },
     "metadata": {},
     "output_type": "display_data"
    }
   ],
   "source": [
    "min(log.reg.coef.norm.10k[1,])\n",
    "max(log.reg.coef.norm.10k[1,])"
   ]
  },
  {
   "cell_type": "markdown",
   "metadata": {},
   "source": [
    "### LASSO data"
   ]
  },
  {
   "cell_type": "code",
   "execution_count": 33,
   "metadata": {},
   "outputs": [],
   "source": [
    "#normalize lasso reg coefficients\n",
    "lasso.coef.norm.10k = matrix(ncol = ncol(lasso.coef.10k))\n",
    "lasso.coef.norm.5k = matrix(ncol = ncol(lasso.coef.5k))\n",
    "lasso.coef.norm.2.5k = matrix(ncol = ncol(lasso.coef.2.5k))\n",
    "lasso.coef.norm.1k = matrix(ncol = ncol(lasso.coef.1k))\n",
    "lasso.coef.norm.100 = matrix(ncol = ncol(lasso.coef.100))\n",
    "\n",
    "colnames(lasso.coef.norm.10k) = colnames(lasso.coef.10k)\n",
    "colnames(lasso.coef.norm.5k) = colnames(lasso.coef.5k)\n",
    "colnames(lasso.coef.norm.2.5k) = colnames(lasso.coef.2.5k)\n",
    "colnames(lasso.coef.norm.1k) = colnames(lasso.coef.1k)\n",
    "colnames(lasso.coef.norm.100) = colnames(lasso.coef.100)\n",
    "\n",
    "for (i in 1:nrow(lasso.coef.10k)) {\n",
    "    #normalize\n",
    "    temp.10k = (lasso.coef.10k[i,] - min(lasso.coef.10k[i,], na.rm=T)) / (max(lasso.coef.10k[i,], na.rm=T) - min(lasso.coef.10k[i,], na.rm=T))\n",
    "    temp.5k = (lasso.coef.5k[i,] - min(lasso.coef.5k[i,], na.rm=T)) / (max(lasso.coef.5k[i,], na.rm=T) - min(lasso.coef.5k[i,], na.rm=T))\n",
    "    temp.2.5k = (lasso.coef.2.5k[i,] - min(lasso.coef.2.5k[i,], na.rm=T)) / (max(lasso.coef.2.5k[i,], na.rm=T) - min(lasso.coef.2.5k[i,], na.rm=T))\n",
    "    temp.1k = (lasso.coef.1k[i,] - min(lasso.coef.1k[i,], na.rm=T)) / (max(lasso.coef.1k[i,], na.rm=T) - min(lasso.coef.1k[i,], na.rm=T))\n",
    "    temp.100 = (lasso.coef.100[i,] - min(lasso.coef.100[i,], na.rm=T)) / (max(lasso.coef.100[i,], na.rm=T) - min(lasso.coef.100[i,], na.rm=T))\n",
    "\n",
    "    lasso.coef.norm.10k = rbind(lasso.coef.norm.10k, temp.10k)\n",
    "    lasso.coef.norm.5k = rbind(lasso.coef.norm.5k, temp.5k)\n",
    "    lasso.coef.norm.2.5k = rbind(lasso.coef.norm.2.5k, temp.2.5k)\n",
    "    lasso.coef.norm.1k = rbind(lasso.coef.norm.1k, temp.1k)\n",
    "    lasso.coef.norm.100 = rbind(lasso.coef.norm.100, temp.100)\n",
    "    #remove NAs\n",
    "    lasso.coef.norm.10k[is.na(lasso.coef.norm.10k)] = 0\n",
    "    lasso.coef.norm.5k[is.na(lasso.coef.norm.5k)] = 0\n",
    "    lasso.coef.norm.2.5k[is.na(lasso.coef.norm.2.5k)] = 0\n",
    "    lasso.coef.norm.1k[is.na(lasso.coef.norm.1k)] = 0\n",
    "    lasso.coef.norm.100[is.na(lasso.coef.norm.100)] = 0\n",
    "}\n",
    "#remove empty first row\n",
    "lasso.coef.norm.10k = lasso.coef.norm.10k[-1,]\n",
    "lasso.coef.norm.5k = lasso.coef.norm.5k[-1,]\n",
    "lasso.coef.norm.2.5k = lasso.coef.norm.2.5k[-1,]\n",
    "lasso.coef.norm.1k = lasso.coef.norm.1k[-1,]\n",
    "lasso.coef.norm.100 = lasso.coef.norm.100[-1,]"
   ]
  },
  {
   "cell_type": "code",
   "execution_count": 34,
   "metadata": {},
   "outputs": [
    {
     "data": {
      "text/html": [
       "<table>\n",
       "<thead><tr><th></th><th scope=col>ENSG00000000003.13</th><th scope=col>ENSG00000000971.14</th><th scope=col>ENSG00000001084.9</th><th scope=col>ENSG00000001167.13</th><th scope=col>ENSG00000001461.15</th><th scope=col>ENSG00000001561.6</th><th scope=col>ENSG00000001631.13</th><th scope=col>ENSG00000002330.12</th><th scope=col>ENSG00000002586.16</th><th scope=col>ENSG00000002587.8</th><th scope=col>ENSG00000002746.13</th><th scope=col>ENSG00000002933.6</th><th scope=col>ENSG00000003137.7</th><th scope=col>ENSG00000003393.13</th><th scope=col>ENSG00000003436.13</th><th scope=col>ENSG00000003509.14</th><th scope=col>ENSG00000004059.9</th><th scope=col>ENSG00000004139.12</th><th scope=col>ENSG00000004399.11</th><th scope=col>ENSG00000004455.15</th></tr></thead>\n",
       "<tbody>\n",
       "\t<tr><th scope=row>Fold 1_10k</th><td>0.4785262</td><td>0.4785262</td><td>0.4785262</td><td>0.4785262</td><td>0.4785262</td><td>0.4785262</td><td>0.4785262</td><td>0.4785262</td><td>0.4785262</td><td>0.4785262</td><td>0.4785262</td><td>0.4785262</td><td>0.4785262</td><td>0.4785262</td><td>0.4785262</td><td>0.4785262</td><td>0.4785262</td><td>0.4785262</td><td>0.4785262</td><td>0.4785262</td></tr>\n",
       "\t<tr><th scope=row>Fold 2_10k</th><td>0.6834637</td><td>0.6834637</td><td>0.6834637</td><td>0.6834637</td><td>0.6834637</td><td>0.6834637</td><td>0.6834637</td><td>0.6834637</td><td>0.6834637</td><td>0.6834637</td><td>0.6834637</td><td>0.6834637</td><td>0.6834637</td><td>0.6834637</td><td>0.6834637</td><td>0.6834637</td><td>0.6834637</td><td>0.6834637</td><td>0.6834637</td><td>0.6834637</td></tr>\n",
       "\t<tr><th scope=row>Fold 3_10k</th><td>0.4821271</td><td>0.4821271</td><td>0.4821271</td><td>0.4821271</td><td>0.4821271</td><td>0.4821271</td><td>0.4821271</td><td>0.4821271</td><td>0.4821271</td><td>0.4821271</td><td>0.4821271</td><td>0.4821271</td><td>0.4821271</td><td>0.4821271</td><td>0.4821271</td><td>0.4821271</td><td>0.4821271</td><td>0.4821271</td><td>0.4821271</td><td>0.4821271</td></tr>\n",
       "\t<tr><th scope=row>Fold 4_10k</th><td>0.5458588</td><td>0.5458588</td><td>0.5458588</td><td>0.5458588</td><td>0.5458588</td><td>0.5458588</td><td>0.5458588</td><td>0.5458588</td><td>0.5458588</td><td>0.5458588</td><td>0.5458588</td><td>0.5458588</td><td>0.5458588</td><td>0.5458588</td><td>0.5458588</td><td>0.5458588</td><td>0.5458588</td><td>0.5458588</td><td>0.5458588</td><td>0.5458588</td></tr>\n",
       "\t<tr><th scope=row>Fold 5_10k</th><td>0.7895754</td><td>0.7895754</td><td>0.7895754</td><td>0.7895754</td><td>0.7895754</td><td>0.7895754</td><td>0.7895754</td><td>0.7895754</td><td>0.7895754</td><td>0.7895754</td><td>0.7895754</td><td>0.7895754</td><td>0.7895754</td><td>0.7895754</td><td>0.7895754</td><td>0.7895754</td><td>0.7895754</td><td>0.7895754</td><td>0.7895754</td><td>0.7895754</td></tr>\n",
       "</tbody>\n",
       "</table>\n"
      ],
      "text/latex": [
       "\\begin{tabular}{r|llllllllllllllllllll}\n",
       "  & ENSG00000000003.13 & ENSG00000000971.14 & ENSG00000001084.9 & ENSG00000001167.13 & ENSG00000001461.15 & ENSG00000001561.6 & ENSG00000001631.13 & ENSG00000002330.12 & ENSG00000002586.16 & ENSG00000002587.8 & ENSG00000002746.13 & ENSG00000002933.6 & ENSG00000003137.7 & ENSG00000003393.13 & ENSG00000003436.13 & ENSG00000003509.14 & ENSG00000004059.9 & ENSG00000004139.12 & ENSG00000004399.11 & ENSG00000004455.15\\\\\n",
       "\\hline\n",
       "\tFold 1\\_10k & 0.4785262 & 0.4785262 & 0.4785262 & 0.4785262 & 0.4785262 & 0.4785262 & 0.4785262 & 0.4785262 & 0.4785262 & 0.4785262 & 0.4785262 & 0.4785262 & 0.4785262 & 0.4785262 & 0.4785262 & 0.4785262 & 0.4785262 & 0.4785262 & 0.4785262 & 0.4785262\\\\\n",
       "\tFold 2\\_10k & 0.6834637 & 0.6834637 & 0.6834637 & 0.6834637 & 0.6834637 & 0.6834637 & 0.6834637 & 0.6834637 & 0.6834637 & 0.6834637 & 0.6834637 & 0.6834637 & 0.6834637 & 0.6834637 & 0.6834637 & 0.6834637 & 0.6834637 & 0.6834637 & 0.6834637 & 0.6834637\\\\\n",
       "\tFold 3\\_10k & 0.4821271 & 0.4821271 & 0.4821271 & 0.4821271 & 0.4821271 & 0.4821271 & 0.4821271 & 0.4821271 & 0.4821271 & 0.4821271 & 0.4821271 & 0.4821271 & 0.4821271 & 0.4821271 & 0.4821271 & 0.4821271 & 0.4821271 & 0.4821271 & 0.4821271 & 0.4821271\\\\\n",
       "\tFold 4\\_10k & 0.5458588 & 0.5458588 & 0.5458588 & 0.5458588 & 0.5458588 & 0.5458588 & 0.5458588 & 0.5458588 & 0.5458588 & 0.5458588 & 0.5458588 & 0.5458588 & 0.5458588 & 0.5458588 & 0.5458588 & 0.5458588 & 0.5458588 & 0.5458588 & 0.5458588 & 0.5458588\\\\\n",
       "\tFold 5\\_10k & 0.7895754 & 0.7895754 & 0.7895754 & 0.7895754 & 0.7895754 & 0.7895754 & 0.7895754 & 0.7895754 & 0.7895754 & 0.7895754 & 0.7895754 & 0.7895754 & 0.7895754 & 0.7895754 & 0.7895754 & 0.7895754 & 0.7895754 & 0.7895754 & 0.7895754 & 0.7895754\\\\\n",
       "\\end{tabular}\n"
      ],
      "text/markdown": [
       "\n",
       "| <!--/--> | ENSG00000000003.13 | ENSG00000000971.14 | ENSG00000001084.9 | ENSG00000001167.13 | ENSG00000001461.15 | ENSG00000001561.6 | ENSG00000001631.13 | ENSG00000002330.12 | ENSG00000002586.16 | ENSG00000002587.8 | ENSG00000002746.13 | ENSG00000002933.6 | ENSG00000003137.7 | ENSG00000003393.13 | ENSG00000003436.13 | ENSG00000003509.14 | ENSG00000004059.9 | ENSG00000004139.12 | ENSG00000004399.11 | ENSG00000004455.15 |\n",
       "|---|---|---|---|---|---|---|---|---|---|---|---|---|---|---|---|---|---|---|---|---|\n",
       "| Fold 1_10k | 0.4785262 | 0.4785262 | 0.4785262 | 0.4785262 | 0.4785262 | 0.4785262 | 0.4785262 | 0.4785262 | 0.4785262 | 0.4785262 | 0.4785262 | 0.4785262 | 0.4785262 | 0.4785262 | 0.4785262 | 0.4785262 | 0.4785262 | 0.4785262 | 0.4785262 | 0.4785262 |\n",
       "| Fold 2_10k | 0.6834637 | 0.6834637 | 0.6834637 | 0.6834637 | 0.6834637 | 0.6834637 | 0.6834637 | 0.6834637 | 0.6834637 | 0.6834637 | 0.6834637 | 0.6834637 | 0.6834637 | 0.6834637 | 0.6834637 | 0.6834637 | 0.6834637 | 0.6834637 | 0.6834637 | 0.6834637 |\n",
       "| Fold 3_10k | 0.4821271 | 0.4821271 | 0.4821271 | 0.4821271 | 0.4821271 | 0.4821271 | 0.4821271 | 0.4821271 | 0.4821271 | 0.4821271 | 0.4821271 | 0.4821271 | 0.4821271 | 0.4821271 | 0.4821271 | 0.4821271 | 0.4821271 | 0.4821271 | 0.4821271 | 0.4821271 |\n",
       "| Fold 4_10k | 0.5458588 | 0.5458588 | 0.5458588 | 0.5458588 | 0.5458588 | 0.5458588 | 0.5458588 | 0.5458588 | 0.5458588 | 0.5458588 | 0.5458588 | 0.5458588 | 0.5458588 | 0.5458588 | 0.5458588 | 0.5458588 | 0.5458588 | 0.5458588 | 0.5458588 | 0.5458588 |\n",
       "| Fold 5_10k | 0.7895754 | 0.7895754 | 0.7895754 | 0.7895754 | 0.7895754 | 0.7895754 | 0.7895754 | 0.7895754 | 0.7895754 | 0.7895754 | 0.7895754 | 0.7895754 | 0.7895754 | 0.7895754 | 0.7895754 | 0.7895754 | 0.7895754 | 0.7895754 | 0.7895754 | 0.7895754 |\n",
       "\n"
      ],
      "text/plain": [
       "           ENSG00000000003.13 ENSG00000000971.14 ENSG00000001084.9\n",
       "Fold 1_10k 0.4785262          0.4785262          0.4785262        \n",
       "Fold 2_10k 0.6834637          0.6834637          0.6834637        \n",
       "Fold 3_10k 0.4821271          0.4821271          0.4821271        \n",
       "Fold 4_10k 0.5458588          0.5458588          0.5458588        \n",
       "Fold 5_10k 0.7895754          0.7895754          0.7895754        \n",
       "           ENSG00000001167.13 ENSG00000001461.15 ENSG00000001561.6\n",
       "Fold 1_10k 0.4785262          0.4785262          0.4785262        \n",
       "Fold 2_10k 0.6834637          0.6834637          0.6834637        \n",
       "Fold 3_10k 0.4821271          0.4821271          0.4821271        \n",
       "Fold 4_10k 0.5458588          0.5458588          0.5458588        \n",
       "Fold 5_10k 0.7895754          0.7895754          0.7895754        \n",
       "           ENSG00000001631.13 ENSG00000002330.12 ENSG00000002586.16\n",
       "Fold 1_10k 0.4785262          0.4785262          0.4785262         \n",
       "Fold 2_10k 0.6834637          0.6834637          0.6834637         \n",
       "Fold 3_10k 0.4821271          0.4821271          0.4821271         \n",
       "Fold 4_10k 0.5458588          0.5458588          0.5458588         \n",
       "Fold 5_10k 0.7895754          0.7895754          0.7895754         \n",
       "           ENSG00000002587.8 ENSG00000002746.13 ENSG00000002933.6\n",
       "Fold 1_10k 0.4785262         0.4785262          0.4785262        \n",
       "Fold 2_10k 0.6834637         0.6834637          0.6834637        \n",
       "Fold 3_10k 0.4821271         0.4821271          0.4821271        \n",
       "Fold 4_10k 0.5458588         0.5458588          0.5458588        \n",
       "Fold 5_10k 0.7895754         0.7895754          0.7895754        \n",
       "           ENSG00000003137.7 ENSG00000003393.13 ENSG00000003436.13\n",
       "Fold 1_10k 0.4785262         0.4785262          0.4785262         \n",
       "Fold 2_10k 0.6834637         0.6834637          0.6834637         \n",
       "Fold 3_10k 0.4821271         0.4821271          0.4821271         \n",
       "Fold 4_10k 0.5458588         0.5458588          0.5458588         \n",
       "Fold 5_10k 0.7895754         0.7895754          0.7895754         \n",
       "           ENSG00000003509.14 ENSG00000004059.9 ENSG00000004139.12\n",
       "Fold 1_10k 0.4785262          0.4785262         0.4785262         \n",
       "Fold 2_10k 0.6834637          0.6834637         0.6834637         \n",
       "Fold 3_10k 0.4821271          0.4821271         0.4821271         \n",
       "Fold 4_10k 0.5458588          0.5458588         0.5458588         \n",
       "Fold 5_10k 0.7895754          0.7895754         0.7895754         \n",
       "           ENSG00000004399.11 ENSG00000004455.15\n",
       "Fold 1_10k 0.4785262          0.4785262         \n",
       "Fold 2_10k 0.6834637          0.6834637         \n",
       "Fold 3_10k 0.4821271          0.4821271         \n",
       "Fold 4_10k 0.5458588          0.5458588         \n",
       "Fold 5_10k 0.7895754          0.7895754         "
      ]
     },
     "metadata": {},
     "output_type": "display_data"
    },
    {
     "data": {
      "text/html": [
       "<table>\n",
       "<thead><tr><th></th><th scope=col>ENSG00000000003.13</th><th scope=col>ENSG00000000971.14</th><th scope=col>ENSG00000001084.9</th><th scope=col>ENSG00000001561.6</th><th scope=col>ENSG00000002586.16</th><th scope=col>ENSG00000002933.6</th><th scope=col>ENSG00000003137.7</th><th scope=col>ENSG00000003436.13</th><th scope=col>ENSG00000004139.12</th><th scope=col>ENSG00000004399.11</th><th scope=col>ENSG00000004455.15</th><th scope=col>ENSG00000004766.14</th><th scope=col>ENSG00000004777.17</th><th scope=col>ENSG00000004799.7</th><th scope=col>ENSG00000004809.12</th><th scope=col>ENSG00000004848.6</th><th scope=col>ENSG00000004939.12</th><th scope=col>ENSG00000005007.11</th><th scope=col>ENSG00000005073.5</th><th scope=col>ENSG00000005108.14</th></tr></thead>\n",
       "<tbody>\n",
       "\t<tr><th scope=row>Fold 1_5k</th><td>0.4217334</td><td>0.4217334</td><td>0.4217334</td><td>0.4217334</td><td>0.4217334</td><td>0.4217334</td><td>0.4217334</td><td>0.4217334</td><td>0.4217334</td><td>0.4217334</td><td>0.4217334</td><td>0.4217334</td><td>0.4217334</td><td>0.4217334</td><td>0.4217334</td><td>0.4217334</td><td>0.4217334</td><td>0.4217334</td><td>0.4217334</td><td>0.4217334</td></tr>\n",
       "\t<tr><th scope=row>Fold 2_5k</th><td>0.5652586</td><td>0.5652586</td><td>0.5652586</td><td>0.5652586</td><td>0.5652586</td><td>0.5652586</td><td>0.5652586</td><td>0.5652586</td><td>0.5652586</td><td>0.5652586</td><td>0.5652586</td><td>0.5652586</td><td>0.5652586</td><td>0.5652586</td><td>0.5652586</td><td>0.5652586</td><td>0.5652586</td><td>0.5652586</td><td>0.5652586</td><td>0.5652586</td></tr>\n",
       "\t<tr><th scope=row>Fold 3_5k</th><td>0.4525438</td><td>0.4525438</td><td>0.4525438</td><td>0.4525438</td><td>0.4525438</td><td>0.4525438</td><td>0.4525438</td><td>0.4525438</td><td>0.4525438</td><td>0.4525438</td><td>0.4525438</td><td>0.4525438</td><td>0.4525438</td><td>0.4525438</td><td>0.4525438</td><td>0.4525438</td><td>0.4525438</td><td>0.4525438</td><td>0.4525438</td><td>0.4525438</td></tr>\n",
       "\t<tr><th scope=row>Fold 4_5k</th><td>0.5488613</td><td>0.5488613</td><td>0.5488613</td><td>0.5488613</td><td>0.5488613</td><td>0.5488613</td><td>0.5488613</td><td>0.5488613</td><td>0.5488613</td><td>0.5488613</td><td>0.5488613</td><td>0.5488613</td><td>0.5488613</td><td>0.5488613</td><td>0.5488613</td><td>0.5488613</td><td>0.5488613</td><td>0.5488613</td><td>0.5488613</td><td>0.5488613</td></tr>\n",
       "\t<tr><th scope=row>Fold 5_5k</th><td>0.8108638</td><td>0.8108638</td><td>0.8108638</td><td>0.8108638</td><td>0.8108638</td><td>0.8108638</td><td>0.8108638</td><td>0.8108638</td><td>0.8108638</td><td>0.8108638</td><td>0.8108638</td><td>0.8108638</td><td>0.8108638</td><td>0.8108638</td><td>0.8108638</td><td>0.8108638</td><td>0.8108638</td><td>0.8108638</td><td>0.8108638</td><td>0.7367390</td></tr>\n",
       "</tbody>\n",
       "</table>\n"
      ],
      "text/latex": [
       "\\begin{tabular}{r|llllllllllllllllllll}\n",
       "  & ENSG00000000003.13 & ENSG00000000971.14 & ENSG00000001084.9 & ENSG00000001561.6 & ENSG00000002586.16 & ENSG00000002933.6 & ENSG00000003137.7 & ENSG00000003436.13 & ENSG00000004139.12 & ENSG00000004399.11 & ENSG00000004455.15 & ENSG00000004766.14 & ENSG00000004777.17 & ENSG00000004799.7 & ENSG00000004809.12 & ENSG00000004848.6 & ENSG00000004939.12 & ENSG00000005007.11 & ENSG00000005073.5 & ENSG00000005108.14\\\\\n",
       "\\hline\n",
       "\tFold 1\\_5k & 0.4217334 & 0.4217334 & 0.4217334 & 0.4217334 & 0.4217334 & 0.4217334 & 0.4217334 & 0.4217334 & 0.4217334 & 0.4217334 & 0.4217334 & 0.4217334 & 0.4217334 & 0.4217334 & 0.4217334 & 0.4217334 & 0.4217334 & 0.4217334 & 0.4217334 & 0.4217334\\\\\n",
       "\tFold 2\\_5k & 0.5652586 & 0.5652586 & 0.5652586 & 0.5652586 & 0.5652586 & 0.5652586 & 0.5652586 & 0.5652586 & 0.5652586 & 0.5652586 & 0.5652586 & 0.5652586 & 0.5652586 & 0.5652586 & 0.5652586 & 0.5652586 & 0.5652586 & 0.5652586 & 0.5652586 & 0.5652586\\\\\n",
       "\tFold 3\\_5k & 0.4525438 & 0.4525438 & 0.4525438 & 0.4525438 & 0.4525438 & 0.4525438 & 0.4525438 & 0.4525438 & 0.4525438 & 0.4525438 & 0.4525438 & 0.4525438 & 0.4525438 & 0.4525438 & 0.4525438 & 0.4525438 & 0.4525438 & 0.4525438 & 0.4525438 & 0.4525438\\\\\n",
       "\tFold 4\\_5k & 0.5488613 & 0.5488613 & 0.5488613 & 0.5488613 & 0.5488613 & 0.5488613 & 0.5488613 & 0.5488613 & 0.5488613 & 0.5488613 & 0.5488613 & 0.5488613 & 0.5488613 & 0.5488613 & 0.5488613 & 0.5488613 & 0.5488613 & 0.5488613 & 0.5488613 & 0.5488613\\\\\n",
       "\tFold 5\\_5k & 0.8108638 & 0.8108638 & 0.8108638 & 0.8108638 & 0.8108638 & 0.8108638 & 0.8108638 & 0.8108638 & 0.8108638 & 0.8108638 & 0.8108638 & 0.8108638 & 0.8108638 & 0.8108638 & 0.8108638 & 0.8108638 & 0.8108638 & 0.8108638 & 0.8108638 & 0.7367390\\\\\n",
       "\\end{tabular}\n"
      ],
      "text/markdown": [
       "\n",
       "| <!--/--> | ENSG00000000003.13 | ENSG00000000971.14 | ENSG00000001084.9 | ENSG00000001561.6 | ENSG00000002586.16 | ENSG00000002933.6 | ENSG00000003137.7 | ENSG00000003436.13 | ENSG00000004139.12 | ENSG00000004399.11 | ENSG00000004455.15 | ENSG00000004766.14 | ENSG00000004777.17 | ENSG00000004799.7 | ENSG00000004809.12 | ENSG00000004848.6 | ENSG00000004939.12 | ENSG00000005007.11 | ENSG00000005073.5 | ENSG00000005108.14 |\n",
       "|---|---|---|---|---|---|---|---|---|---|---|---|---|---|---|---|---|---|---|---|---|\n",
       "| Fold 1_5k | 0.4217334 | 0.4217334 | 0.4217334 | 0.4217334 | 0.4217334 | 0.4217334 | 0.4217334 | 0.4217334 | 0.4217334 | 0.4217334 | 0.4217334 | 0.4217334 | 0.4217334 | 0.4217334 | 0.4217334 | 0.4217334 | 0.4217334 | 0.4217334 | 0.4217334 | 0.4217334 |\n",
       "| Fold 2_5k | 0.5652586 | 0.5652586 | 0.5652586 | 0.5652586 | 0.5652586 | 0.5652586 | 0.5652586 | 0.5652586 | 0.5652586 | 0.5652586 | 0.5652586 | 0.5652586 | 0.5652586 | 0.5652586 | 0.5652586 | 0.5652586 | 0.5652586 | 0.5652586 | 0.5652586 | 0.5652586 |\n",
       "| Fold 3_5k | 0.4525438 | 0.4525438 | 0.4525438 | 0.4525438 | 0.4525438 | 0.4525438 | 0.4525438 | 0.4525438 | 0.4525438 | 0.4525438 | 0.4525438 | 0.4525438 | 0.4525438 | 0.4525438 | 0.4525438 | 0.4525438 | 0.4525438 | 0.4525438 | 0.4525438 | 0.4525438 |\n",
       "| Fold 4_5k | 0.5488613 | 0.5488613 | 0.5488613 | 0.5488613 | 0.5488613 | 0.5488613 | 0.5488613 | 0.5488613 | 0.5488613 | 0.5488613 | 0.5488613 | 0.5488613 | 0.5488613 | 0.5488613 | 0.5488613 | 0.5488613 | 0.5488613 | 0.5488613 | 0.5488613 | 0.5488613 |\n",
       "| Fold 5_5k | 0.8108638 | 0.8108638 | 0.8108638 | 0.8108638 | 0.8108638 | 0.8108638 | 0.8108638 | 0.8108638 | 0.8108638 | 0.8108638 | 0.8108638 | 0.8108638 | 0.8108638 | 0.8108638 | 0.8108638 | 0.8108638 | 0.8108638 | 0.8108638 | 0.8108638 | 0.7367390 |\n",
       "\n"
      ],
      "text/plain": [
       "          ENSG00000000003.13 ENSG00000000971.14 ENSG00000001084.9\n",
       "Fold 1_5k 0.4217334          0.4217334          0.4217334        \n",
       "Fold 2_5k 0.5652586          0.5652586          0.5652586        \n",
       "Fold 3_5k 0.4525438          0.4525438          0.4525438        \n",
       "Fold 4_5k 0.5488613          0.5488613          0.5488613        \n",
       "Fold 5_5k 0.8108638          0.8108638          0.8108638        \n",
       "          ENSG00000001561.6 ENSG00000002586.16 ENSG00000002933.6\n",
       "Fold 1_5k 0.4217334         0.4217334          0.4217334        \n",
       "Fold 2_5k 0.5652586         0.5652586          0.5652586        \n",
       "Fold 3_5k 0.4525438         0.4525438          0.4525438        \n",
       "Fold 4_5k 0.5488613         0.5488613          0.5488613        \n",
       "Fold 5_5k 0.8108638         0.8108638          0.8108638        \n",
       "          ENSG00000003137.7 ENSG00000003436.13 ENSG00000004139.12\n",
       "Fold 1_5k 0.4217334         0.4217334          0.4217334         \n",
       "Fold 2_5k 0.5652586         0.5652586          0.5652586         \n",
       "Fold 3_5k 0.4525438         0.4525438          0.4525438         \n",
       "Fold 4_5k 0.5488613         0.5488613          0.5488613         \n",
       "Fold 5_5k 0.8108638         0.8108638          0.8108638         \n",
       "          ENSG00000004399.11 ENSG00000004455.15 ENSG00000004766.14\n",
       "Fold 1_5k 0.4217334          0.4217334          0.4217334         \n",
       "Fold 2_5k 0.5652586          0.5652586          0.5652586         \n",
       "Fold 3_5k 0.4525438          0.4525438          0.4525438         \n",
       "Fold 4_5k 0.5488613          0.5488613          0.5488613         \n",
       "Fold 5_5k 0.8108638          0.8108638          0.8108638         \n",
       "          ENSG00000004777.17 ENSG00000004799.7 ENSG00000004809.12\n",
       "Fold 1_5k 0.4217334          0.4217334         0.4217334         \n",
       "Fold 2_5k 0.5652586          0.5652586         0.5652586         \n",
       "Fold 3_5k 0.4525438          0.4525438         0.4525438         \n",
       "Fold 4_5k 0.5488613          0.5488613         0.5488613         \n",
       "Fold 5_5k 0.8108638          0.8108638         0.8108638         \n",
       "          ENSG00000004848.6 ENSG00000004939.12 ENSG00000005007.11\n",
       "Fold 1_5k 0.4217334         0.4217334          0.4217334         \n",
       "Fold 2_5k 0.5652586         0.5652586          0.5652586         \n",
       "Fold 3_5k 0.4525438         0.4525438          0.4525438         \n",
       "Fold 4_5k 0.5488613         0.5488613          0.5488613         \n",
       "Fold 5_5k 0.8108638         0.8108638          0.8108638         \n",
       "          ENSG00000005073.5 ENSG00000005108.14\n",
       "Fold 1_5k 0.4217334         0.4217334         \n",
       "Fold 2_5k 0.5652586         0.5652586         \n",
       "Fold 3_5k 0.4525438         0.4525438         \n",
       "Fold 4_5k 0.5488613         0.5488613         \n",
       "Fold 5_5k 0.8108638         0.7367390         "
      ]
     },
     "metadata": {},
     "output_type": "display_data"
    },
    {
     "data": {
      "text/html": [
       "<table>\n",
       "<thead><tr><th></th><th scope=col>ENSG00000000003.13</th><th scope=col>ENSG00000000971.14</th><th scope=col>ENSG00000001561.6</th><th scope=col>ENSG00000002586.16</th><th scope=col>ENSG00000003137.7</th><th scope=col>ENSG00000003436.13</th><th scope=col>ENSG00000004139.12</th><th scope=col>ENSG00000004399.11</th><th scope=col>ENSG00000004455.15</th><th scope=col>ENSG00000005073.5</th><th scope=col>ENSG00000005108.14</th><th scope=col>ENSG00000005156.10</th><th scope=col>ENSG00000005249.11</th><th scope=col>ENSG00000005381.7</th><th scope=col>ENSG00000005421.7</th><th scope=col>ENSG00000005513.9</th><th scope=col>ENSG00000006377.10</th><th scope=col>ENSG00000006432.14</th><th scope=col>ENSG00000006451.6</th><th scope=col>ENSG00000006468.12</th></tr></thead>\n",
       "<tbody>\n",
       "\t<tr><th scope=row>Fold 1_2.5k</th><td>0.4069436</td><td>0.4069436</td><td>0.4069436</td><td>0.4069436</td><td>0.4069436</td><td>0.4069436</td><td>0.4069436</td><td>0.4069436</td><td>0.4069436</td><td>0.4069436</td><td>0.4069436</td><td>0.4069436</td><td>0.4069436</td><td>0.4069436</td><td>0.4069436</td><td>0.4069436</td><td>0.4069436</td><td>0.4069436</td><td>0.4069436</td><td>0.4069436</td></tr>\n",
       "\t<tr><th scope=row>Fold 2_2.5k</th><td>0.5634031</td><td>0.5634031</td><td>0.5634031</td><td>0.5634031</td><td>0.5634031</td><td>0.5634031</td><td>0.5634031</td><td>0.5634031</td><td>0.5634031</td><td>0.5634031</td><td>0.5634031</td><td>0.5634031</td><td>0.5634031</td><td>0.5634031</td><td>0.5634031</td><td>0.5304750</td><td>0.5634031</td><td>0.5634031</td><td>0.5634031</td><td>0.5634031</td></tr>\n",
       "\t<tr><th scope=row>Fold 3_2.5k</th><td>0.4216463</td><td>0.4216463</td><td>0.4216463</td><td>0.4216463</td><td>0.4216463</td><td>0.4216463</td><td>0.4216463</td><td>0.4216463</td><td>0.4216463</td><td>0.4216463</td><td>0.4216463</td><td>0.4216463</td><td>0.4216463</td><td>0.4216463</td><td>0.4216463</td><td>0.4216463</td><td>0.4216463</td><td>0.4216463</td><td>0.4216463</td><td>0.4216463</td></tr>\n",
       "\t<tr><th scope=row>Fold 4_2.5k</th><td>0.5413079</td><td>0.5413079</td><td>0.5413079</td><td>0.5413079</td><td>0.5413079</td><td>0.5413079</td><td>0.5413079</td><td>0.5413079</td><td>0.5413079</td><td>0.5413079</td><td>0.5413079</td><td>0.5413079</td><td>0.5413079</td><td>0.5413079</td><td>0.5413079</td><td>0.5413079</td><td>0.5413079</td><td>0.5413079</td><td>0.5413079</td><td>0.5413079</td></tr>\n",
       "\t<tr><th scope=row>Fold 5_2.5k</th><td>0.7509210</td><td>0.7509210</td><td>0.7962521</td><td>0.7509210</td><td>0.7509210</td><td>0.7509210</td><td>0.7509210</td><td>0.7509210</td><td>0.7509210</td><td>0.7509210</td><td>0.7132181</td><td>0.7509210</td><td>0.7509210</td><td>0.7509210</td><td>0.7509210</td><td>0.7195216</td><td>0.7509210</td><td>0.7509210</td><td>0.7509210</td><td>0.7509210</td></tr>\n",
       "</tbody>\n",
       "</table>\n"
      ],
      "text/latex": [
       "\\begin{tabular}{r|llllllllllllllllllll}\n",
       "  & ENSG00000000003.13 & ENSG00000000971.14 & ENSG00000001561.6 & ENSG00000002586.16 & ENSG00000003137.7 & ENSG00000003436.13 & ENSG00000004139.12 & ENSG00000004399.11 & ENSG00000004455.15 & ENSG00000005073.5 & ENSG00000005108.14 & ENSG00000005156.10 & ENSG00000005249.11 & ENSG00000005381.7 & ENSG00000005421.7 & ENSG00000005513.9 & ENSG00000006377.10 & ENSG00000006432.14 & ENSG00000006451.6 & ENSG00000006468.12\\\\\n",
       "\\hline\n",
       "\tFold 1\\_2.5k & 0.4069436 & 0.4069436 & 0.4069436 & 0.4069436 & 0.4069436 & 0.4069436 & 0.4069436 & 0.4069436 & 0.4069436 & 0.4069436 & 0.4069436 & 0.4069436 & 0.4069436 & 0.4069436 & 0.4069436 & 0.4069436 & 0.4069436 & 0.4069436 & 0.4069436 & 0.4069436\\\\\n",
       "\tFold 2\\_2.5k & 0.5634031 & 0.5634031 & 0.5634031 & 0.5634031 & 0.5634031 & 0.5634031 & 0.5634031 & 0.5634031 & 0.5634031 & 0.5634031 & 0.5634031 & 0.5634031 & 0.5634031 & 0.5634031 & 0.5634031 & 0.5304750 & 0.5634031 & 0.5634031 & 0.5634031 & 0.5634031\\\\\n",
       "\tFold 3\\_2.5k & 0.4216463 & 0.4216463 & 0.4216463 & 0.4216463 & 0.4216463 & 0.4216463 & 0.4216463 & 0.4216463 & 0.4216463 & 0.4216463 & 0.4216463 & 0.4216463 & 0.4216463 & 0.4216463 & 0.4216463 & 0.4216463 & 0.4216463 & 0.4216463 & 0.4216463 & 0.4216463\\\\\n",
       "\tFold 4\\_2.5k & 0.5413079 & 0.5413079 & 0.5413079 & 0.5413079 & 0.5413079 & 0.5413079 & 0.5413079 & 0.5413079 & 0.5413079 & 0.5413079 & 0.5413079 & 0.5413079 & 0.5413079 & 0.5413079 & 0.5413079 & 0.5413079 & 0.5413079 & 0.5413079 & 0.5413079 & 0.5413079\\\\\n",
       "\tFold 5\\_2.5k & 0.7509210 & 0.7509210 & 0.7962521 & 0.7509210 & 0.7509210 & 0.7509210 & 0.7509210 & 0.7509210 & 0.7509210 & 0.7509210 & 0.7132181 & 0.7509210 & 0.7509210 & 0.7509210 & 0.7509210 & 0.7195216 & 0.7509210 & 0.7509210 & 0.7509210 & 0.7509210\\\\\n",
       "\\end{tabular}\n"
      ],
      "text/markdown": [
       "\n",
       "| <!--/--> | ENSG00000000003.13 | ENSG00000000971.14 | ENSG00000001561.6 | ENSG00000002586.16 | ENSG00000003137.7 | ENSG00000003436.13 | ENSG00000004139.12 | ENSG00000004399.11 | ENSG00000004455.15 | ENSG00000005073.5 | ENSG00000005108.14 | ENSG00000005156.10 | ENSG00000005249.11 | ENSG00000005381.7 | ENSG00000005421.7 | ENSG00000005513.9 | ENSG00000006377.10 | ENSG00000006432.14 | ENSG00000006451.6 | ENSG00000006468.12 |\n",
       "|---|---|---|---|---|---|---|---|---|---|---|---|---|---|---|---|---|---|---|---|---|\n",
       "| Fold 1_2.5k | 0.4069436 | 0.4069436 | 0.4069436 | 0.4069436 | 0.4069436 | 0.4069436 | 0.4069436 | 0.4069436 | 0.4069436 | 0.4069436 | 0.4069436 | 0.4069436 | 0.4069436 | 0.4069436 | 0.4069436 | 0.4069436 | 0.4069436 | 0.4069436 | 0.4069436 | 0.4069436 |\n",
       "| Fold 2_2.5k | 0.5634031 | 0.5634031 | 0.5634031 | 0.5634031 | 0.5634031 | 0.5634031 | 0.5634031 | 0.5634031 | 0.5634031 | 0.5634031 | 0.5634031 | 0.5634031 | 0.5634031 | 0.5634031 | 0.5634031 | 0.5304750 | 0.5634031 | 0.5634031 | 0.5634031 | 0.5634031 |\n",
       "| Fold 3_2.5k | 0.4216463 | 0.4216463 | 0.4216463 | 0.4216463 | 0.4216463 | 0.4216463 | 0.4216463 | 0.4216463 | 0.4216463 | 0.4216463 | 0.4216463 | 0.4216463 | 0.4216463 | 0.4216463 | 0.4216463 | 0.4216463 | 0.4216463 | 0.4216463 | 0.4216463 | 0.4216463 |\n",
       "| Fold 4_2.5k | 0.5413079 | 0.5413079 | 0.5413079 | 0.5413079 | 0.5413079 | 0.5413079 | 0.5413079 | 0.5413079 | 0.5413079 | 0.5413079 | 0.5413079 | 0.5413079 | 0.5413079 | 0.5413079 | 0.5413079 | 0.5413079 | 0.5413079 | 0.5413079 | 0.5413079 | 0.5413079 |\n",
       "| Fold 5_2.5k | 0.7509210 | 0.7509210 | 0.7962521 | 0.7509210 | 0.7509210 | 0.7509210 | 0.7509210 | 0.7509210 | 0.7509210 | 0.7509210 | 0.7132181 | 0.7509210 | 0.7509210 | 0.7509210 | 0.7509210 | 0.7195216 | 0.7509210 | 0.7509210 | 0.7509210 | 0.7509210 |\n",
       "\n"
      ],
      "text/plain": [
       "            ENSG00000000003.13 ENSG00000000971.14 ENSG00000001561.6\n",
       "Fold 1_2.5k 0.4069436          0.4069436          0.4069436        \n",
       "Fold 2_2.5k 0.5634031          0.5634031          0.5634031        \n",
       "Fold 3_2.5k 0.4216463          0.4216463          0.4216463        \n",
       "Fold 4_2.5k 0.5413079          0.5413079          0.5413079        \n",
       "Fold 5_2.5k 0.7509210          0.7509210          0.7962521        \n",
       "            ENSG00000002586.16 ENSG00000003137.7 ENSG00000003436.13\n",
       "Fold 1_2.5k 0.4069436          0.4069436         0.4069436         \n",
       "Fold 2_2.5k 0.5634031          0.5634031         0.5634031         \n",
       "Fold 3_2.5k 0.4216463          0.4216463         0.4216463         \n",
       "Fold 4_2.5k 0.5413079          0.5413079         0.5413079         \n",
       "Fold 5_2.5k 0.7509210          0.7509210         0.7509210         \n",
       "            ENSG00000004139.12 ENSG00000004399.11 ENSG00000004455.15\n",
       "Fold 1_2.5k 0.4069436          0.4069436          0.4069436         \n",
       "Fold 2_2.5k 0.5634031          0.5634031          0.5634031         \n",
       "Fold 3_2.5k 0.4216463          0.4216463          0.4216463         \n",
       "Fold 4_2.5k 0.5413079          0.5413079          0.5413079         \n",
       "Fold 5_2.5k 0.7509210          0.7509210          0.7509210         \n",
       "            ENSG00000005073.5 ENSG00000005108.14 ENSG00000005156.10\n",
       "Fold 1_2.5k 0.4069436         0.4069436          0.4069436         \n",
       "Fold 2_2.5k 0.5634031         0.5634031          0.5634031         \n",
       "Fold 3_2.5k 0.4216463         0.4216463          0.4216463         \n",
       "Fold 4_2.5k 0.5413079         0.5413079          0.5413079         \n",
       "Fold 5_2.5k 0.7509210         0.7132181          0.7509210         \n",
       "            ENSG00000005249.11 ENSG00000005381.7 ENSG00000005421.7\n",
       "Fold 1_2.5k 0.4069436          0.4069436         0.4069436        \n",
       "Fold 2_2.5k 0.5634031          0.5634031         0.5634031        \n",
       "Fold 3_2.5k 0.4216463          0.4216463         0.4216463        \n",
       "Fold 4_2.5k 0.5413079          0.5413079         0.5413079        \n",
       "Fold 5_2.5k 0.7509210          0.7509210         0.7509210        \n",
       "            ENSG00000005513.9 ENSG00000006377.10 ENSG00000006432.14\n",
       "Fold 1_2.5k 0.4069436         0.4069436          0.4069436         \n",
       "Fold 2_2.5k 0.5304750         0.5634031          0.5634031         \n",
       "Fold 3_2.5k 0.4216463         0.4216463          0.4216463         \n",
       "Fold 4_2.5k 0.5413079         0.5413079          0.5413079         \n",
       "Fold 5_2.5k 0.7195216         0.7509210          0.7509210         \n",
       "            ENSG00000006451.6 ENSG00000006468.12\n",
       "Fold 1_2.5k 0.4069436         0.4069436         \n",
       "Fold 2_2.5k 0.5634031         0.5634031         \n",
       "Fold 3_2.5k 0.4216463         0.4216463         \n",
       "Fold 4_2.5k 0.5413079         0.5413079         \n",
       "Fold 5_2.5k 0.7509210         0.7509210         "
      ]
     },
     "metadata": {},
     "output_type": "display_data"
    },
    {
     "data": {
      "text/html": [
       "<table>\n",
       "<thead><tr><th></th><th scope=col>ENSG00000000003.13</th><th scope=col>ENSG00000002586.16</th><th scope=col>ENSG00000003436.13</th><th scope=col>ENSG00000004139.12</th><th scope=col>ENSG00000004399.11</th><th scope=col>ENSG00000005073.5</th><th scope=col>ENSG00000005108.14</th><th scope=col>ENSG00000005156.10</th><th scope=col>ENSG00000005249.11</th><th scope=col>ENSG00000005381.7</th><th scope=col>ENSG00000006468.12</th><th scope=col>ENSG00000006638.10</th><th scope=col>ENSG00000007516.12</th><th scope=col>ENSG00000008056.11</th><th scope=col>ENSG00000008086.9</th><th scope=col>ENSG00000008283.14</th><th scope=col>ENSG00000008394.11</th><th scope=col>ENSG00000008735.13</th><th scope=col>ENSG00000010318.18</th><th scope=col>ENSG00000010319.5</th></tr></thead>\n",
       "<tbody>\n",
       "\t<tr><th scope=row>Fold 1_1k</th><td>0.5261222</td><td>0.5261222</td><td>0.5261222</td><td>0.5261222</td><td>0.5261222</td><td>0.5261222</td><td>0.5261222</td><td>0.5261222</td><td>0.5261222</td><td>0.5261222</td><td>0.5261222</td><td>0.5261222</td><td>0.5261222</td><td>0.5261222</td><td>0.5261222</td><td>0.5261222</td><td>0.5261222</td><td>0.5261222</td><td>0.5261222</td><td>0.5261222</td></tr>\n",
       "\t<tr><th scope=row>Fold 2_1k</th><td>0.5806290</td><td>0.5806290</td><td>0.5806290</td><td>0.5806290</td><td>0.5806290</td><td>0.5806290</td><td>0.5806290</td><td>0.5806290</td><td>0.5806290</td><td>0.5806290</td><td>0.5806290</td><td>0.5806290</td><td>0.5806290</td><td>0.5806290</td><td>0.5806290</td><td>0.5806290</td><td>0.5806290</td><td>0.5806290</td><td>0.5806290</td><td>0.5806290</td></tr>\n",
       "\t<tr><th scope=row>Fold 3_1k</th><td>0.5625802</td><td>0.5625802</td><td>0.5625802</td><td>0.5625802</td><td>0.5625802</td><td>0.5625802</td><td>0.5625802</td><td>0.5625802</td><td>0.5625802</td><td>0.5625802</td><td>0.5625802</td><td>0.5625802</td><td>0.5625802</td><td>0.5625802</td><td>0.5625802</td><td>0.5625802</td><td>0.5625802</td><td>0.5625802</td><td>0.5625802</td><td>0.6972589</td></tr>\n",
       "\t<tr><th scope=row>Fold 4_1k</th><td>0.6388633</td><td>0.6388633</td><td>0.6388633</td><td>0.6388633</td><td>0.6388633</td><td>0.6388633</td><td>0.6388633</td><td>0.6388633</td><td>0.6388633</td><td>0.6388633</td><td>0.6388633</td><td>0.6388633</td><td>0.6388633</td><td>0.6388633</td><td>0.6388633</td><td>0.6388633</td><td>0.6388633</td><td>0.6388633</td><td>0.6388633</td><td>0.9506135</td></tr>\n",
       "\t<tr><th scope=row>Fold 5_1k</th><td>0.8144165</td><td>0.8144165</td><td>0.8144165</td><td>0.8144165</td><td>0.8144165</td><td>0.8144165</td><td>0.7524256</td><td>0.8144165</td><td>0.8144165</td><td>0.8144165</td><td>0.8144165</td><td>0.8144165</td><td>0.8144165</td><td>0.8144165</td><td>0.8144165</td><td>0.8144165</td><td>0.8144165</td><td>0.8144165</td><td>0.8144165</td><td>0.8144165</td></tr>\n",
       "</tbody>\n",
       "</table>\n"
      ],
      "text/latex": [
       "\\begin{tabular}{r|llllllllllllllllllll}\n",
       "  & ENSG00000000003.13 & ENSG00000002586.16 & ENSG00000003436.13 & ENSG00000004139.12 & ENSG00000004399.11 & ENSG00000005073.5 & ENSG00000005108.14 & ENSG00000005156.10 & ENSG00000005249.11 & ENSG00000005381.7 & ENSG00000006468.12 & ENSG00000006638.10 & ENSG00000007516.12 & ENSG00000008056.11 & ENSG00000008086.9 & ENSG00000008283.14 & ENSG00000008394.11 & ENSG00000008735.13 & ENSG00000010318.18 & ENSG00000010319.5\\\\\n",
       "\\hline\n",
       "\tFold 1\\_1k & 0.5261222 & 0.5261222 & 0.5261222 & 0.5261222 & 0.5261222 & 0.5261222 & 0.5261222 & 0.5261222 & 0.5261222 & 0.5261222 & 0.5261222 & 0.5261222 & 0.5261222 & 0.5261222 & 0.5261222 & 0.5261222 & 0.5261222 & 0.5261222 & 0.5261222 & 0.5261222\\\\\n",
       "\tFold 2\\_1k & 0.5806290 & 0.5806290 & 0.5806290 & 0.5806290 & 0.5806290 & 0.5806290 & 0.5806290 & 0.5806290 & 0.5806290 & 0.5806290 & 0.5806290 & 0.5806290 & 0.5806290 & 0.5806290 & 0.5806290 & 0.5806290 & 0.5806290 & 0.5806290 & 0.5806290 & 0.5806290\\\\\n",
       "\tFold 3\\_1k & 0.5625802 & 0.5625802 & 0.5625802 & 0.5625802 & 0.5625802 & 0.5625802 & 0.5625802 & 0.5625802 & 0.5625802 & 0.5625802 & 0.5625802 & 0.5625802 & 0.5625802 & 0.5625802 & 0.5625802 & 0.5625802 & 0.5625802 & 0.5625802 & 0.5625802 & 0.6972589\\\\\n",
       "\tFold 4\\_1k & 0.6388633 & 0.6388633 & 0.6388633 & 0.6388633 & 0.6388633 & 0.6388633 & 0.6388633 & 0.6388633 & 0.6388633 & 0.6388633 & 0.6388633 & 0.6388633 & 0.6388633 & 0.6388633 & 0.6388633 & 0.6388633 & 0.6388633 & 0.6388633 & 0.6388633 & 0.9506135\\\\\n",
       "\tFold 5\\_1k & 0.8144165 & 0.8144165 & 0.8144165 & 0.8144165 & 0.8144165 & 0.8144165 & 0.7524256 & 0.8144165 & 0.8144165 & 0.8144165 & 0.8144165 & 0.8144165 & 0.8144165 & 0.8144165 & 0.8144165 & 0.8144165 & 0.8144165 & 0.8144165 & 0.8144165 & 0.8144165\\\\\n",
       "\\end{tabular}\n"
      ],
      "text/markdown": [
       "\n",
       "| <!--/--> | ENSG00000000003.13 | ENSG00000002586.16 | ENSG00000003436.13 | ENSG00000004139.12 | ENSG00000004399.11 | ENSG00000005073.5 | ENSG00000005108.14 | ENSG00000005156.10 | ENSG00000005249.11 | ENSG00000005381.7 | ENSG00000006468.12 | ENSG00000006638.10 | ENSG00000007516.12 | ENSG00000008056.11 | ENSG00000008086.9 | ENSG00000008283.14 | ENSG00000008394.11 | ENSG00000008735.13 | ENSG00000010318.18 | ENSG00000010319.5 |\n",
       "|---|---|---|---|---|---|---|---|---|---|---|---|---|---|---|---|---|---|---|---|---|\n",
       "| Fold 1_1k | 0.5261222 | 0.5261222 | 0.5261222 | 0.5261222 | 0.5261222 | 0.5261222 | 0.5261222 | 0.5261222 | 0.5261222 | 0.5261222 | 0.5261222 | 0.5261222 | 0.5261222 | 0.5261222 | 0.5261222 | 0.5261222 | 0.5261222 | 0.5261222 | 0.5261222 | 0.5261222 |\n",
       "| Fold 2_1k | 0.5806290 | 0.5806290 | 0.5806290 | 0.5806290 | 0.5806290 | 0.5806290 | 0.5806290 | 0.5806290 | 0.5806290 | 0.5806290 | 0.5806290 | 0.5806290 | 0.5806290 | 0.5806290 | 0.5806290 | 0.5806290 | 0.5806290 | 0.5806290 | 0.5806290 | 0.5806290 |\n",
       "| Fold 3_1k | 0.5625802 | 0.5625802 | 0.5625802 | 0.5625802 | 0.5625802 | 0.5625802 | 0.5625802 | 0.5625802 | 0.5625802 | 0.5625802 | 0.5625802 | 0.5625802 | 0.5625802 | 0.5625802 | 0.5625802 | 0.5625802 | 0.5625802 | 0.5625802 | 0.5625802 | 0.6972589 |\n",
       "| Fold 4_1k | 0.6388633 | 0.6388633 | 0.6388633 | 0.6388633 | 0.6388633 | 0.6388633 | 0.6388633 | 0.6388633 | 0.6388633 | 0.6388633 | 0.6388633 | 0.6388633 | 0.6388633 | 0.6388633 | 0.6388633 | 0.6388633 | 0.6388633 | 0.6388633 | 0.6388633 | 0.9506135 |\n",
       "| Fold 5_1k | 0.8144165 | 0.8144165 | 0.8144165 | 0.8144165 | 0.8144165 | 0.8144165 | 0.7524256 | 0.8144165 | 0.8144165 | 0.8144165 | 0.8144165 | 0.8144165 | 0.8144165 | 0.8144165 | 0.8144165 | 0.8144165 | 0.8144165 | 0.8144165 | 0.8144165 | 0.8144165 |\n",
       "\n"
      ],
      "text/plain": [
       "          ENSG00000000003.13 ENSG00000002586.16 ENSG00000003436.13\n",
       "Fold 1_1k 0.5261222          0.5261222          0.5261222         \n",
       "Fold 2_1k 0.5806290          0.5806290          0.5806290         \n",
       "Fold 3_1k 0.5625802          0.5625802          0.5625802         \n",
       "Fold 4_1k 0.6388633          0.6388633          0.6388633         \n",
       "Fold 5_1k 0.8144165          0.8144165          0.8144165         \n",
       "          ENSG00000004139.12 ENSG00000004399.11 ENSG00000005073.5\n",
       "Fold 1_1k 0.5261222          0.5261222          0.5261222        \n",
       "Fold 2_1k 0.5806290          0.5806290          0.5806290        \n",
       "Fold 3_1k 0.5625802          0.5625802          0.5625802        \n",
       "Fold 4_1k 0.6388633          0.6388633          0.6388633        \n",
       "Fold 5_1k 0.8144165          0.8144165          0.8144165        \n",
       "          ENSG00000005108.14 ENSG00000005156.10 ENSG00000005249.11\n",
       "Fold 1_1k 0.5261222          0.5261222          0.5261222         \n",
       "Fold 2_1k 0.5806290          0.5806290          0.5806290         \n",
       "Fold 3_1k 0.5625802          0.5625802          0.5625802         \n",
       "Fold 4_1k 0.6388633          0.6388633          0.6388633         \n",
       "Fold 5_1k 0.7524256          0.8144165          0.8144165         \n",
       "          ENSG00000005381.7 ENSG00000006468.12 ENSG00000006638.10\n",
       "Fold 1_1k 0.5261222         0.5261222          0.5261222         \n",
       "Fold 2_1k 0.5806290         0.5806290          0.5806290         \n",
       "Fold 3_1k 0.5625802         0.5625802          0.5625802         \n",
       "Fold 4_1k 0.6388633         0.6388633          0.6388633         \n",
       "Fold 5_1k 0.8144165         0.8144165          0.8144165         \n",
       "          ENSG00000007516.12 ENSG00000008056.11 ENSG00000008086.9\n",
       "Fold 1_1k 0.5261222          0.5261222          0.5261222        \n",
       "Fold 2_1k 0.5806290          0.5806290          0.5806290        \n",
       "Fold 3_1k 0.5625802          0.5625802          0.5625802        \n",
       "Fold 4_1k 0.6388633          0.6388633          0.6388633        \n",
       "Fold 5_1k 0.8144165          0.8144165          0.8144165        \n",
       "          ENSG00000008283.14 ENSG00000008394.11 ENSG00000008735.13\n",
       "Fold 1_1k 0.5261222          0.5261222          0.5261222         \n",
       "Fold 2_1k 0.5806290          0.5806290          0.5806290         \n",
       "Fold 3_1k 0.5625802          0.5625802          0.5625802         \n",
       "Fold 4_1k 0.6388633          0.6388633          0.6388633         \n",
       "Fold 5_1k 0.8144165          0.8144165          0.8144165         \n",
       "          ENSG00000010318.18 ENSG00000010319.5\n",
       "Fold 1_1k 0.5261222          0.5261222        \n",
       "Fold 2_1k 0.5806290          0.5806290        \n",
       "Fold 3_1k 0.5625802          0.6972589        \n",
       "Fold 4_1k 0.6388633          0.9506135        \n",
       "Fold 5_1k 0.8144165          0.8144165        "
      ]
     },
     "metadata": {},
     "output_type": "display_data"
    },
    {
     "data": {
      "text/html": [
       "<table>\n",
       "<thead><tr><th></th><th scope=col>ENSG00000002586.16</th><th scope=col>ENSG00000005381.7</th><th scope=col>ENSG00000007516.12</th><th scope=col>ENSG00000019991.14</th><th scope=col>ENSG00000037280.14</th><th scope=col>ENSG00000065054.12</th><th scope=col>ENSG00000067177.13</th><th scope=col>ENSG00000078399.14</th><th scope=col>ENSG00000078596.9</th><th scope=col>ENSG00000086205.15</th><th scope=col>ENSG00000087495.15</th><th scope=col>ENSG00000091490.9</th><th scope=col>ENSG00000091972.17</th><th scope=col>ENSG00000095917.12</th><th scope=col>ENSG00000102595.17</th><th scope=col>ENSG00000105996.6</th><th scope=col>ENSG00000105997.21</th><th scope=col>ENSG00000106004.4</th><th scope=col>ENSG00000106006.6</th><th scope=col>ENSG00000106538.8</th></tr></thead>\n",
       "<tbody>\n",
       "\t<tr><th scope=row>Fold 1_100</th><td>0.6810269</td><td>0.6810269</td><td>0.6810269</td><td>0.6810269</td><td>0.6810269</td><td>0.6810269</td><td>0.6810269</td><td>0.6810269</td><td>0.6810269</td><td>0.6810269</td><td>0.6810269</td><td>0.6810269</td><td>0.6810269</td><td>0.6810269</td><td>0.6810269</td><td>0.6810269</td><td>0.6810269</td><td>0.6810269</td><td>0.6810269</td><td>0.6810269</td></tr>\n",
       "\t<tr><th scope=row>Fold 2_100</th><td>0.7479444</td><td>0.7479444</td><td>0.7479444</td><td>0.7479444</td><td>0.7479444</td><td>0.7479444</td><td>0.7479444</td><td>0.7479444</td><td>0.7479444</td><td>0.7479444</td><td>0.7479444</td><td>0.7479444</td><td>0.7479444</td><td>0.7463666</td><td>0.7479444</td><td>0.7479444</td><td>0.7479444</td><td>0.9235086</td><td>0.7479444</td><td>0.7479444</td></tr>\n",
       "\t<tr><th scope=row>Fold 3_100</th><td>0.4572114</td><td>0.4572114</td><td>0.4572114</td><td>0.4572114</td><td>0.4572114</td><td>0.4572114</td><td>0.4572114</td><td>0.5980190</td><td>0.4572114</td><td>0.4572114</td><td>0.4572114</td><td>0.4572114</td><td>0.4572114</td><td>0.4572114</td><td>0.4572114</td><td>0.4572114</td><td>0.4572114</td><td>0.5087868</td><td>0.6583213</td><td>0.4572114</td></tr>\n",
       "\t<tr><th scope=row>Fold 4_100</th><td>0.5882367</td><td>0.5882367</td><td>0.5882367</td><td>0.5882367</td><td>0.5882367</td><td>0.5882367</td><td>0.5882367</td><td>0.6827697</td><td>0.5882367</td><td>0.5882367</td><td>0.5882367</td><td>0.5882367</td><td>0.5882367</td><td>0.5882367</td><td>0.5882367</td><td>0.5882367</td><td>0.5882367</td><td>0.6542006</td><td>0.5882367</td><td>0.5882367</td></tr>\n",
       "\t<tr><th scope=row>Fold 5_100</th><td>0.7897975</td><td>0.7897975</td><td>0.7897975</td><td>0.7897975</td><td>0.7897975</td><td>0.7897975</td><td>0.8011790</td><td>0.7897975</td><td>0.7897975</td><td>0.7897975</td><td>0.7897975</td><td>0.7897975</td><td>0.7897975</td><td>0.7897975</td><td>0.7897975</td><td>0.7897975</td><td>0.7897975</td><td>1.0000000</td><td>0.7897975</td><td>0.7897975</td></tr>\n",
       "</tbody>\n",
       "</table>\n"
      ],
      "text/latex": [
       "\\begin{tabular}{r|llllllllllllllllllll}\n",
       "  & ENSG00000002586.16 & ENSG00000005381.7 & ENSG00000007516.12 & ENSG00000019991.14 & ENSG00000037280.14 & ENSG00000065054.12 & ENSG00000067177.13 & ENSG00000078399.14 & ENSG00000078596.9 & ENSG00000086205.15 & ENSG00000087495.15 & ENSG00000091490.9 & ENSG00000091972.17 & ENSG00000095917.12 & ENSG00000102595.17 & ENSG00000105996.6 & ENSG00000105997.21 & ENSG00000106004.4 & ENSG00000106006.6 & ENSG00000106538.8\\\\\n",
       "\\hline\n",
       "\tFold 1\\_100 & 0.6810269 & 0.6810269 & 0.6810269 & 0.6810269 & 0.6810269 & 0.6810269 & 0.6810269 & 0.6810269 & 0.6810269 & 0.6810269 & 0.6810269 & 0.6810269 & 0.6810269 & 0.6810269 & 0.6810269 & 0.6810269 & 0.6810269 & 0.6810269 & 0.6810269 & 0.6810269\\\\\n",
       "\tFold 2\\_100 & 0.7479444 & 0.7479444 & 0.7479444 & 0.7479444 & 0.7479444 & 0.7479444 & 0.7479444 & 0.7479444 & 0.7479444 & 0.7479444 & 0.7479444 & 0.7479444 & 0.7479444 & 0.7463666 & 0.7479444 & 0.7479444 & 0.7479444 & 0.9235086 & 0.7479444 & 0.7479444\\\\\n",
       "\tFold 3\\_100 & 0.4572114 & 0.4572114 & 0.4572114 & 0.4572114 & 0.4572114 & 0.4572114 & 0.4572114 & 0.5980190 & 0.4572114 & 0.4572114 & 0.4572114 & 0.4572114 & 0.4572114 & 0.4572114 & 0.4572114 & 0.4572114 & 0.4572114 & 0.5087868 & 0.6583213 & 0.4572114\\\\\n",
       "\tFold 4\\_100 & 0.5882367 & 0.5882367 & 0.5882367 & 0.5882367 & 0.5882367 & 0.5882367 & 0.5882367 & 0.6827697 & 0.5882367 & 0.5882367 & 0.5882367 & 0.5882367 & 0.5882367 & 0.5882367 & 0.5882367 & 0.5882367 & 0.5882367 & 0.6542006 & 0.5882367 & 0.5882367\\\\\n",
       "\tFold 5\\_100 & 0.7897975 & 0.7897975 & 0.7897975 & 0.7897975 & 0.7897975 & 0.7897975 & 0.8011790 & 0.7897975 & 0.7897975 & 0.7897975 & 0.7897975 & 0.7897975 & 0.7897975 & 0.7897975 & 0.7897975 & 0.7897975 & 0.7897975 & 1.0000000 & 0.7897975 & 0.7897975\\\\\n",
       "\\end{tabular}\n"
      ],
      "text/markdown": [
       "\n",
       "| <!--/--> | ENSG00000002586.16 | ENSG00000005381.7 | ENSG00000007516.12 | ENSG00000019991.14 | ENSG00000037280.14 | ENSG00000065054.12 | ENSG00000067177.13 | ENSG00000078399.14 | ENSG00000078596.9 | ENSG00000086205.15 | ENSG00000087495.15 | ENSG00000091490.9 | ENSG00000091972.17 | ENSG00000095917.12 | ENSG00000102595.17 | ENSG00000105996.6 | ENSG00000105997.21 | ENSG00000106004.4 | ENSG00000106006.6 | ENSG00000106538.8 |\n",
       "|---|---|---|---|---|---|---|---|---|---|---|---|---|---|---|---|---|---|---|---|---|\n",
       "| Fold 1_100 | 0.6810269 | 0.6810269 | 0.6810269 | 0.6810269 | 0.6810269 | 0.6810269 | 0.6810269 | 0.6810269 | 0.6810269 | 0.6810269 | 0.6810269 | 0.6810269 | 0.6810269 | 0.6810269 | 0.6810269 | 0.6810269 | 0.6810269 | 0.6810269 | 0.6810269 | 0.6810269 |\n",
       "| Fold 2_100 | 0.7479444 | 0.7479444 | 0.7479444 | 0.7479444 | 0.7479444 | 0.7479444 | 0.7479444 | 0.7479444 | 0.7479444 | 0.7479444 | 0.7479444 | 0.7479444 | 0.7479444 | 0.7463666 | 0.7479444 | 0.7479444 | 0.7479444 | 0.9235086 | 0.7479444 | 0.7479444 |\n",
       "| Fold 3_100 | 0.4572114 | 0.4572114 | 0.4572114 | 0.4572114 | 0.4572114 | 0.4572114 | 0.4572114 | 0.5980190 | 0.4572114 | 0.4572114 | 0.4572114 | 0.4572114 | 0.4572114 | 0.4572114 | 0.4572114 | 0.4572114 | 0.4572114 | 0.5087868 | 0.6583213 | 0.4572114 |\n",
       "| Fold 4_100 | 0.5882367 | 0.5882367 | 0.5882367 | 0.5882367 | 0.5882367 | 0.5882367 | 0.5882367 | 0.6827697 | 0.5882367 | 0.5882367 | 0.5882367 | 0.5882367 | 0.5882367 | 0.5882367 | 0.5882367 | 0.5882367 | 0.5882367 | 0.6542006 | 0.5882367 | 0.5882367 |\n",
       "| Fold 5_100 | 0.7897975 | 0.7897975 | 0.7897975 | 0.7897975 | 0.7897975 | 0.7897975 | 0.8011790 | 0.7897975 | 0.7897975 | 0.7897975 | 0.7897975 | 0.7897975 | 0.7897975 | 0.7897975 | 0.7897975 | 0.7897975 | 0.7897975 | 1.0000000 | 0.7897975 | 0.7897975 |\n",
       "\n"
      ],
      "text/plain": [
       "           ENSG00000002586.16 ENSG00000005381.7 ENSG00000007516.12\n",
       "Fold 1_100 0.6810269          0.6810269         0.6810269         \n",
       "Fold 2_100 0.7479444          0.7479444         0.7479444         \n",
       "Fold 3_100 0.4572114          0.4572114         0.4572114         \n",
       "Fold 4_100 0.5882367          0.5882367         0.5882367         \n",
       "Fold 5_100 0.7897975          0.7897975         0.7897975         \n",
       "           ENSG00000019991.14 ENSG00000037280.14 ENSG00000065054.12\n",
       "Fold 1_100 0.6810269          0.6810269          0.6810269         \n",
       "Fold 2_100 0.7479444          0.7479444          0.7479444         \n",
       "Fold 3_100 0.4572114          0.4572114          0.4572114         \n",
       "Fold 4_100 0.5882367          0.5882367          0.5882367         \n",
       "Fold 5_100 0.7897975          0.7897975          0.7897975         \n",
       "           ENSG00000067177.13 ENSG00000078399.14 ENSG00000078596.9\n",
       "Fold 1_100 0.6810269          0.6810269          0.6810269        \n",
       "Fold 2_100 0.7479444          0.7479444          0.7479444        \n",
       "Fold 3_100 0.4572114          0.5980190          0.4572114        \n",
       "Fold 4_100 0.5882367          0.6827697          0.5882367        \n",
       "Fold 5_100 0.8011790          0.7897975          0.7897975        \n",
       "           ENSG00000086205.15 ENSG00000087495.15 ENSG00000091490.9\n",
       "Fold 1_100 0.6810269          0.6810269          0.6810269        \n",
       "Fold 2_100 0.7479444          0.7479444          0.7479444        \n",
       "Fold 3_100 0.4572114          0.4572114          0.4572114        \n",
       "Fold 4_100 0.5882367          0.5882367          0.5882367        \n",
       "Fold 5_100 0.7897975          0.7897975          0.7897975        \n",
       "           ENSG00000091972.17 ENSG00000095917.12 ENSG00000102595.17\n",
       "Fold 1_100 0.6810269          0.6810269          0.6810269         \n",
       "Fold 2_100 0.7479444          0.7463666          0.7479444         \n",
       "Fold 3_100 0.4572114          0.4572114          0.4572114         \n",
       "Fold 4_100 0.5882367          0.5882367          0.5882367         \n",
       "Fold 5_100 0.7897975          0.7897975          0.7897975         \n",
       "           ENSG00000105996.6 ENSG00000105997.21 ENSG00000106004.4\n",
       "Fold 1_100 0.6810269         0.6810269          0.6810269        \n",
       "Fold 2_100 0.7479444         0.7479444          0.9235086        \n",
       "Fold 3_100 0.4572114         0.4572114          0.5087868        \n",
       "Fold 4_100 0.5882367         0.5882367          0.6542006        \n",
       "Fold 5_100 0.7897975         0.7897975          1.0000000        \n",
       "           ENSG00000106006.6 ENSG00000106538.8\n",
       "Fold 1_100 0.6810269         0.6810269        \n",
       "Fold 2_100 0.7479444         0.7479444        \n",
       "Fold 3_100 0.6583213         0.4572114        \n",
       "Fold 4_100 0.5882367         0.5882367        \n",
       "Fold 5_100 0.7897975         0.7897975        "
      ]
     },
     "metadata": {},
     "output_type": "display_data"
    }
   ],
   "source": [
    "#sanity check\n",
    "lasso.coef.norm.10k[, 1:20]\n",
    "lasso.coef.norm.5k[, 1:20]\n",
    "lasso.coef.norm.2.5k[, 1:20]\n",
    "lasso.coef.norm.1k[, 1:20]\n",
    "lasso.coef.norm.100[, 1:20]"
   ]
  },
  {
   "cell_type": "code",
   "execution_count": 37,
   "metadata": {},
   "outputs": [
    {
     "data": {
      "text/html": [
       "0"
      ],
      "text/latex": [
       "0"
      ],
      "text/markdown": [
       "0"
      ],
      "text/plain": [
       "[1] 0"
      ]
     },
     "metadata": {},
     "output_type": "display_data"
    },
    {
     "data": {
      "text/html": [
       "1"
      ],
      "text/latex": [
       "1"
      ],
      "text/markdown": [
       "1"
      ],
      "text/plain": [
       "[1] 1"
      ]
     },
     "metadata": {},
     "output_type": "display_data"
    }
   ],
   "source": [
    "min(lasso.coef.norm.5k[1,])\n",
    "max(lasso.coef.norm.5k[1,])"
   ]
  },
  {
   "cell_type": "markdown",
   "metadata": {},
   "source": [
    "### Decision Tree data"
   ]
  },
  {
   "cell_type": "code",
   "execution_count": 38,
   "metadata": {},
   "outputs": [
    {
     "data": {
      "text/html": [
       "<table>\n",
       "<thead><tr><th></th><th scope=col>ENSG00000000003.13</th><th scope=col>ENSG00000000971.14</th><th scope=col>ENSG00000001084.9</th><th scope=col>ENSG00000001167.13</th><th scope=col>ENSG00000001461.15</th><th scope=col>ENSG00000001561.6</th></tr></thead>\n",
       "<tbody>\n",
       "\t<tr><th scope=row>Fold 1_10k</th><td>0</td><td>0</td><td>0</td><td>0</td><td>0</td><td>0</td></tr>\n",
       "\t<tr><th scope=row>Fold 2_10k</th><td>0</td><td>0</td><td>0</td><td>0</td><td>0</td><td>0</td></tr>\n",
       "\t<tr><th scope=row>Fold 3_10k</th><td>0</td><td>0</td><td>0</td><td>0</td><td>0</td><td>0</td></tr>\n",
       "\t<tr><th scope=row>Fold 4_10k</th><td>0</td><td>0</td><td>0</td><td>0</td><td>0</td><td>0</td></tr>\n",
       "\t<tr><th scope=row>Fold 5_10k</th><td>0</td><td>0</td><td>0</td><td>0</td><td>0</td><td>0</td></tr>\n",
       "</tbody>\n",
       "</table>\n"
      ],
      "text/latex": [
       "\\begin{tabular}{r|llllll}\n",
       "  & ENSG00000000003.13 & ENSG00000000971.14 & ENSG00000001084.9 & ENSG00000001167.13 & ENSG00000001461.15 & ENSG00000001561.6\\\\\n",
       "\\hline\n",
       "\tFold 1\\_10k & 0 & 0 & 0 & 0 & 0 & 0\\\\\n",
       "\tFold 2\\_10k & 0 & 0 & 0 & 0 & 0 & 0\\\\\n",
       "\tFold 3\\_10k & 0 & 0 & 0 & 0 & 0 & 0\\\\\n",
       "\tFold 4\\_10k & 0 & 0 & 0 & 0 & 0 & 0\\\\\n",
       "\tFold 5\\_10k & 0 & 0 & 0 & 0 & 0 & 0\\\\\n",
       "\\end{tabular}\n"
      ],
      "text/markdown": [
       "\n",
       "| <!--/--> | ENSG00000000003.13 | ENSG00000000971.14 | ENSG00000001084.9 | ENSG00000001167.13 | ENSG00000001461.15 | ENSG00000001561.6 |\n",
       "|---|---|---|---|---|---|---|\n",
       "| Fold 1_10k | 0 | 0 | 0 | 0 | 0 | 0 |\n",
       "| Fold 2_10k | 0 | 0 | 0 | 0 | 0 | 0 |\n",
       "| Fold 3_10k | 0 | 0 | 0 | 0 | 0 | 0 |\n",
       "| Fold 4_10k | 0 | 0 | 0 | 0 | 0 | 0 |\n",
       "| Fold 5_10k | 0 | 0 | 0 | 0 | 0 | 0 |\n",
       "\n"
      ],
      "text/plain": [
       "           ENSG00000000003.13 ENSG00000000971.14 ENSG00000001084.9\n",
       "Fold 1_10k 0                  0                  0                \n",
       "Fold 2_10k 0                  0                  0                \n",
       "Fold 3_10k 0                  0                  0                \n",
       "Fold 4_10k 0                  0                  0                \n",
       "Fold 5_10k 0                  0                  0                \n",
       "           ENSG00000001167.13 ENSG00000001461.15 ENSG00000001561.6\n",
       "Fold 1_10k 0                  0                  0                \n",
       "Fold 2_10k 0                  0                  0                \n",
       "Fold 3_10k 0                  0                  0                \n",
       "Fold 4_10k 0                  0                  0                \n",
       "Fold 5_10k 0                  0                  0                "
      ]
     },
     "metadata": {},
     "output_type": "display_data"
    },
    {
     "data": {
      "text/html": [
       "<table>\n",
       "<thead><tr><th></th><th scope=col>ENSG00000000003.13</th><th scope=col>ENSG00000000971.14</th><th scope=col>ENSG00000001084.9</th><th scope=col>ENSG00000001167.13</th><th scope=col>ENSG00000001461.15</th><th scope=col>ENSG00000001561.6</th></tr></thead>\n",
       "<tbody>\n",
       "\t<tr><th scope=row>Fold 1_10k</th><td>0</td><td>0</td><td>0</td><td>0</td><td>0</td><td>0</td></tr>\n",
       "\t<tr><th scope=row>Fold 2_10k</th><td>0</td><td>0</td><td>0</td><td>0</td><td>0</td><td>0</td></tr>\n",
       "\t<tr><th scope=row>Fold 3_10k</th><td>0</td><td>0</td><td>0</td><td>0</td><td>0</td><td>0</td></tr>\n",
       "\t<tr><th scope=row>Fold 4_10k</th><td>0</td><td>0</td><td>0</td><td>0</td><td>0</td><td>0</td></tr>\n",
       "\t<tr><th scope=row>Fold 5_10k</th><td>0</td><td>0</td><td>0</td><td>0</td><td>0</td><td>0</td></tr>\n",
       "</tbody>\n",
       "</table>\n"
      ],
      "text/latex": [
       "\\begin{tabular}{r|llllll}\n",
       "  & ENSG00000000003.13 & ENSG00000000971.14 & ENSG00000001084.9 & ENSG00000001167.13 & ENSG00000001461.15 & ENSG00000001561.6\\\\\n",
       "\\hline\n",
       "\tFold 1\\_10k & 0 & 0 & 0 & 0 & 0 & 0\\\\\n",
       "\tFold 2\\_10k & 0 & 0 & 0 & 0 & 0 & 0\\\\\n",
       "\tFold 3\\_10k & 0 & 0 & 0 & 0 & 0 & 0\\\\\n",
       "\tFold 4\\_10k & 0 & 0 & 0 & 0 & 0 & 0\\\\\n",
       "\tFold 5\\_10k & 0 & 0 & 0 & 0 & 0 & 0\\\\\n",
       "\\end{tabular}\n"
      ],
      "text/markdown": [
       "\n",
       "| <!--/--> | ENSG00000000003.13 | ENSG00000000971.14 | ENSG00000001084.9 | ENSG00000001167.13 | ENSG00000001461.15 | ENSG00000001561.6 |\n",
       "|---|---|---|---|---|---|---|\n",
       "| Fold 1_10k | 0 | 0 | 0 | 0 | 0 | 0 |\n",
       "| Fold 2_10k | 0 | 0 | 0 | 0 | 0 | 0 |\n",
       "| Fold 3_10k | 0 | 0 | 0 | 0 | 0 | 0 |\n",
       "| Fold 4_10k | 0 | 0 | 0 | 0 | 0 | 0 |\n",
       "| Fold 5_10k | 0 | 0 | 0 | 0 | 0 | 0 |\n",
       "\n"
      ],
      "text/plain": [
       "           ENSG00000000003.13 ENSG00000000971.14 ENSG00000001084.9\n",
       "Fold 1_10k 0                  0                  0                \n",
       "Fold 2_10k 0                  0                  0                \n",
       "Fold 3_10k 0                  0                  0                \n",
       "Fold 4_10k 0                  0                  0                \n",
       "Fold 5_10k 0                  0                  0                \n",
       "           ENSG00000001167.13 ENSG00000001461.15 ENSG00000001561.6\n",
       "Fold 1_10k 0                  0                  0                \n",
       "Fold 2_10k 0                  0                  0                \n",
       "Fold 3_10k 0                  0                  0                \n",
       "Fold 4_10k 0                  0                  0                \n",
       "Fold 5_10k 0                  0                  0                "
      ]
     },
     "metadata": {},
     "output_type": "display_data"
    }
   ],
   "source": [
    "decision.tree.importance.norm.100 = matrix(ncol = ncol(decision.tree.feature.importance.100))\n",
    "colnames(decision.tree.importance.norm.100) = colnames(decision.tree.feature.importance.100)\n",
    "extra.tree.importance.norm.100 = matrix(ncol = ncol(extra.tree.feature.importance.100))\n",
    "colnames(extra.tree.importance.norm.100) = colnames(extra.tree.feature.importance.100)\n",
    "\n",
    "decision.tree.importance.norm.1k = matrix(ncol = ncol(decision.tree.feature.importance.1k))\n",
    "colnames(decision.tree.importance.norm.1k) = colnames(decision.tree.feature.importance.1k)\n",
    "extra.tree.importance.norm.1k = matrix(ncol = ncol(extra.tree.feature.importance.1k))\n",
    "colnames(extra.tree.importance.norm.1k) = colnames(extra.tree.feature.importance.1k)\n",
    "\n",
    "decision.tree.importance.norm.2.5k = matrix(ncol = ncol(decision.tree.feature.importance.2.5k))\n",
    "colnames(decision.tree.importance.norm.2.5k) = colnames(decision.tree.feature.importance.2.5k)\n",
    "extra.tree.importance.norm.2.5k = matrix(ncol = ncol(extra.tree.feature.importance.2.5k))\n",
    "colnames(extra.tree.importance.norm.2.5k) = colnames(extra.tree.feature.importance.2.5k)\n",
    "\n",
    "decision.tree.importance.norm.5k = matrix(ncol = ncol(decision.tree.feature.importance.5k))\n",
    "colnames(decision.tree.importance.norm.5k) = colnames(decision.tree.feature.importance.5k)\n",
    "extra.tree.importance.norm.5k = matrix(ncol = ncol(extra.tree.feature.importance.5k))\n",
    "colnames(extra.tree.importance.norm.5k) = colnames(extra.tree.feature.importance.5k)\n",
    "\n",
    "decision.tree.importance.norm.10k = matrix(ncol = ncol(decision.tree.feature.importance.10k))\n",
    "colnames(decision.tree.importance.norm.10k) = colnames(decision.tree.feature.importance.10k)\n",
    "extra.tree.importance.norm.10k = matrix(ncol = ncol(extra.tree.feature.importance.10k))\n",
    "colnames(extra.tree.importance.norm.10k) = colnames(extra.tree.feature.importance.10k)\n",
    "\n",
    "for (i in 1:nrow(decision.tree.feature.importance.10k)) {\n",
    "\n",
    "    #normalize\n",
    "    temp.100 = (decision.tree.feature.importance.100[i,] - min(decision.tree.feature.importance.100[i,], na.rm=T)) / (max(decision.tree.feature.importance.100[i,], na.rm=T) - min(decision.tree.feature.importance.100[i,], na.rm=T))\n",
    "    temp2.100 = (extra.tree.feature.importance.100[i,] - min(extra.tree.feature.importance.100[i,], na.rm=T)) / (max(extra.tree.feature.importance.100[i,], na.rm=T) - min(extra.tree.feature.importance.100[i,], na.rm=T))\n",
    "    temp.1k = (decision.tree.feature.importance.1k[i,] - min(decision.tree.feature.importance.1k[i,], na.rm=T)) / (max(decision.tree.feature.importance.1k[i,], na.rm=T) - min(decision.tree.feature.importance.1k[i,], na.rm=T))\n",
    "    temp2.1k = (extra.tree.feature.importance.1k[i,] - min(extra.tree.feature.importance.1k[i,], na.rm=T)) / (max(extra.tree.feature.importance.1k[i,], na.rm=T) - min(extra.tree.feature.importance.1k[i,], na.rm=T))\n",
    "    temp.2.5k = (decision.tree.feature.importance.2.5k[i,] - min(decision.tree.feature.importance.2.5k[i,], na.rm=T)) / (max(decision.tree.feature.importance.2.5k[i,], na.rm=T) - min(decision.tree.feature.importance.2.5k[i,], na.rm=T))\n",
    "    temp2.2.5k = (extra.tree.feature.importance.2.5k[i,] - min(extra.tree.feature.importance.2.5k[i,], na.rm=T)) / (max(extra.tree.feature.importance.2.5k[i,], na.rm=T) - min(extra.tree.feature.importance.2.5k[i,], na.rm=T))\n",
    "    temp.5k = (decision.tree.feature.importance.5k[i,] - min(decision.tree.feature.importance.5k[i,], na.rm=T)) / (max(decision.tree.feature.importance.5k[i,], na.rm=T) - min(decision.tree.feature.importance.5k[i,], na.rm=T))\n",
    "    temp2.5k = (extra.tree.feature.importance.5k[i,] - min(extra.tree.feature.importance.5k[i,], na.rm=T)) / (max(extra.tree.feature.importance.5k[i,], na.rm=T) - min(extra.tree.feature.importance.5k[i,], na.rm=T))\n",
    "    temp.10k = (decision.tree.feature.importance.10k[i,] - min(decision.tree.feature.importance.10k[i,], na.rm=T)) / (max(decision.tree.feature.importance.10k[i,], na.rm=T) - min(decision.tree.feature.importance.10k[i,], na.rm=T))\n",
    "    temp2.10k = (extra.tree.feature.importance.10k[i,] - min(extra.tree.feature.importance.10k[i,], na.rm=T)) / (max(extra.tree.feature.importance.10k[i,], na.rm=T) - min(extra.tree.feature.importance.10k[i,], na.rm=T))\n",
    "\n",
    "    decision.tree.importance.norm.100 = rbind(decision.tree.importance.norm.100, temp.100)\n",
    "    extra.tree.importance.norm.100 = rbind(extra.tree.importance.norm.100, temp2.100)\n",
    "    decision.tree.importance.norm.1k = rbind(decision.tree.importance.norm.1k, temp.1k)\n",
    "    extra.tree.importance.norm.1k = rbind(extra.tree.importance.norm.1k, temp2.1k)\n",
    "    decision.tree.importance.norm.2.5k = rbind(decision.tree.importance.norm.2.5k, temp.2.5k)\n",
    "    extra.tree.importance.norm.2.5k = rbind(extra.tree.importance.norm.2.5k, temp2.2.5k)\n",
    "    decision.tree.importance.norm.5k = rbind(decision.tree.importance.norm.5k, temp.5k)\n",
    "    extra.tree.importance.norm.5k = rbind(extra.tree.importance.norm.5k, temp2.5k)\n",
    "    decision.tree.importance.norm.10k = rbind(decision.tree.importance.norm.10k, temp.10k)\n",
    "    extra.tree.importance.norm.10k = rbind(extra.tree.importance.norm.10k, temp2.10k)\n",
    "    \n",
    "    #remove NAs\n",
    "    decision.tree.feature.importance.100[is.na(decision.tree.feature.importance.100)] = 0\n",
    "    extra.tree.feature.importance.100[is.na(extra.tree.feature.importance.100)] = 0\n",
    "    decision.tree.feature.importance.1k[is.na(decision.tree.feature.importance.1k)] = 0\n",
    "    extra.tree.feature.importance.1k[is.na(extra.tree.feature.importance.1k)] = 0\n",
    "    decision.tree.feature.importance.2.5k[is.na(decision.tree.feature.importance.2.5k)] = 0\n",
    "    extra.tree.feature.importance.2.5k[is.na(extra.tree.feature.importance.2.5k)] = 0\n",
    "    decision.tree.feature.importance.5k[is.na(decision.tree.feature.importance.5k)] = 0\n",
    "    extra.tree.feature.importance.5k[is.na(extra.tree.feature.importance.5k)] = 0\n",
    "    decision.tree.feature.importance.10k[is.na(decision.tree.feature.importance.10k)] = 0\n",
    "    extra.tree.feature.importance.10k[is.na(extra.tree.feature.importance.10k)] = 0\n",
    "}\n",
    "\n",
    "#remove first rows\n",
    "decision.tree.importance.norm.100 = decision.tree.importance.norm.100[-1,]\n",
    "extra.tree.importance.norm.100 = extra.tree.importance.norm.100[-1,]\n",
    "decision.tree.importance.norm.1k = decision.tree.importance.norm.1k[-1,]\n",
    "extra.tree.importance.norm.1k = extra.tree.importance.norm.1k[-1,]\n",
    "decision.tree.importance.norm.2.5k = decision.tree.importance.norm.2.5k[-1,]\n",
    "extra.tree.importance.norm.2.5k = extra.tree.importance.norm.2.5k[-1,]\n",
    "decision.tree.importance.norm.5k = decision.tree.importance.norm.5k[-1,]\n",
    "extra.tree.importance.norm.5k = extra.tree.importance.norm.5k[-1,]\n",
    "decision.tree.importance.norm.10k = decision.tree.importance.norm.10k[-1,]\n",
    "extra.tree.importance.norm.10k = extra.tree.importance.norm.10k[-1,]\n",
    "\n",
    "#sanity check\n",
    "decision.tree.importance.norm.10k[, 1:6]\n",
    "extra.tree.importance.norm.10k[, 1:6]"
   ]
  },
  {
   "cell_type": "code",
   "execution_count": 41,
   "metadata": {},
   "outputs": [
    {
     "data": {
      "text/html": [
       "1"
      ],
      "text/latex": [
       "1"
      ],
      "text/markdown": [
       "1"
      ],
      "text/plain": [
       "[1] 1"
      ]
     },
     "metadata": {},
     "output_type": "display_data"
    },
    {
     "data": {
      "text/html": [
       "0"
      ],
      "text/latex": [
       "0"
      ],
      "text/markdown": [
       "0"
      ],
      "text/plain": [
       "[1] 0"
      ]
     },
     "metadata": {},
     "output_type": "display_data"
    }
   ],
   "source": [
    "max(decision.tree.importance.norm.10k[1,])\n",
    "min(decision.tree.importance.norm.10k[1,])"
   ]
  },
  {
   "cell_type": "markdown",
   "metadata": {},
   "source": [
    "### Neural Network Data\n",
    "\n",
    "Note: Ends up being unncessary since Edgar normalized the data separately. :)"
   ]
  },
  {
   "cell_type": "code",
   "execution_count": 42,
   "metadata": {},
   "outputs": [],
   "source": [
    "#normalize log reg coefficients\n",
    "nn.coef.norm.10k = matrix(ncol = ncol(neural.net.unnormalized.10k))\n",
    "nn.coef.norm.5k = matrix(ncol = ncol(neural.net.unnormalized.5k))\n",
    "nn.coef.norm.2.5k = matrix(ncol = ncol(neural.net.unnormalized.2.5k))\n",
    "nn.coef.norm.1k = matrix(ncol = ncol(neural.net.unnormalized.1k))\n",
    "nn.coef.norm.100 = matrix(ncol = ncol(neural.net.unnormalized.100))\n",
    "\n",
    "colnames(nn.coef.norm.10k) = colnames(neural.net.unnormalized.10k)\n",
    "colnames(nn.coef.norm.5k) = colnames(neural.net.unnormalized.5k)\n",
    "colnames(nn.coef.norm.2.5k) = colnames(neural.net.unnormalized.2.5k)\n",
    "colnames(nn.coef.norm.1k) = colnames(neural.net.unnormalized.1k)\n",
    "colnames(nn.coef.norm.100) = colnames(neural.net.unnormalized.100)\n",
    "\n",
    "for (i in 1:nrow(neural.net.unnormalized.10k)) {\n",
    "    #normalize\n",
    "    temp.10k = (neural.net.unnormalized.10k[i,] - min(neural.net.unnormalized.10k[i,], na.rm=T)) / (max(neural.net.unnormalized.10k[i,], na.rm=T) - min(neural.net.unnormalized.10k[i,], na.rm=T))\n",
    "    temp.5k = (neural.net.unnormalized.5k[i,] - min(neural.net.unnormalized.5k[i,], na.rm=T)) / (max(neural.net.unnormalized.5k[i,], na.rm=T) - min(neural.net.unnormalized.5k[i,], na.rm=T))\n",
    "    temp.2.5k = (neural.net.unnormalized.2.5k[i,] - min(neural.net.unnormalized.2.5k[i,], na.rm=T)) / (max(neural.net.unnormalized.2.5k[i,], na.rm=T) - min(neural.net.unnormalized.2.5k[i,], na.rm=T))\n",
    "    temp.1k = (neural.net.unnormalized.1k[i,] - min(neural.net.unnormalized.1k[i,], na.rm=T)) / (max(neural.net.unnormalized.1k[i,], na.rm=T) - min(neural.net.unnormalized.1k[i,], na.rm=T))\n",
    "    temp.100 = (neural.net.unnormalized.100[i,] - min(neural.net.unnormalized.100[i,], na.rm=T)) / (max(neural.net.unnormalized.100[i,], na.rm=T) - min(neural.net.unnormalized.100[i,], na.rm=T))\n",
    "\n",
    "    nn.coef.norm.10k = rbind(nn.coef.norm.10k, temp.10k)\n",
    "    nn.coef.norm.5k = rbind(nn.coef.norm.5k, temp.5k)\n",
    "    nn.coef.norm.2.5k = rbind(nn.coef.norm.2.5k, temp.2.5k)\n",
    "    nn.coef.norm.1k = rbind(nn.coef.norm.1k, temp.1k)\n",
    "    nn.coef.norm.100 = rbind(nn.coef.norm.100, temp.100)\n",
    "    #remove NAs\n",
    "    nn.coef.norm.10k[is.na(nn.coef.norm.10k)] = 0\n",
    "    nn.coef.norm.5k[is.na(nn.coef.norm.5k)] = 0\n",
    "    nn.coef.norm.2.5k[is.na(nn.coef.norm.2.5k)] = 0\n",
    "    nn.coef.norm.1k[is.na(nn.coef.norm.1k)] = 0\n",
    "    nn.coef.norm.100[is.na(nn.coef.norm.100)] = 0\n",
    "}\n",
    "#remove empty first row\n",
    "nn.coef.norm.10k = nn.coef.norm.10k[-1,]\n",
    "nn.coef.norm.5k = nn.coef.norm.5k[-1,]\n",
    "nn.coef.norm.2.5k = nn.coef.norm.2.5k[-1,]\n",
    "nn.coef.norm.1k = nn.coef.norm.1k[-1,]\n",
    "nn.coef.norm.100 = nn.coef.norm.100[-1,]"
   ]
  },
  {
   "cell_type": "code",
   "execution_count": 43,
   "metadata": {},
   "outputs": [
    {
     "data": {
      "text/html": [
       "0"
      ],
      "text/latex": [
       "0"
      ],
      "text/markdown": [
       "0"
      ],
      "text/plain": [
       "[1] 0"
      ]
     },
     "metadata": {},
     "output_type": "display_data"
    },
    {
     "data": {
      "text/html": [
       "1"
      ],
      "text/latex": [
       "1"
      ],
      "text/markdown": [
       "1"
      ],
      "text/plain": [
       "[1] 1"
      ]
     },
     "metadata": {},
     "output_type": "display_data"
    }
   ],
   "source": [
    "min(nn.coef.norm.10k[1,])\n",
    "max(nn.coef.norm.10k[1,])"
   ]
  },
  {
   "cell_type": "markdown",
   "metadata": {},
   "source": [
    "# Combine outputs into super matrix"
   ]
  },
  {
   "cell_type": "markdown",
   "metadata": {},
   "source": [
    "## Accuracy super matrix"
   ]
  },
  {
   "cell_type": "markdown",
   "metadata": {},
   "source": [
    "### 10k super matrix"
   ]
  },
  {
   "cell_type": "code",
   "execution_count": 44,
   "metadata": {},
   "outputs": [],
   "source": [
    "accuracy.super.matrix.10k = matrix(nrow=5, data=0)\n",
    "rownames(accuracy.super.matrix.10k) = rownames(log.reg.acc.int.10k)\n",
    "\n",
    "#add logistic regression accuracy to matrix\n",
    "accuracy.super.matrix.10k = cbind(accuracy.super.matrix.10k, log.reg.acc.int.10k[,1])\n",
    "\n",
    "#add lasso regression accuracy to matrix\n",
    "accuracy.super.matrix.10k = cbind(accuracy.super.matrix.10k, lasso.acc.int.10k[,1])\n",
    "\n",
    "#add decision tree accuracy to matrix\n",
    "accuracy.super.matrix.10k = cbind(accuracy.super.matrix.10k, decision.tree.accuracy.10k[1])\n",
    "accuracy.super.matrix.10k = cbind(accuracy.super.matrix.10k, decision.tree.accuracy.10k[2])\n",
    "\n",
    "#add neural net accuracy to matrix\n",
    "accuracy.super.matrix.10k = cbind(accuracy.super.matrix.10k, nn.acc[,1])\n",
    "\n",
    "#name columns\n",
    "colnames(accuracy.super.matrix.10k) = c(\"Fold #\", \"LogReg Accuracy\", \"Lasso MSE\", \n",
    "                                        \"DecTree Accuracy\", \"ExTree Accuracy\", \"NN Val Accuracy\")\n",
    "\n",
    "#remove first row\n",
    "accuracy.super.matrix.10k = accuracy.super.matrix.10k[,-1]"
   ]
  },
  {
   "cell_type": "code",
   "execution_count": 45,
   "metadata": {},
   "outputs": [
    {
     "data": {
      "text/html": [
       "<table>\n",
       "<thead><tr><th></th><th scope=col>LogReg Accuracy</th><th scope=col>Lasso MSE</th><th scope=col>DecTree Accuracy</th><th scope=col>ExTree Accuracy</th><th scope=col>NN Val Accuracy</th></tr></thead>\n",
       "<tbody>\n",
       "\t<tr><th scope=row>Fold 1_10k</th><td>1.0000000</td><td>0.4752527</td><td>83.33333 </td><td>86.11111 </td><td>0.8611   </td></tr>\n",
       "\t<tr><th scope=row>Fold 2_10k</th><td>1.0000000</td><td>0.2902739</td><td>77.77778 </td><td>88.88889 </td><td>0.9167   </td></tr>\n",
       "\t<tr><th scope=row>Fold 3_10k</th><td>1.0000000</td><td>0.2611277</td><td>80.00000 </td><td>97.14286 </td><td>0.8571   </td></tr>\n",
       "\t<tr><th scope=row>Fold 4_0k</th><td>0.9714286</td><td>0.3159924</td><td>88.57143 </td><td>82.85714 </td><td>0.8571   </td></tr>\n",
       "\t<tr><th scope=row>Fold 5_10k</th><td>1.0000000</td><td>0.3565900</td><td>91.42857 </td><td>85.71429 </td><td>0.9143   </td></tr>\n",
       "</tbody>\n",
       "</table>\n"
      ],
      "text/latex": [
       "\\begin{tabular}{r|lllll}\n",
       "  & LogReg Accuracy & Lasso MSE & DecTree Accuracy & ExTree Accuracy & NN Val Accuracy\\\\\n",
       "\\hline\n",
       "\tFold 1\\_10k & 1.0000000 & 0.4752527 & 83.33333  & 86.11111  & 0.8611   \\\\\n",
       "\tFold 2\\_10k & 1.0000000 & 0.2902739 & 77.77778  & 88.88889  & 0.9167   \\\\\n",
       "\tFold 3\\_10k & 1.0000000 & 0.2611277 & 80.00000  & 97.14286  & 0.8571   \\\\\n",
       "\tFold 4\\_0k & 0.9714286 & 0.3159924 & 88.57143  & 82.85714  & 0.8571   \\\\\n",
       "\tFold 5\\_10k & 1.0000000 & 0.3565900 & 91.42857  & 85.71429  & 0.9143   \\\\\n",
       "\\end{tabular}\n"
      ],
      "text/markdown": [
       "\n",
       "| <!--/--> | LogReg Accuracy | Lasso MSE | DecTree Accuracy | ExTree Accuracy | NN Val Accuracy |\n",
       "|---|---|---|---|---|---|\n",
       "| Fold 1_10k | 1.0000000 | 0.4752527 | 83.33333  | 86.11111  | 0.8611    |\n",
       "| Fold 2_10k | 1.0000000 | 0.2902739 | 77.77778  | 88.88889  | 0.9167    |\n",
       "| Fold 3_10k | 1.0000000 | 0.2611277 | 80.00000  | 97.14286  | 0.8571    |\n",
       "| Fold 4_0k | 0.9714286 | 0.3159924 | 88.57143  | 82.85714  | 0.8571    |\n",
       "| Fold 5_10k | 1.0000000 | 0.3565900 | 91.42857  | 85.71429  | 0.9143    |\n",
       "\n"
      ],
      "text/plain": [
       "           LogReg Accuracy Lasso MSE DecTree Accuracy ExTree Accuracy\n",
       "Fold 1_10k 1.0000000       0.4752527 83.33333         86.11111       \n",
       "Fold 2_10k 1.0000000       0.2902739 77.77778         88.88889       \n",
       "Fold 3_10k 1.0000000       0.2611277 80.00000         97.14286       \n",
       "Fold 4_0k  0.9714286       0.3159924 88.57143         82.85714       \n",
       "Fold 5_10k 1.0000000       0.3565900 91.42857         85.71429       \n",
       "           NN Val Accuracy\n",
       "Fold 1_10k 0.8611         \n",
       "Fold 2_10k 0.9167         \n",
       "Fold 3_10k 0.8571         \n",
       "Fold 4_0k  0.8571         \n",
       "Fold 5_10k 0.9143         "
      ]
     },
     "metadata": {},
     "output_type": "display_data"
    }
   ],
   "source": [
    "#sanity check\n",
    " accuracy.super.matrix.10k"
   ]
  },
  {
   "cell_type": "markdown",
   "metadata": {},
   "source": [
    "### 5k super matrix"
   ]
  },
  {
   "cell_type": "code",
   "execution_count": 46,
   "metadata": {},
   "outputs": [
    {
     "data": {
      "text/html": [
       "<table>\n",
       "<thead><tr><th></th><th scope=col>LogReg Accuracy</th><th scope=col>Lasso MSE</th><th scope=col>DecTree Accuracy</th><th scope=col>ExTree Accuracy</th><th scope=col>NN Val Accuracy</th></tr></thead>\n",
       "<tbody>\n",
       "\t<tr><th scope=row>Fold 1_5k</th><td>0.9722222</td><td>0.4752527</td><td>83.33333 </td><td>88.88889 </td><td>0.8889   </td></tr>\n",
       "\t<tr><th scope=row>Fold 2_5k</th><td>0.9714286</td><td>0.2902739</td><td>77.77778 </td><td>88.88889 </td><td>0.8333   </td></tr>\n",
       "\t<tr><th scope=row>Fold 3_5k</th><td>0.9428571</td><td>0.2611277</td><td>88.57143 </td><td>88.57143 </td><td>0.9143   </td></tr>\n",
       "\t<tr><th scope=row>Fold 4_5k</th><td>0.9428571</td><td>0.3159924</td><td>88.57143 </td><td>88.57143 </td><td>0.7143   </td></tr>\n",
       "\t<tr><th scope=row>Fold 5_5k</th><td>0.9722222</td><td>0.3565900</td><td>97.14286 </td><td>94.28571 </td><td>0.8286   </td></tr>\n",
       "</tbody>\n",
       "</table>\n"
      ],
      "text/latex": [
       "\\begin{tabular}{r|lllll}\n",
       "  & LogReg Accuracy & Lasso MSE & DecTree Accuracy & ExTree Accuracy & NN Val Accuracy\\\\\n",
       "\\hline\n",
       "\tFold 1\\_5k & 0.9722222 & 0.4752527 & 83.33333  & 88.88889  & 0.8889   \\\\\n",
       "\tFold 2\\_5k & 0.9714286 & 0.2902739 & 77.77778  & 88.88889  & 0.8333   \\\\\n",
       "\tFold 3\\_5k & 0.9428571 & 0.2611277 & 88.57143  & 88.57143  & 0.9143   \\\\\n",
       "\tFold 4\\_5k & 0.9428571 & 0.3159924 & 88.57143  & 88.57143  & 0.7143   \\\\\n",
       "\tFold 5\\_5k & 0.9722222 & 0.3565900 & 97.14286  & 94.28571  & 0.8286   \\\\\n",
       "\\end{tabular}\n"
      ],
      "text/markdown": [
       "\n",
       "| <!--/--> | LogReg Accuracy | Lasso MSE | DecTree Accuracy | ExTree Accuracy | NN Val Accuracy |\n",
       "|---|---|---|---|---|---|\n",
       "| Fold 1_5k | 0.9722222 | 0.4752527 | 83.33333  | 88.88889  | 0.8889    |\n",
       "| Fold 2_5k | 0.9714286 | 0.2902739 | 77.77778  | 88.88889  | 0.8333    |\n",
       "| Fold 3_5k | 0.9428571 | 0.2611277 | 88.57143  | 88.57143  | 0.9143    |\n",
       "| Fold 4_5k | 0.9428571 | 0.3159924 | 88.57143  | 88.57143  | 0.7143    |\n",
       "| Fold 5_5k | 0.9722222 | 0.3565900 | 97.14286  | 94.28571  | 0.8286    |\n",
       "\n"
      ],
      "text/plain": [
       "          LogReg Accuracy Lasso MSE DecTree Accuracy ExTree Accuracy\n",
       "Fold 1_5k 0.9722222       0.4752527 83.33333         88.88889       \n",
       "Fold 2_5k 0.9714286       0.2902739 77.77778         88.88889       \n",
       "Fold 3_5k 0.9428571       0.2611277 88.57143         88.57143       \n",
       "Fold 4_5k 0.9428571       0.3159924 88.57143         88.57143       \n",
       "Fold 5_5k 0.9722222       0.3565900 97.14286         94.28571       \n",
       "          NN Val Accuracy\n",
       "Fold 1_5k 0.8889         \n",
       "Fold 2_5k 0.8333         \n",
       "Fold 3_5k 0.9143         \n",
       "Fold 4_5k 0.7143         \n",
       "Fold 5_5k 0.8286         "
      ]
     },
     "metadata": {},
     "output_type": "display_data"
    }
   ],
   "source": [
    "accuracy.super.matrix.5k = matrix(nrow=5, data=0)\n",
    "rownames(accuracy.super.matrix.5k) = rownames(log.reg.acc.int.5k)\n",
    "\n",
    "#add logistic regression accuracy to matrix\n",
    "accuracy.super.matrix.5k = cbind(accuracy.super.matrix.5k, log.reg.acc.int.5k[,1])\n",
    "\n",
    "#add lasso regression accuracy to matrix\n",
    "accuracy.super.matrix.5k = cbind(accuracy.super.matrix.5k, lasso.acc.int.5k[,1])\n",
    "\n",
    "#add decision tree accuracy to matrix\n",
    "accuracy.super.matrix.5k = cbind(accuracy.super.matrix.5k, decision.tree.accuracy.5k[1])\n",
    "accuracy.super.matrix.5k = cbind(accuracy.super.matrix.5k, decision.tree.accuracy.5k[2])\n",
    "\n",
    "#add neural net accuracy to matrix\n",
    "accuracy.super.matrix.5k = cbind(accuracy.super.matrix.5k, nn.acc[,2])\n",
    "\n",
    "#name columns\n",
    "colnames(accuracy.super.matrix.5k) = c(\"Fold #\", \"LogReg Accuracy\", \"Lasso MSE\", \n",
    "                                       \"DecTree Accuracy\", \"ExTree Accuracy\", \"NN Val Accuracy\")\n",
    "                                    \n",
    "\n",
    "#remove first row\n",
    "accuracy.super.matrix.5k = accuracy.super.matrix.5k[,-1]\n",
    "\n",
    "#sanity check\n",
    " accuracy.super.matrix.5k"
   ]
  },
  {
   "cell_type": "markdown",
   "metadata": {},
   "source": [
    "### 2.5k super matrix"
   ]
  },
  {
   "cell_type": "code",
   "execution_count": 47,
   "metadata": {},
   "outputs": [
    {
     "data": {
      "text/html": [
       "<table>\n",
       "<thead><tr><th></th><th scope=col>LogReg Accuracy</th><th scope=col>Lasso MSE</th><th scope=col>DecTree Accuracy</th><th scope=col>ExTree Accuracy</th><th scope=col>NN Val Accuracy</th></tr></thead>\n",
       "<tbody>\n",
       "\t<tr><th scope=row>Fold 1_2.5k</th><td>0.9722222</td><td>0.4752527</td><td>80.55556 </td><td>86.11111 </td><td>0.9167   </td></tr>\n",
       "\t<tr><th scope=row>Fold 2_2.5k</th><td>0.9428571</td><td>0.2902739</td><td>69.44444 </td><td>94.44444 </td><td>0.9167   </td></tr>\n",
       "\t<tr><th scope=row>Fold 3_2.5k</th><td>0.9714286</td><td>0.2611277</td><td>85.71429 </td><td>94.28571 </td><td>0.9429   </td></tr>\n",
       "\t<tr><th scope=row>Fold 4_2.5k</th><td>0.9428571</td><td>0.3159924</td><td>80.00000 </td><td>88.57143 </td><td>0.7714   </td></tr>\n",
       "\t<tr><th scope=row>Fold 5_2.5k</th><td>0.9722222</td><td>0.3565900</td><td>94.28571 </td><td>88.57143 </td><td>0.9143   </td></tr>\n",
       "</tbody>\n",
       "</table>\n"
      ],
      "text/latex": [
       "\\begin{tabular}{r|lllll}\n",
       "  & LogReg Accuracy & Lasso MSE & DecTree Accuracy & ExTree Accuracy & NN Val Accuracy\\\\\n",
       "\\hline\n",
       "\tFold 1\\_2.5k & 0.9722222 & 0.4752527 & 80.55556  & 86.11111  & 0.9167   \\\\\n",
       "\tFold 2\\_2.5k & 0.9428571 & 0.2902739 & 69.44444  & 94.44444  & 0.9167   \\\\\n",
       "\tFold 3\\_2.5k & 0.9714286 & 0.2611277 & 85.71429  & 94.28571  & 0.9429   \\\\\n",
       "\tFold 4\\_2.5k & 0.9428571 & 0.3159924 & 80.00000  & 88.57143  & 0.7714   \\\\\n",
       "\tFold 5\\_2.5k & 0.9722222 & 0.3565900 & 94.28571  & 88.57143  & 0.9143   \\\\\n",
       "\\end{tabular}\n"
      ],
      "text/markdown": [
       "\n",
       "| <!--/--> | LogReg Accuracy | Lasso MSE | DecTree Accuracy | ExTree Accuracy | NN Val Accuracy |\n",
       "|---|---|---|---|---|---|\n",
       "| Fold 1_2.5k | 0.9722222 | 0.4752527 | 80.55556  | 86.11111  | 0.9167    |\n",
       "| Fold 2_2.5k | 0.9428571 | 0.2902739 | 69.44444  | 94.44444  | 0.9167    |\n",
       "| Fold 3_2.5k | 0.9714286 | 0.2611277 | 85.71429  | 94.28571  | 0.9429    |\n",
       "| Fold 4_2.5k | 0.9428571 | 0.3159924 | 80.00000  | 88.57143  | 0.7714    |\n",
       "| Fold 5_2.5k | 0.9722222 | 0.3565900 | 94.28571  | 88.57143  | 0.9143    |\n",
       "\n"
      ],
      "text/plain": [
       "            LogReg Accuracy Lasso MSE DecTree Accuracy ExTree Accuracy\n",
       "Fold 1_2.5k 0.9722222       0.4752527 80.55556         86.11111       \n",
       "Fold 2_2.5k 0.9428571       0.2902739 69.44444         94.44444       \n",
       "Fold 3_2.5k 0.9714286       0.2611277 85.71429         94.28571       \n",
       "Fold 4_2.5k 0.9428571       0.3159924 80.00000         88.57143       \n",
       "Fold 5_2.5k 0.9722222       0.3565900 94.28571         88.57143       \n",
       "            NN Val Accuracy\n",
       "Fold 1_2.5k 0.9167         \n",
       "Fold 2_2.5k 0.9167         \n",
       "Fold 3_2.5k 0.9429         \n",
       "Fold 4_2.5k 0.7714         \n",
       "Fold 5_2.5k 0.9143         "
      ]
     },
     "metadata": {},
     "output_type": "display_data"
    }
   ],
   "source": [
    "accuracy.super.matrix.2.5k = matrix(nrow=5, data=0)\n",
    "rownames(accuracy.super.matrix.2.5k) = rownames(log.reg.acc.int.2.5k)\n",
    "\n",
    "#add logistic regression accuracy to matrix\n",
    "accuracy.super.matrix.2.5k = cbind(accuracy.super.matrix.2.5k, log.reg.acc.int.2.5k[,1])\n",
    "\n",
    "#add lasso regression accuracy to matrix\n",
    "accuracy.super.matrix.2.5k = cbind(accuracy.super.matrix.2.5k, lasso.acc.int.2.5k[,1])\n",
    "\n",
    "#add decision tree accuracy to matrix\n",
    "accuracy.super.matrix.2.5k = cbind(accuracy.super.matrix.2.5k, decision.tree.accuracy.2.5k[1])\n",
    "accuracy.super.matrix.2.5k = cbind(accuracy.super.matrix.2.5k, decision.tree.accuracy.2.5k[2])\n",
    "\n",
    "#add neural net accuracy to matrix\n",
    "accuracy.super.matrix.2.5k = cbind(accuracy.super.matrix.2.5k, nn.acc[,3])\n",
    "\n",
    "#name columns\n",
    "colnames(accuracy.super.matrix.2.5k) = c(\"Fold #\", \"LogReg Accuracy\", \"Lasso MSE\", \n",
    "                                         \"DecTree Accuracy\", \"ExTree Accuracy\", \"NN Val Accuracy\")\n",
    "                                    \n",
    "\n",
    "#remove first row\n",
    "accuracy.super.matrix.2.5k = accuracy.super.matrix.2.5k[,-1]\n",
    "\n",
    "#sanity check\n",
    " accuracy.super.matrix.2.5k"
   ]
  },
  {
   "cell_type": "markdown",
   "metadata": {},
   "source": [
    "### 1k super matrix"
   ]
  },
  {
   "cell_type": "code",
   "execution_count": 48,
   "metadata": {},
   "outputs": [
    {
     "data": {
      "text/html": [
       "<table>\n",
       "<thead><tr><th></th><th scope=col>LogReg Accuracy</th><th scope=col>Lasso MSE</th><th scope=col>DecTree Accuracy</th><th scope=col>ExTree Accuracy</th><th scope=col>NN Val Accuracy</th></tr></thead>\n",
       "<tbody>\n",
       "\t<tr><th scope=row>Fold 1_1k</th><td>1.0000000</td><td>0.4752527</td><td>86.11111 </td><td>88.88889 </td><td>0.8889   </td></tr>\n",
       "\t<tr><th scope=row>Fold 2_1k</th><td>0.9714286</td><td>0.2902739</td><td>75.00000 </td><td>83.33333 </td><td>0.8611   </td></tr>\n",
       "\t<tr><th scope=row>Fold 3_1k</th><td>1.0000000</td><td>0.2611277</td><td>82.85714 </td><td>91.42857 </td><td>0.9714   </td></tr>\n",
       "\t<tr><th scope=row>Fold 4_1k</th><td>0.9428571</td><td>0.3159924</td><td>88.57143 </td><td>94.28571 </td><td>0.8857   </td></tr>\n",
       "\t<tr><th scope=row>Fold 5_1k</th><td>0.9722222</td><td>0.3565900</td><td>85.71429 </td><td>97.14286 </td><td>0.9429   </td></tr>\n",
       "</tbody>\n",
       "</table>\n"
      ],
      "text/latex": [
       "\\begin{tabular}{r|lllll}\n",
       "  & LogReg Accuracy & Lasso MSE & DecTree Accuracy & ExTree Accuracy & NN Val Accuracy\\\\\n",
       "\\hline\n",
       "\tFold 1\\_1k & 1.0000000 & 0.4752527 & 86.11111  & 88.88889  & 0.8889   \\\\\n",
       "\tFold 2\\_1k & 0.9714286 & 0.2902739 & 75.00000  & 83.33333  & 0.8611   \\\\\n",
       "\tFold 3\\_1k & 1.0000000 & 0.2611277 & 82.85714  & 91.42857  & 0.9714   \\\\\n",
       "\tFold 4\\_1k & 0.9428571 & 0.3159924 & 88.57143  & 94.28571  & 0.8857   \\\\\n",
       "\tFold 5\\_1k & 0.9722222 & 0.3565900 & 85.71429  & 97.14286  & 0.9429   \\\\\n",
       "\\end{tabular}\n"
      ],
      "text/markdown": [
       "\n",
       "| <!--/--> | LogReg Accuracy | Lasso MSE | DecTree Accuracy | ExTree Accuracy | NN Val Accuracy |\n",
       "|---|---|---|---|---|---|\n",
       "| Fold 1_1k | 1.0000000 | 0.4752527 | 86.11111  | 88.88889  | 0.8889    |\n",
       "| Fold 2_1k | 0.9714286 | 0.2902739 | 75.00000  | 83.33333  | 0.8611    |\n",
       "| Fold 3_1k | 1.0000000 | 0.2611277 | 82.85714  | 91.42857  | 0.9714    |\n",
       "| Fold 4_1k | 0.9428571 | 0.3159924 | 88.57143  | 94.28571  | 0.8857    |\n",
       "| Fold 5_1k | 0.9722222 | 0.3565900 | 85.71429  | 97.14286  | 0.9429    |\n",
       "\n"
      ],
      "text/plain": [
       "          LogReg Accuracy Lasso MSE DecTree Accuracy ExTree Accuracy\n",
       "Fold 1_1k 1.0000000       0.4752527 86.11111         88.88889       \n",
       "Fold 2_1k 0.9714286       0.2902739 75.00000         83.33333       \n",
       "Fold 3_1k 1.0000000       0.2611277 82.85714         91.42857       \n",
       "Fold 4_1k 0.9428571       0.3159924 88.57143         94.28571       \n",
       "Fold 5_1k 0.9722222       0.3565900 85.71429         97.14286       \n",
       "          NN Val Accuracy\n",
       "Fold 1_1k 0.8889         \n",
       "Fold 2_1k 0.8611         \n",
       "Fold 3_1k 0.9714         \n",
       "Fold 4_1k 0.8857         \n",
       "Fold 5_1k 0.9429         "
      ]
     },
     "metadata": {},
     "output_type": "display_data"
    }
   ],
   "source": [
    "accuracy.super.matrix.1k = matrix(nrow=5, data=0)\n",
    "rownames(accuracy.super.matrix.1k) = rownames(log.reg.acc.int.1k)\n",
    "\n",
    "#add logistic regression accuracy to matrix\n",
    "accuracy.super.matrix.1k = cbind(accuracy.super.matrix.1k, log.reg.acc.int.1k[,1])\n",
    "\n",
    "#add lasso regression accuracy to matrix\n",
    "accuracy.super.matrix.1k = cbind(accuracy.super.matrix.1k, lasso.acc.int.1k[,1])\n",
    "\n",
    "#add decision tree accuracy to matrix\n",
    "accuracy.super.matrix.1k = cbind(accuracy.super.matrix.1k, decision.tree.accuracy.1k[1])\n",
    "accuracy.super.matrix.1k = cbind(accuracy.super.matrix.1k, decision.tree.accuracy.1k[2])\n",
    "\n",
    "#add neural net accuracy to matrix\n",
    "accuracy.super.matrix.1k = cbind(accuracy.super.matrix.1k, nn.acc[,4])\n",
    "\n",
    "#name columns\n",
    "colnames(accuracy.super.matrix.1k) = c(\"Fold #\", \"LogReg Accuracy\", \"Lasso MSE\", \n",
    "                                       \"DecTree Accuracy\", \"ExTree Accuracy\", \"NN Val Accuracy\")\n",
    "                                    \n",
    "\n",
    "#remove first row\n",
    "accuracy.super.matrix.1k = accuracy.super.matrix.1k[,-1]\n",
    "\n",
    "#sanity check\n",
    " accuracy.super.matrix.1k"
   ]
  },
  {
   "cell_type": "markdown",
   "metadata": {},
   "source": [
    "### 100 super matrix"
   ]
  },
  {
   "cell_type": "code",
   "execution_count": 49,
   "metadata": {},
   "outputs": [
    {
     "data": {
      "text/html": [
       "<table>\n",
       "<thead><tr><th></th><th scope=col>LogReg Accuracy</th><th scope=col>Lasso MSE</th><th scope=col>DecTree Accuracy</th><th scope=col>ExTree Accuracy</th><th scope=col>NN Val Accuracy</th></tr></thead>\n",
       "<tbody>\n",
       "\t<tr><th scope=row>Fold 1_100</th><td>0.9444444</td><td>0.4752527</td><td>88.88889 </td><td>88.88889 </td><td>0.6667   </td></tr>\n",
       "\t<tr><th scope=row>Fold 2_100</th><td>0.9714286</td><td>0.2902739</td><td>80.55556 </td><td>86.11111 </td><td>0.6667   </td></tr>\n",
       "\t<tr><th scope=row>Fold 3_100</th><td>0.9714286</td><td>0.2611277</td><td>82.85714 </td><td>97.14286 </td><td>0.7143   </td></tr>\n",
       "\t<tr><th scope=row>Fold 4_100</th><td>0.9714286</td><td>0.3159924</td><td>91.42857 </td><td>88.57143 </td><td>0.7714   </td></tr>\n",
       "\t<tr><th scope=row>Fold 5_100</th><td>0.9444444</td><td>0.3565900</td><td>88.57143 </td><td>94.28571 </td><td>0.7429   </td></tr>\n",
       "</tbody>\n",
       "</table>\n"
      ],
      "text/latex": [
       "\\begin{tabular}{r|lllll}\n",
       "  & LogReg Accuracy & Lasso MSE & DecTree Accuracy & ExTree Accuracy & NN Val Accuracy\\\\\n",
       "\\hline\n",
       "\tFold 1\\_100 & 0.9444444 & 0.4752527 & 88.88889  & 88.88889  & 0.6667   \\\\\n",
       "\tFold 2\\_100 & 0.9714286 & 0.2902739 & 80.55556  & 86.11111  & 0.6667   \\\\\n",
       "\tFold 3\\_100 & 0.9714286 & 0.2611277 & 82.85714  & 97.14286  & 0.7143   \\\\\n",
       "\tFold 4\\_100 & 0.9714286 & 0.3159924 & 91.42857  & 88.57143  & 0.7714   \\\\\n",
       "\tFold 5\\_100 & 0.9444444 & 0.3565900 & 88.57143  & 94.28571  & 0.7429   \\\\\n",
       "\\end{tabular}\n"
      ],
      "text/markdown": [
       "\n",
       "| <!--/--> | LogReg Accuracy | Lasso MSE | DecTree Accuracy | ExTree Accuracy | NN Val Accuracy |\n",
       "|---|---|---|---|---|---|\n",
       "| Fold 1_100 | 0.9444444 | 0.4752527 | 88.88889  | 88.88889  | 0.6667    |\n",
       "| Fold 2_100 | 0.9714286 | 0.2902739 | 80.55556  | 86.11111  | 0.6667    |\n",
       "| Fold 3_100 | 0.9714286 | 0.2611277 | 82.85714  | 97.14286  | 0.7143    |\n",
       "| Fold 4_100 | 0.9714286 | 0.3159924 | 91.42857  | 88.57143  | 0.7714    |\n",
       "| Fold 5_100 | 0.9444444 | 0.3565900 | 88.57143  | 94.28571  | 0.7429    |\n",
       "\n"
      ],
      "text/plain": [
       "           LogReg Accuracy Lasso MSE DecTree Accuracy ExTree Accuracy\n",
       "Fold 1_100 0.9444444       0.4752527 88.88889         88.88889       \n",
       "Fold 2_100 0.9714286       0.2902739 80.55556         86.11111       \n",
       "Fold 3_100 0.9714286       0.2611277 82.85714         97.14286       \n",
       "Fold 4_100 0.9714286       0.3159924 91.42857         88.57143       \n",
       "Fold 5_100 0.9444444       0.3565900 88.57143         94.28571       \n",
       "           NN Val Accuracy\n",
       "Fold 1_100 0.6667         \n",
       "Fold 2_100 0.6667         \n",
       "Fold 3_100 0.7143         \n",
       "Fold 4_100 0.7714         \n",
       "Fold 5_100 0.7429         "
      ]
     },
     "metadata": {},
     "output_type": "display_data"
    }
   ],
   "source": [
    "accuracy.super.matrix.100 = matrix(nrow=5, data=0)\n",
    "rownames(accuracy.super.matrix.100) = rownames(log.reg.acc.int.100)\n",
    "\n",
    "#add logistic regression accuracy to matrix\n",
    "accuracy.super.matrix.100 = cbind(accuracy.super.matrix.100, log.reg.acc.int.100[,1])\n",
    "\n",
    "#add lasso regression accuracy to matrix\n",
    "accuracy.super.matrix.100 = cbind(accuracy.super.matrix.100, lasso.acc.int.100[,1])\n",
    "\n",
    "#add decision tree accuracy to matrix\n",
    "accuracy.super.matrix.100 = cbind(accuracy.super.matrix.100, decision.tree.accuracy.100[1])\n",
    "accuracy.super.matrix.100 = cbind(accuracy.super.matrix.100, decision.tree.accuracy.100[2])\n",
    "\n",
    "#add neural net accuracy to matrix\n",
    "accuracy.super.matrix.100 = cbind(accuracy.super.matrix.100, nn.acc[,5])\n",
    "\n",
    "#name columns\n",
    "colnames(accuracy.super.matrix.100) = c(\"Fold #\", \"LogReg Accuracy\", \"Lasso MSE\", \n",
    "                                        \"DecTree Accuracy\", \"ExTree Accuracy\", \"NN Val Accuracy\")\n",
    "                                    \n",
    "\n",
    "#remove first row\n",
    "accuracy.super.matrix.100 = accuracy.super.matrix.100[,-1]\n",
    "\n",
    "#sanity check\n",
    " accuracy.super.matrix.100"
   ]
  },
  {
   "cell_type": "markdown",
   "metadata": {},
   "source": [
    "## Coefficients Super Matrix"
   ]
  },
  {
   "cell_type": "markdown",
   "metadata": {},
   "source": [
    "### 10k gene super matrix"
   ]
  },
  {
   "cell_type": "code",
   "execution_count": 51,
   "metadata": {},
   "outputs": [],
   "source": [
    "# double check dimensions\n",
    "# dim(log.reg.coef)\n",
    "# dim(decision.tree.feature.importance)\n",
    "# dim(extra.tree.feature.importance)\n",
    "\n",
    "coef.super.matrix.10k = matrix(ncol = ncol(log.reg.coef.10k), data = 0)\n",
    "colnames(coef.super.matrix.10k) = colnames(log.reg.coef.10k)\n",
    "\n",
    "#add log reg coef to super matrix\n",
    "for(i in 1:nrow(log.reg.coef.10k)) {\n",
    "    coef.super.matrix.10k = rbind(coef.super.matrix.10k, log.reg.coef.norm.10k[i,]) \n",
    "}\n",
    "\n",
    "for(i in 1:nrow(lasso.coef.10k)) {\n",
    "    coef.super.matrix.10k = rbind(coef.super.matrix.10k, lasso.coef.norm.10k[i,]) \n",
    "}\n",
    "\n",
    "#add decision tree important features to decision tree\n",
    "for(i in 1:nrow(decision.tree.feature.importance.10k)) {\n",
    "    coef.super.matrix.10k = rbind(coef.super.matrix.10k, decision.tree.importance.norm.10k[i,]) \n",
    "}\n",
    "\n",
    "#add extra tree important features to decision tree\n",
    "for(i in 1:nrow(extra.tree.feature.importance.10k)) {\n",
    "    coef.super.matrix.10k = rbind(coef.super.matrix.10k, extra.tree.importance.norm.10k[i,]) \n",
    "}\n",
    "\n",
    "# add important features for neural net\n",
    "for(i in 1:nrow(neural.net.normalized.10k)) {\n",
    "    coef.super.matrix.10k = rbind(coef.super.matrix.10k, neural.net.normalized.10k[i,]) \n",
    "}\n",
    "\n",
    "#remove first row\n",
    "coef.super.matrix.10k = coef.super.matrix.10k[-1, ]\n",
    "\n",
    "#fix row names\n",
    "rownames(coef.super.matrix.10k) = c(\"LogReg_Fold1\", \"LogReg_Fold2\", \"LogReg_Fold3\", \"LogReg_Fold4\", \"LogReg_Fold5\",\n",
    "                               \"Lasso_Fold1\", \"Lasso_Fold2\", \"Lasso_Fold3\", \"Lasso_Fold4\", \"Lasso_Fold5\",\n",
    "                               \"DecTree_Fold1\", \"DecTree_Fold2\", \"DecTree_Fold3\", \"DecTree_Fold4\", \"DecTree_Fold5\",\n",
    "                               \"ExTree_Fold1\", \"ExTree_Fold2\", \"ExTree_Fold3\", \"ExTree_Fold4\", \"ExTree_Fold5\",\n",
    "                               \"NNnorm_Fold1\", \"NNnorm_Fold2\", \"NNnorm_Fold3\", \"NNnorm_Fold4\", \"NNnorm_Fold5\")\n",
    "\n",
    "#sanity check\n",
    "# dim(coef.super.matrix.10k)\n",
    "# coef.super.matrix.10k[, 1:6]"
   ]
  },
  {
   "cell_type": "markdown",
   "metadata": {},
   "source": [
    "### 5k gene super matrix"
   ]
  },
  {
   "cell_type": "code",
   "execution_count": 52,
   "metadata": {},
   "outputs": [],
   "source": [
    "coef.super.matrix.5k = matrix(ncol = ncol(log.reg.coef.5k), data = 0)\n",
    "colnames(coef.super.matrix.5k) = colnames(log.reg.coef.5k)\n",
    "\n",
    "#add log reg coef to super matrix\n",
    "for(i in 1:nrow(log.reg.coef.5k)) {\n",
    "    coef.super.matrix.5k = rbind(coef.super.matrix.5k, log.reg.coef.norm.5k[i,]) \n",
    "}\n",
    "\n",
    "for(i in 1:nrow(lasso.coef.5k)) {\n",
    "    coef.super.matrix.5k = rbind(coef.super.matrix.5k, lasso.coef.norm.5k[i,]) \n",
    "}\n",
    "\n",
    "#add decision tree important features to decision tree\n",
    "for(i in 1:nrow(decision.tree.feature.importance.5k)) {\n",
    "    coef.super.matrix.5k = rbind(coef.super.matrix.5k, decision.tree.importance.norm.5k[i,]) \n",
    "}\n",
    "\n",
    "#add extra tree important features to decision tree\n",
    "for(i in 1:nrow(extra.tree.feature.importance.5k)) {\n",
    "    coef.super.matrix.5k = rbind(coef.super.matrix.5k, extra.tree.importance.norm.5k[i,]) \n",
    "}\n",
    "\n",
    "# add important features for neural net\n",
    "for(i in 1:nrow(neural.net.normalized.5k)) {\n",
    "    coef.super.matrix.5k = rbind(coef.super.matrix.5k, neural.net.normalized.5k[i,]) \n",
    "}\n",
    "\n",
    "#remove first row\n",
    "coef.super.matrix.5k = coef.super.matrix.5k[-1, ]\n",
    "\n",
    "#rename rows\n",
    "rownames(coef.super.matrix.5k) = c(\"LogReg_Fold1\", \"LogReg_Fold2\", \"LogReg_Fold3\", \"LogReg_Fold4\", \"LogReg_Fold5\",\n",
    "                                   \"Lasso_Fold1\", \"Lasso_Fold2\", \"Lasso_Fold3\", \"Lasso_Fold4\", \"Lasso_Fold5\",\n",
    "                                   \"DecTree_Fold1\", \"DecTree_Fold2\", \"DecTree_Fold3\", \"DecTree_Fold4\", \"DecTree_Fold5\",\n",
    "                                   \"ExTree_Fold1\", \"ExTree_Fold2\", \"ExTree_Fold3\", \"ExTree_Fold4\", \"ExTree_Fold5\",\n",
    "                                   \"NNnorm_Fold1\", \"NNnorm_Fold2\", \"NNnorm_Fold3\", \"NNnorm_Fold4\", \"NNnorm_Fold5\")"
   ]
  },
  {
   "cell_type": "code",
   "execution_count": 53,
   "metadata": {},
   "outputs": [
    {
     "data": {
      "text/html": [
       "<ol class=list-inline>\n",
       "\t<li>25</li>\n",
       "\t<li>5008</li>\n",
       "</ol>\n"
      ],
      "text/latex": [
       "\\begin{enumerate*}\n",
       "\\item 25\n",
       "\\item 5008\n",
       "\\end{enumerate*}\n"
      ],
      "text/markdown": [
       "1. 25\n",
       "2. 5008\n",
       "\n",
       "\n"
      ],
      "text/plain": [
       "[1]   25 5008"
      ]
     },
     "metadata": {},
     "output_type": "display_data"
    },
    {
     "data": {
      "text/html": [
       "<table>\n",
       "<thead><tr><th></th><th scope=col>ENSG00000000003.13</th><th scope=col>ENSG00000000971.14</th><th scope=col>ENSG00000001084.9</th><th scope=col>ENSG00000001561.6</th><th scope=col>ENSG00000002586.16</th><th scope=col>ENSG00000002933.6</th></tr></thead>\n",
       "<tbody>\n",
       "\t<tr><th scope=row>LogReg_Fold1</th><td>0.6053645  </td><td>0.5138170  </td><td>0.4840389  </td><td>0.557828026</td><td>0.54556764 </td><td>0.4917138  </td></tr>\n",
       "\t<tr><th scope=row>LogReg_Fold2</th><td>0.5309788  </td><td>0.5060045  </td><td>0.8515418  </td><td>0.547215711</td><td>0.17649615 </td><td>0.4669850  </td></tr>\n",
       "\t<tr><th scope=row>LogReg_Fold3</th><td>0.6208883  </td><td>0.6483652  </td><td>0.7393011  </td><td>0.580180110</td><td>0.62470107 </td><td>0.6430368  </td></tr>\n",
       "\t<tr><th scope=row>LogReg_Fold4</th><td>0.4522677  </td><td>0.5067145  </td><td>0.4495335  </td><td>0.495645932</td><td>0.37058682 </td><td>0.5432256  </td></tr>\n",
       "\t<tr><th scope=row>LogReg_Fold5</th><td>0.6507551  </td><td>0.5726229  </td><td>0.4809076  </td><td>0.621537452</td><td>0.55609411 </td><td>0.5817704  </td></tr>\n",
       "\t<tr><th scope=row>Lasso_Fold1</th><td>0.4217334  </td><td>0.4217334  </td><td>0.4217334  </td><td>0.421733415</td><td>0.42173341 </td><td>0.4217334  </td></tr>\n",
       "\t<tr><th scope=row>Lasso_Fold2</th><td>0.5652586  </td><td>0.5652586  </td><td>0.5652586  </td><td>0.565258591</td><td>0.56525859 </td><td>0.5652586  </td></tr>\n",
       "\t<tr><th scope=row>Lasso_Fold3</th><td>0.4525438  </td><td>0.4525438  </td><td>0.4525438  </td><td>0.452543820</td><td>0.45254382 </td><td>0.4525438  </td></tr>\n",
       "\t<tr><th scope=row>Lasso_Fold4</th><td>0.5488613  </td><td>0.5488613  </td><td>0.5488613  </td><td>0.548861343</td><td>0.54886134 </td><td>0.5488613  </td></tr>\n",
       "\t<tr><th scope=row>Lasso_Fold5</th><td>0.8108638  </td><td>0.8108638  </td><td>0.8108638  </td><td>0.810863839</td><td>0.81086384 </td><td>0.8108638  </td></tr>\n",
       "\t<tr><th scope=row>DecTree_Fold1</th><td>0.0000000  </td><td>0.0000000  </td><td>0.0000000  </td><td>0.000000000</td><td>0.00000000 </td><td>0.0000000  </td></tr>\n",
       "\t<tr><th scope=row>DecTree_Fold2</th><td>0.0000000  </td><td>0.0000000  </td><td>0.0000000  </td><td>0.000000000</td><td>0.00000000 </td><td>0.0000000  </td></tr>\n",
       "\t<tr><th scope=row>DecTree_Fold3</th><td>0.0000000  </td><td>0.0000000  </td><td>0.0000000  </td><td>0.000000000</td><td>0.00000000 </td><td>0.0000000  </td></tr>\n",
       "\t<tr><th scope=row>DecTree_Fold4</th><td>0.0000000  </td><td>0.0000000  </td><td>0.0000000  </td><td>0.000000000</td><td>0.00000000 </td><td>0.0000000  </td></tr>\n",
       "\t<tr><th scope=row>DecTree_Fold5</th><td>0.0000000  </td><td>0.0000000  </td><td>0.0000000  </td><td>0.000000000</td><td>0.00000000 </td><td>0.0000000  </td></tr>\n",
       "\t<tr><th scope=row>ExTree_Fold1</th><td>0.0000000  </td><td>0.0000000  </td><td>0.0000000  </td><td>0.000000000</td><td>0.00000000 </td><td>0.0000000  </td></tr>\n",
       "\t<tr><th scope=row>ExTree_Fold2</th><td>0.0000000  </td><td>0.0000000  </td><td>0.0000000  </td><td>0.000000000</td><td>0.00000000 </td><td>0.0000000  </td></tr>\n",
       "\t<tr><th scope=row>ExTree_Fold3</th><td>0.0000000  </td><td>0.0000000  </td><td>0.0000000  </td><td>0.385457037</td><td>0.03026669 </td><td>0.0000000  </td></tr>\n",
       "\t<tr><th scope=row>ExTree_Fold4</th><td>0.0000000  </td><td>0.0000000  </td><td>0.0000000  </td><td>0.000000000</td><td>0.00000000 </td><td>0.0000000  </td></tr>\n",
       "\t<tr><th scope=row>ExTree_Fold5</th><td>0.0000000  </td><td>0.0000000  </td><td>0.0000000  </td><td>0.009542993</td><td>0.00000000 </td><td>0.0000000  </td></tr>\n",
       "\t<tr><th scope=row>NNnorm_Fold1</th><td>0.4572629  </td><td>0.4076352  </td><td>0.4051909  </td><td>0.352026336</td><td>0.33249406 </td><td>0.6279404  </td></tr>\n",
       "\t<tr><th scope=row>NNnorm_Fold2</th><td>0.2942147  </td><td>0.3716707  </td><td>0.5477815  </td><td>0.559851780</td><td>0.61377005 </td><td>0.2698091  </td></tr>\n",
       "\t<tr><th scope=row>NNnorm_Fold3</th><td>0.4221475  </td><td>0.3221159  </td><td>0.5983469  </td><td>0.769808636</td><td>0.45013416 </td><td>0.2145170  </td></tr>\n",
       "\t<tr><th scope=row>NNnorm_Fold4</th><td>0.2795423  </td><td>0.4263136  </td><td>0.6502286  </td><td>0.552800712</td><td>0.51221501 </td><td>0.5850306  </td></tr>\n",
       "\t<tr><th scope=row>NNnorm_Fold5</th><td>0.5855722  </td><td>0.4637193  </td><td>0.6103998  </td><td>0.385466457</td><td>0.55764622 </td><td>0.4445476  </td></tr>\n",
       "</tbody>\n",
       "</table>\n"
      ],
      "text/latex": [
       "\\begin{tabular}{r|llllll}\n",
       "  & ENSG00000000003.13 & ENSG00000000971.14 & ENSG00000001084.9 & ENSG00000001561.6 & ENSG00000002586.16 & ENSG00000002933.6\\\\\n",
       "\\hline\n",
       "\tLogReg\\_Fold1 & 0.6053645   & 0.5138170   & 0.4840389   & 0.557828026 & 0.54556764  & 0.4917138  \\\\\n",
       "\tLogReg\\_Fold2 & 0.5309788   & 0.5060045   & 0.8515418   & 0.547215711 & 0.17649615  & 0.4669850  \\\\\n",
       "\tLogReg\\_Fold3 & 0.6208883   & 0.6483652   & 0.7393011   & 0.580180110 & 0.62470107  & 0.6430368  \\\\\n",
       "\tLogReg\\_Fold4 & 0.4522677   & 0.5067145   & 0.4495335   & 0.495645932 & 0.37058682  & 0.5432256  \\\\\n",
       "\tLogReg\\_Fold5 & 0.6507551   & 0.5726229   & 0.4809076   & 0.621537452 & 0.55609411  & 0.5817704  \\\\\n",
       "\tLasso\\_Fold1 & 0.4217334   & 0.4217334   & 0.4217334   & 0.421733415 & 0.42173341  & 0.4217334  \\\\\n",
       "\tLasso\\_Fold2 & 0.5652586   & 0.5652586   & 0.5652586   & 0.565258591 & 0.56525859  & 0.5652586  \\\\\n",
       "\tLasso\\_Fold3 & 0.4525438   & 0.4525438   & 0.4525438   & 0.452543820 & 0.45254382  & 0.4525438  \\\\\n",
       "\tLasso\\_Fold4 & 0.5488613   & 0.5488613   & 0.5488613   & 0.548861343 & 0.54886134  & 0.5488613  \\\\\n",
       "\tLasso\\_Fold5 & 0.8108638   & 0.8108638   & 0.8108638   & 0.810863839 & 0.81086384  & 0.8108638  \\\\\n",
       "\tDecTree\\_Fold1 & 0.0000000   & 0.0000000   & 0.0000000   & 0.000000000 & 0.00000000  & 0.0000000  \\\\\n",
       "\tDecTree\\_Fold2 & 0.0000000   & 0.0000000   & 0.0000000   & 0.000000000 & 0.00000000  & 0.0000000  \\\\\n",
       "\tDecTree\\_Fold3 & 0.0000000   & 0.0000000   & 0.0000000   & 0.000000000 & 0.00000000  & 0.0000000  \\\\\n",
       "\tDecTree\\_Fold4 & 0.0000000   & 0.0000000   & 0.0000000   & 0.000000000 & 0.00000000  & 0.0000000  \\\\\n",
       "\tDecTree\\_Fold5 & 0.0000000   & 0.0000000   & 0.0000000   & 0.000000000 & 0.00000000  & 0.0000000  \\\\\n",
       "\tExTree\\_Fold1 & 0.0000000   & 0.0000000   & 0.0000000   & 0.000000000 & 0.00000000  & 0.0000000  \\\\\n",
       "\tExTree\\_Fold2 & 0.0000000   & 0.0000000   & 0.0000000   & 0.000000000 & 0.00000000  & 0.0000000  \\\\\n",
       "\tExTree\\_Fold3 & 0.0000000   & 0.0000000   & 0.0000000   & 0.385457037 & 0.03026669  & 0.0000000  \\\\\n",
       "\tExTree\\_Fold4 & 0.0000000   & 0.0000000   & 0.0000000   & 0.000000000 & 0.00000000  & 0.0000000  \\\\\n",
       "\tExTree\\_Fold5 & 0.0000000   & 0.0000000   & 0.0000000   & 0.009542993 & 0.00000000  & 0.0000000  \\\\\n",
       "\tNNnorm\\_Fold1 & 0.4572629   & 0.4076352   & 0.4051909   & 0.352026336 & 0.33249406  & 0.6279404  \\\\\n",
       "\tNNnorm\\_Fold2 & 0.2942147   & 0.3716707   & 0.5477815   & 0.559851780 & 0.61377005  & 0.2698091  \\\\\n",
       "\tNNnorm\\_Fold3 & 0.4221475   & 0.3221159   & 0.5983469   & 0.769808636 & 0.45013416  & 0.2145170  \\\\\n",
       "\tNNnorm\\_Fold4 & 0.2795423   & 0.4263136   & 0.6502286   & 0.552800712 & 0.51221501  & 0.5850306  \\\\\n",
       "\tNNnorm\\_Fold5 & 0.5855722   & 0.4637193   & 0.6103998   & 0.385466457 & 0.55764622  & 0.4445476  \\\\\n",
       "\\end{tabular}\n"
      ],
      "text/markdown": [
       "\n",
       "| <!--/--> | ENSG00000000003.13 | ENSG00000000971.14 | ENSG00000001084.9 | ENSG00000001561.6 | ENSG00000002586.16 | ENSG00000002933.6 |\n",
       "|---|---|---|---|---|---|---|\n",
       "| LogReg_Fold1 | 0.6053645   | 0.5138170   | 0.4840389   | 0.557828026 | 0.54556764  | 0.4917138   |\n",
       "| LogReg_Fold2 | 0.5309788   | 0.5060045   | 0.8515418   | 0.547215711 | 0.17649615  | 0.4669850   |\n",
       "| LogReg_Fold3 | 0.6208883   | 0.6483652   | 0.7393011   | 0.580180110 | 0.62470107  | 0.6430368   |\n",
       "| LogReg_Fold4 | 0.4522677   | 0.5067145   | 0.4495335   | 0.495645932 | 0.37058682  | 0.5432256   |\n",
       "| LogReg_Fold5 | 0.6507551   | 0.5726229   | 0.4809076   | 0.621537452 | 0.55609411  | 0.5817704   |\n",
       "| Lasso_Fold1 | 0.4217334   | 0.4217334   | 0.4217334   | 0.421733415 | 0.42173341  | 0.4217334   |\n",
       "| Lasso_Fold2 | 0.5652586   | 0.5652586   | 0.5652586   | 0.565258591 | 0.56525859  | 0.5652586   |\n",
       "| Lasso_Fold3 | 0.4525438   | 0.4525438   | 0.4525438   | 0.452543820 | 0.45254382  | 0.4525438   |\n",
       "| Lasso_Fold4 | 0.5488613   | 0.5488613   | 0.5488613   | 0.548861343 | 0.54886134  | 0.5488613   |\n",
       "| Lasso_Fold5 | 0.8108638   | 0.8108638   | 0.8108638   | 0.810863839 | 0.81086384  | 0.8108638   |\n",
       "| DecTree_Fold1 | 0.0000000   | 0.0000000   | 0.0000000   | 0.000000000 | 0.00000000  | 0.0000000   |\n",
       "| DecTree_Fold2 | 0.0000000   | 0.0000000   | 0.0000000   | 0.000000000 | 0.00000000  | 0.0000000   |\n",
       "| DecTree_Fold3 | 0.0000000   | 0.0000000   | 0.0000000   | 0.000000000 | 0.00000000  | 0.0000000   |\n",
       "| DecTree_Fold4 | 0.0000000   | 0.0000000   | 0.0000000   | 0.000000000 | 0.00000000  | 0.0000000   |\n",
       "| DecTree_Fold5 | 0.0000000   | 0.0000000   | 0.0000000   | 0.000000000 | 0.00000000  | 0.0000000   |\n",
       "| ExTree_Fold1 | 0.0000000   | 0.0000000   | 0.0000000   | 0.000000000 | 0.00000000  | 0.0000000   |\n",
       "| ExTree_Fold2 | 0.0000000   | 0.0000000   | 0.0000000   | 0.000000000 | 0.00000000  | 0.0000000   |\n",
       "| ExTree_Fold3 | 0.0000000   | 0.0000000   | 0.0000000   | 0.385457037 | 0.03026669  | 0.0000000   |\n",
       "| ExTree_Fold4 | 0.0000000   | 0.0000000   | 0.0000000   | 0.000000000 | 0.00000000  | 0.0000000   |\n",
       "| ExTree_Fold5 | 0.0000000   | 0.0000000   | 0.0000000   | 0.009542993 | 0.00000000  | 0.0000000   |\n",
       "| NNnorm_Fold1 | 0.4572629   | 0.4076352   | 0.4051909   | 0.352026336 | 0.33249406  | 0.6279404   |\n",
       "| NNnorm_Fold2 | 0.2942147   | 0.3716707   | 0.5477815   | 0.559851780 | 0.61377005  | 0.2698091   |\n",
       "| NNnorm_Fold3 | 0.4221475   | 0.3221159   | 0.5983469   | 0.769808636 | 0.45013416  | 0.2145170   |\n",
       "| NNnorm_Fold4 | 0.2795423   | 0.4263136   | 0.6502286   | 0.552800712 | 0.51221501  | 0.5850306   |\n",
       "| NNnorm_Fold5 | 0.5855722   | 0.4637193   | 0.6103998   | 0.385466457 | 0.55764622  | 0.4445476   |\n",
       "\n"
      ],
      "text/plain": [
       "              ENSG00000000003.13 ENSG00000000971.14 ENSG00000001084.9\n",
       "LogReg_Fold1  0.6053645          0.5138170          0.4840389        \n",
       "LogReg_Fold2  0.5309788          0.5060045          0.8515418        \n",
       "LogReg_Fold3  0.6208883          0.6483652          0.7393011        \n",
       "LogReg_Fold4  0.4522677          0.5067145          0.4495335        \n",
       "LogReg_Fold5  0.6507551          0.5726229          0.4809076        \n",
       "Lasso_Fold1   0.4217334          0.4217334          0.4217334        \n",
       "Lasso_Fold2   0.5652586          0.5652586          0.5652586        \n",
       "Lasso_Fold3   0.4525438          0.4525438          0.4525438        \n",
       "Lasso_Fold4   0.5488613          0.5488613          0.5488613        \n",
       "Lasso_Fold5   0.8108638          0.8108638          0.8108638        \n",
       "DecTree_Fold1 0.0000000          0.0000000          0.0000000        \n",
       "DecTree_Fold2 0.0000000          0.0000000          0.0000000        \n",
       "DecTree_Fold3 0.0000000          0.0000000          0.0000000        \n",
       "DecTree_Fold4 0.0000000          0.0000000          0.0000000        \n",
       "DecTree_Fold5 0.0000000          0.0000000          0.0000000        \n",
       "ExTree_Fold1  0.0000000          0.0000000          0.0000000        \n",
       "ExTree_Fold2  0.0000000          0.0000000          0.0000000        \n",
       "ExTree_Fold3  0.0000000          0.0000000          0.0000000        \n",
       "ExTree_Fold4  0.0000000          0.0000000          0.0000000        \n",
       "ExTree_Fold5  0.0000000          0.0000000          0.0000000        \n",
       "NNnorm_Fold1  0.4572629          0.4076352          0.4051909        \n",
       "NNnorm_Fold2  0.2942147          0.3716707          0.5477815        \n",
       "NNnorm_Fold3  0.4221475          0.3221159          0.5983469        \n",
       "NNnorm_Fold4  0.2795423          0.4263136          0.6502286        \n",
       "NNnorm_Fold5  0.5855722          0.4637193          0.6103998        \n",
       "              ENSG00000001561.6 ENSG00000002586.16 ENSG00000002933.6\n",
       "LogReg_Fold1  0.557828026       0.54556764         0.4917138        \n",
       "LogReg_Fold2  0.547215711       0.17649615         0.4669850        \n",
       "LogReg_Fold3  0.580180110       0.62470107         0.6430368        \n",
       "LogReg_Fold4  0.495645932       0.37058682         0.5432256        \n",
       "LogReg_Fold5  0.621537452       0.55609411         0.5817704        \n",
       "Lasso_Fold1   0.421733415       0.42173341         0.4217334        \n",
       "Lasso_Fold2   0.565258591       0.56525859         0.5652586        \n",
       "Lasso_Fold3   0.452543820       0.45254382         0.4525438        \n",
       "Lasso_Fold4   0.548861343       0.54886134         0.5488613        \n",
       "Lasso_Fold5   0.810863839       0.81086384         0.8108638        \n",
       "DecTree_Fold1 0.000000000       0.00000000         0.0000000        \n",
       "DecTree_Fold2 0.000000000       0.00000000         0.0000000        \n",
       "DecTree_Fold3 0.000000000       0.00000000         0.0000000        \n",
       "DecTree_Fold4 0.000000000       0.00000000         0.0000000        \n",
       "DecTree_Fold5 0.000000000       0.00000000         0.0000000        \n",
       "ExTree_Fold1  0.000000000       0.00000000         0.0000000        \n",
       "ExTree_Fold2  0.000000000       0.00000000         0.0000000        \n",
       "ExTree_Fold3  0.385457037       0.03026669         0.0000000        \n",
       "ExTree_Fold4  0.000000000       0.00000000         0.0000000        \n",
       "ExTree_Fold5  0.009542993       0.00000000         0.0000000        \n",
       "NNnorm_Fold1  0.352026336       0.33249406         0.6279404        \n",
       "NNnorm_Fold2  0.559851780       0.61377005         0.2698091        \n",
       "NNnorm_Fold3  0.769808636       0.45013416         0.2145170        \n",
       "NNnorm_Fold4  0.552800712       0.51221501         0.5850306        \n",
       "NNnorm_Fold5  0.385466457       0.55764622         0.4445476        "
      ]
     },
     "metadata": {},
     "output_type": "display_data"
    }
   ],
   "source": [
    "#sanity check\n",
    " dim(coef.super.matrix.5k)\n",
    " coef.super.matrix.5k[, 1:6]"
   ]
  },
  {
   "cell_type": "markdown",
   "metadata": {},
   "source": [
    "### 2.5k gene super matrix"
   ]
  },
  {
   "cell_type": "code",
   "execution_count": 54,
   "metadata": {},
   "outputs": [],
   "source": [
    "coef.super.matrix.2.5k = matrix(ncol = ncol(log.reg.coef.2.5k), data = 0)\n",
    "colnames(coef.super.matrix.2.5k) = colnames(log.reg.coef.2.5k)\n",
    "\n",
    "#add log reg coef to super matrix\n",
    "for(i in 1:nrow(log.reg.coef.2.5k)) {\n",
    "    coef.super.matrix.2.5k = rbind(coef.super.matrix.2.5k, log.reg.coef.norm.2.5k[i,]) \n",
    "}\n",
    "\n",
    "for(i in 1:nrow(lasso.coef.2.5k)) {\n",
    "    coef.super.matrix.2.5k = rbind(coef.super.matrix.2.5k, lasso.coef.norm.2.5k[i,]) \n",
    "}\n",
    "\n",
    "#add decision tree important features to decision tree\n",
    "for(i in 1:nrow(decision.tree.feature.importance.2.5k)) {\n",
    "    coef.super.matrix.2.5k = rbind(coef.super.matrix.2.5k, decision.tree.importance.norm.2.5k[i,]) \n",
    "}\n",
    "\n",
    "#add extra tree important features to decision tree\n",
    "for(i in 1:nrow(extra.tree.feature.importance.2.5k)) {\n",
    "    coef.super.matrix.2.5k = rbind(coef.super.matrix.2.5k, extra.tree.importance.norm.2.5k[i,]) \n",
    "}\n",
    "\n",
    "# add important features for neural net\n",
    "for(i in 1:nrow(neural.net.normalized.2.5k)) {\n",
    "    coef.super.matrix.2.5k = rbind(coef.super.matrix.2.5k, neural.net.normalized.2.5k[i,]) \n",
    "}\n",
    "\n",
    "\n",
    "#remove first row\n",
    "coef.super.matrix.2.5k = coef.super.matrix.2.5k[-1, ]\n",
    "\n",
    "#rename rows\n",
    "rownames(coef.super.matrix.2.5k) = c(\"LogReg_Fold1\", \"LogReg_Fold2\", \"LogReg_Fold3\", \"LogReg_Fold4\", \"LogReg_Fold5\",\n",
    "                                     \"Lasso_Fold1\", \"Lasso_Fold2\", \"Lasso_Fold3\", \"Lasso_Fold4\", \"Lasso_Fold5\",\n",
    "                                     \"DecTree_Fold1\", \"DecTree_Fold2\", \"DecTree_Fold3\", \"DecTree_Fold4\", \"DecTree_Fold5\",\n",
    "                                     \"ExTree_Fold1\", \"ExTree_Fold2\", \"ExTree_Fold3\", \"ExTree_Fold4\", \"ExTree_Fold5\",\n",
    "                                     \"NNnorm_Fold1\", \"NNnorm_Fold2\", \"NNnorm_Fold3\", \"NNnorm_Fold4\", \"NNnorm_Fold5\")"
   ]
  },
  {
   "cell_type": "code",
   "execution_count": 55,
   "metadata": {},
   "outputs": [
    {
     "data": {
      "text/html": [
       "<ol class=list-inline>\n",
       "\t<li>25</li>\n",
       "\t<li>2538</li>\n",
       "</ol>\n"
      ],
      "text/latex": [
       "\\begin{enumerate*}\n",
       "\\item 25\n",
       "\\item 2538\n",
       "\\end{enumerate*}\n"
      ],
      "text/markdown": [
       "1. 25\n",
       "2. 2538\n",
       "\n",
       "\n"
      ],
      "text/plain": [
       "[1]   25 2538"
      ]
     },
     "metadata": {},
     "output_type": "display_data"
    },
    {
     "data": {
      "text/html": [
       "<table>\n",
       "<thead><tr><th></th><th scope=col>ENSG00000000003.13</th><th scope=col>ENSG00000000971.14</th><th scope=col>ENSG00000001561.6</th><th scope=col>ENSG00000002586.16</th><th scope=col>ENSG00000003137.7</th><th scope=col>ENSG00000003436.13</th></tr></thead>\n",
       "<tbody>\n",
       "\t<tr><th scope=row>LogReg_Fold1</th><td>0.4220371</td><td>0.4750274</td><td>0.4467388</td><td>0.4724761</td><td>0.6266091</td><td>0.3769483</td></tr>\n",
       "\t<tr><th scope=row>LogReg_Fold2</th><td>0.5936591</td><td>0.5672079</td><td>0.5658191</td><td>0.5866972</td><td>0.5670364</td><td>0.7258142</td></tr>\n",
       "\t<tr><th scope=row>LogReg_Fold3</th><td>0.3319382</td><td>0.3299018</td><td>0.3555429</td><td>0.3527267</td><td>0.3772920</td><td>0.3436786</td></tr>\n",
       "\t<tr><th scope=row>LogReg_Fold4</th><td>0.4269907</td><td>0.4010694</td><td>0.4007951</td><td>0.3332993</td><td>0.3777309</td><td>0.3347019</td></tr>\n",
       "\t<tr><th scope=row>LogReg_Fold5</th><td>0.6564436</td><td>0.5070464</td><td>0.6832262</td><td>0.6491977</td><td>0.7280068</td><td>0.4970034</td></tr>\n",
       "\t<tr><th scope=row>Lasso_Fold1</th><td>0.4069436</td><td>0.4069436</td><td>0.4069436</td><td>0.4069436</td><td>0.4069436</td><td>0.4069436</td></tr>\n",
       "\t<tr><th scope=row>Lasso_Fold2</th><td>0.5634031</td><td>0.5634031</td><td>0.5634031</td><td>0.5634031</td><td>0.5634031</td><td>0.5634031</td></tr>\n",
       "\t<tr><th scope=row>Lasso_Fold3</th><td>0.4216463</td><td>0.4216463</td><td>0.4216463</td><td>0.4216463</td><td>0.4216463</td><td>0.4216463</td></tr>\n",
       "\t<tr><th scope=row>Lasso_Fold4</th><td>0.5413079</td><td>0.5413079</td><td>0.5413079</td><td>0.5413079</td><td>0.5413079</td><td>0.5413079</td></tr>\n",
       "\t<tr><th scope=row>Lasso_Fold5</th><td>0.7509210</td><td>0.7509210</td><td>0.7962521</td><td>0.7509210</td><td>0.7509210</td><td>0.7509210</td></tr>\n",
       "\t<tr><th scope=row>DecTree_Fold1</th><td>0.0000000</td><td>0.0000000</td><td>0.0000000</td><td>0.0000000</td><td>0.0000000</td><td>0.0000000</td></tr>\n",
       "\t<tr><th scope=row>DecTree_Fold2</th><td>0.0000000</td><td>0.0000000</td><td>0.0000000</td><td>0.0000000</td><td>0.0000000</td><td>0.0000000</td></tr>\n",
       "\t<tr><th scope=row>DecTree_Fold3</th><td>0.0000000</td><td>0.0000000</td><td>0.0000000</td><td>0.0000000</td><td>0.0000000</td><td>0.0000000</td></tr>\n",
       "\t<tr><th scope=row>DecTree_Fold4</th><td>0.0000000</td><td>0.0000000</td><td>0.0000000</td><td>0.0000000</td><td>0.0000000</td><td>0.0000000</td></tr>\n",
       "\t<tr><th scope=row>DecTree_Fold5</th><td>0.0000000</td><td>0.0000000</td><td>0.0000000</td><td>0.0000000</td><td>0.0000000</td><td>0.0000000</td></tr>\n",
       "\t<tr><th scope=row>ExTree_Fold1</th><td>0.0000000</td><td>0.0000000</td><td>0.0000000</td><td>0.0000000</td><td>0.0000000</td><td>0.0000000</td></tr>\n",
       "\t<tr><th scope=row>ExTree_Fold2</th><td>0.0000000</td><td>0.0000000</td><td>0.0000000</td><td>0.0000000</td><td>0.0000000</td><td>0.0000000</td></tr>\n",
       "\t<tr><th scope=row>ExTree_Fold3</th><td>0.0000000</td><td>0.0000000</td><td>0.0000000</td><td>0.5282075</td><td>0.0000000</td><td>0.1245558</td></tr>\n",
       "\t<tr><th scope=row>ExTree_Fold4</th><td>0.0000000</td><td>0.0000000</td><td>0.0000000</td><td>0.0000000</td><td>0.0000000</td><td>0.0000000</td></tr>\n",
       "\t<tr><th scope=row>ExTree_Fold5</th><td>0.0000000</td><td>0.0000000</td><td>0.0000000</td><td>0.0000000</td><td>0.0000000</td><td>0.0000000</td></tr>\n",
       "\t<tr><th scope=row>NNnorm_Fold1</th><td>0.2610627</td><td>0.5675405</td><td>0.4450945</td><td>0.6794938</td><td>0.4618322</td><td>0.2935302</td></tr>\n",
       "\t<tr><th scope=row>NNnorm_Fold2</th><td>0.5213122</td><td>0.4391069</td><td>0.5390000</td><td>0.5883281</td><td>0.5064552</td><td>0.5000020</td></tr>\n",
       "\t<tr><th scope=row>NNnorm_Fold3</th><td>0.4962264</td><td>0.6290115</td><td>0.5112585</td><td>0.4600331</td><td>0.2370274</td><td>0.5942607</td></tr>\n",
       "\t<tr><th scope=row>NNnorm_Fold4</th><td>0.7544944</td><td>0.4966948</td><td>0.6947533</td><td>0.3595374</td><td>0.5210192</td><td>0.8058921</td></tr>\n",
       "\t<tr><th scope=row>NNnorm_Fold5</th><td>0.7044032</td><td>0.8401397</td><td>0.8532092</td><td>0.3853921</td><td>0.3071486</td><td>0.3707738</td></tr>\n",
       "</tbody>\n",
       "</table>\n"
      ],
      "text/latex": [
       "\\begin{tabular}{r|llllll}\n",
       "  & ENSG00000000003.13 & ENSG00000000971.14 & ENSG00000001561.6 & ENSG00000002586.16 & ENSG00000003137.7 & ENSG00000003436.13\\\\\n",
       "\\hline\n",
       "\tLogReg\\_Fold1 & 0.4220371 & 0.4750274 & 0.4467388 & 0.4724761 & 0.6266091 & 0.3769483\\\\\n",
       "\tLogReg\\_Fold2 & 0.5936591 & 0.5672079 & 0.5658191 & 0.5866972 & 0.5670364 & 0.7258142\\\\\n",
       "\tLogReg\\_Fold3 & 0.3319382 & 0.3299018 & 0.3555429 & 0.3527267 & 0.3772920 & 0.3436786\\\\\n",
       "\tLogReg\\_Fold4 & 0.4269907 & 0.4010694 & 0.4007951 & 0.3332993 & 0.3777309 & 0.3347019\\\\\n",
       "\tLogReg\\_Fold5 & 0.6564436 & 0.5070464 & 0.6832262 & 0.6491977 & 0.7280068 & 0.4970034\\\\\n",
       "\tLasso\\_Fold1 & 0.4069436 & 0.4069436 & 0.4069436 & 0.4069436 & 0.4069436 & 0.4069436\\\\\n",
       "\tLasso\\_Fold2 & 0.5634031 & 0.5634031 & 0.5634031 & 0.5634031 & 0.5634031 & 0.5634031\\\\\n",
       "\tLasso\\_Fold3 & 0.4216463 & 0.4216463 & 0.4216463 & 0.4216463 & 0.4216463 & 0.4216463\\\\\n",
       "\tLasso\\_Fold4 & 0.5413079 & 0.5413079 & 0.5413079 & 0.5413079 & 0.5413079 & 0.5413079\\\\\n",
       "\tLasso\\_Fold5 & 0.7509210 & 0.7509210 & 0.7962521 & 0.7509210 & 0.7509210 & 0.7509210\\\\\n",
       "\tDecTree\\_Fold1 & 0.0000000 & 0.0000000 & 0.0000000 & 0.0000000 & 0.0000000 & 0.0000000\\\\\n",
       "\tDecTree\\_Fold2 & 0.0000000 & 0.0000000 & 0.0000000 & 0.0000000 & 0.0000000 & 0.0000000\\\\\n",
       "\tDecTree\\_Fold3 & 0.0000000 & 0.0000000 & 0.0000000 & 0.0000000 & 0.0000000 & 0.0000000\\\\\n",
       "\tDecTree\\_Fold4 & 0.0000000 & 0.0000000 & 0.0000000 & 0.0000000 & 0.0000000 & 0.0000000\\\\\n",
       "\tDecTree\\_Fold5 & 0.0000000 & 0.0000000 & 0.0000000 & 0.0000000 & 0.0000000 & 0.0000000\\\\\n",
       "\tExTree\\_Fold1 & 0.0000000 & 0.0000000 & 0.0000000 & 0.0000000 & 0.0000000 & 0.0000000\\\\\n",
       "\tExTree\\_Fold2 & 0.0000000 & 0.0000000 & 0.0000000 & 0.0000000 & 0.0000000 & 0.0000000\\\\\n",
       "\tExTree\\_Fold3 & 0.0000000 & 0.0000000 & 0.0000000 & 0.5282075 & 0.0000000 & 0.1245558\\\\\n",
       "\tExTree\\_Fold4 & 0.0000000 & 0.0000000 & 0.0000000 & 0.0000000 & 0.0000000 & 0.0000000\\\\\n",
       "\tExTree\\_Fold5 & 0.0000000 & 0.0000000 & 0.0000000 & 0.0000000 & 0.0000000 & 0.0000000\\\\\n",
       "\tNNnorm\\_Fold1 & 0.2610627 & 0.5675405 & 0.4450945 & 0.6794938 & 0.4618322 & 0.2935302\\\\\n",
       "\tNNnorm\\_Fold2 & 0.5213122 & 0.4391069 & 0.5390000 & 0.5883281 & 0.5064552 & 0.5000020\\\\\n",
       "\tNNnorm\\_Fold3 & 0.4962264 & 0.6290115 & 0.5112585 & 0.4600331 & 0.2370274 & 0.5942607\\\\\n",
       "\tNNnorm\\_Fold4 & 0.7544944 & 0.4966948 & 0.6947533 & 0.3595374 & 0.5210192 & 0.8058921\\\\\n",
       "\tNNnorm\\_Fold5 & 0.7044032 & 0.8401397 & 0.8532092 & 0.3853921 & 0.3071486 & 0.3707738\\\\\n",
       "\\end{tabular}\n"
      ],
      "text/markdown": [
       "\n",
       "| <!--/--> | ENSG00000000003.13 | ENSG00000000971.14 | ENSG00000001561.6 | ENSG00000002586.16 | ENSG00000003137.7 | ENSG00000003436.13 |\n",
       "|---|---|---|---|---|---|---|\n",
       "| LogReg_Fold1 | 0.4220371 | 0.4750274 | 0.4467388 | 0.4724761 | 0.6266091 | 0.3769483 |\n",
       "| LogReg_Fold2 | 0.5936591 | 0.5672079 | 0.5658191 | 0.5866972 | 0.5670364 | 0.7258142 |\n",
       "| LogReg_Fold3 | 0.3319382 | 0.3299018 | 0.3555429 | 0.3527267 | 0.3772920 | 0.3436786 |\n",
       "| LogReg_Fold4 | 0.4269907 | 0.4010694 | 0.4007951 | 0.3332993 | 0.3777309 | 0.3347019 |\n",
       "| LogReg_Fold5 | 0.6564436 | 0.5070464 | 0.6832262 | 0.6491977 | 0.7280068 | 0.4970034 |\n",
       "| Lasso_Fold1 | 0.4069436 | 0.4069436 | 0.4069436 | 0.4069436 | 0.4069436 | 0.4069436 |\n",
       "| Lasso_Fold2 | 0.5634031 | 0.5634031 | 0.5634031 | 0.5634031 | 0.5634031 | 0.5634031 |\n",
       "| Lasso_Fold3 | 0.4216463 | 0.4216463 | 0.4216463 | 0.4216463 | 0.4216463 | 0.4216463 |\n",
       "| Lasso_Fold4 | 0.5413079 | 0.5413079 | 0.5413079 | 0.5413079 | 0.5413079 | 0.5413079 |\n",
       "| Lasso_Fold5 | 0.7509210 | 0.7509210 | 0.7962521 | 0.7509210 | 0.7509210 | 0.7509210 |\n",
       "| DecTree_Fold1 | 0.0000000 | 0.0000000 | 0.0000000 | 0.0000000 | 0.0000000 | 0.0000000 |\n",
       "| DecTree_Fold2 | 0.0000000 | 0.0000000 | 0.0000000 | 0.0000000 | 0.0000000 | 0.0000000 |\n",
       "| DecTree_Fold3 | 0.0000000 | 0.0000000 | 0.0000000 | 0.0000000 | 0.0000000 | 0.0000000 |\n",
       "| DecTree_Fold4 | 0.0000000 | 0.0000000 | 0.0000000 | 0.0000000 | 0.0000000 | 0.0000000 |\n",
       "| DecTree_Fold5 | 0.0000000 | 0.0000000 | 0.0000000 | 0.0000000 | 0.0000000 | 0.0000000 |\n",
       "| ExTree_Fold1 | 0.0000000 | 0.0000000 | 0.0000000 | 0.0000000 | 0.0000000 | 0.0000000 |\n",
       "| ExTree_Fold2 | 0.0000000 | 0.0000000 | 0.0000000 | 0.0000000 | 0.0000000 | 0.0000000 |\n",
       "| ExTree_Fold3 | 0.0000000 | 0.0000000 | 0.0000000 | 0.5282075 | 0.0000000 | 0.1245558 |\n",
       "| ExTree_Fold4 | 0.0000000 | 0.0000000 | 0.0000000 | 0.0000000 | 0.0000000 | 0.0000000 |\n",
       "| ExTree_Fold5 | 0.0000000 | 0.0000000 | 0.0000000 | 0.0000000 | 0.0000000 | 0.0000000 |\n",
       "| NNnorm_Fold1 | 0.2610627 | 0.5675405 | 0.4450945 | 0.6794938 | 0.4618322 | 0.2935302 |\n",
       "| NNnorm_Fold2 | 0.5213122 | 0.4391069 | 0.5390000 | 0.5883281 | 0.5064552 | 0.5000020 |\n",
       "| NNnorm_Fold3 | 0.4962264 | 0.6290115 | 0.5112585 | 0.4600331 | 0.2370274 | 0.5942607 |\n",
       "| NNnorm_Fold4 | 0.7544944 | 0.4966948 | 0.6947533 | 0.3595374 | 0.5210192 | 0.8058921 |\n",
       "| NNnorm_Fold5 | 0.7044032 | 0.8401397 | 0.8532092 | 0.3853921 | 0.3071486 | 0.3707738 |\n",
       "\n"
      ],
      "text/plain": [
       "              ENSG00000000003.13 ENSG00000000971.14 ENSG00000001561.6\n",
       "LogReg_Fold1  0.4220371          0.4750274          0.4467388        \n",
       "LogReg_Fold2  0.5936591          0.5672079          0.5658191        \n",
       "LogReg_Fold3  0.3319382          0.3299018          0.3555429        \n",
       "LogReg_Fold4  0.4269907          0.4010694          0.4007951        \n",
       "LogReg_Fold5  0.6564436          0.5070464          0.6832262        \n",
       "Lasso_Fold1   0.4069436          0.4069436          0.4069436        \n",
       "Lasso_Fold2   0.5634031          0.5634031          0.5634031        \n",
       "Lasso_Fold3   0.4216463          0.4216463          0.4216463        \n",
       "Lasso_Fold4   0.5413079          0.5413079          0.5413079        \n",
       "Lasso_Fold5   0.7509210          0.7509210          0.7962521        \n",
       "DecTree_Fold1 0.0000000          0.0000000          0.0000000        \n",
       "DecTree_Fold2 0.0000000          0.0000000          0.0000000        \n",
       "DecTree_Fold3 0.0000000          0.0000000          0.0000000        \n",
       "DecTree_Fold4 0.0000000          0.0000000          0.0000000        \n",
       "DecTree_Fold5 0.0000000          0.0000000          0.0000000        \n",
       "ExTree_Fold1  0.0000000          0.0000000          0.0000000        \n",
       "ExTree_Fold2  0.0000000          0.0000000          0.0000000        \n",
       "ExTree_Fold3  0.0000000          0.0000000          0.0000000        \n",
       "ExTree_Fold4  0.0000000          0.0000000          0.0000000        \n",
       "ExTree_Fold5  0.0000000          0.0000000          0.0000000        \n",
       "NNnorm_Fold1  0.2610627          0.5675405          0.4450945        \n",
       "NNnorm_Fold2  0.5213122          0.4391069          0.5390000        \n",
       "NNnorm_Fold3  0.4962264          0.6290115          0.5112585        \n",
       "NNnorm_Fold4  0.7544944          0.4966948          0.6947533        \n",
       "NNnorm_Fold5  0.7044032          0.8401397          0.8532092        \n",
       "              ENSG00000002586.16 ENSG00000003137.7 ENSG00000003436.13\n",
       "LogReg_Fold1  0.4724761          0.6266091         0.3769483         \n",
       "LogReg_Fold2  0.5866972          0.5670364         0.7258142         \n",
       "LogReg_Fold3  0.3527267          0.3772920         0.3436786         \n",
       "LogReg_Fold4  0.3332993          0.3777309         0.3347019         \n",
       "LogReg_Fold5  0.6491977          0.7280068         0.4970034         \n",
       "Lasso_Fold1   0.4069436          0.4069436         0.4069436         \n",
       "Lasso_Fold2   0.5634031          0.5634031         0.5634031         \n",
       "Lasso_Fold3   0.4216463          0.4216463         0.4216463         \n",
       "Lasso_Fold4   0.5413079          0.5413079         0.5413079         \n",
       "Lasso_Fold5   0.7509210          0.7509210         0.7509210         \n",
       "DecTree_Fold1 0.0000000          0.0000000         0.0000000         \n",
       "DecTree_Fold2 0.0000000          0.0000000         0.0000000         \n",
       "DecTree_Fold3 0.0000000          0.0000000         0.0000000         \n",
       "DecTree_Fold4 0.0000000          0.0000000         0.0000000         \n",
       "DecTree_Fold5 0.0000000          0.0000000         0.0000000         \n",
       "ExTree_Fold1  0.0000000          0.0000000         0.0000000         \n",
       "ExTree_Fold2  0.0000000          0.0000000         0.0000000         \n",
       "ExTree_Fold3  0.5282075          0.0000000         0.1245558         \n",
       "ExTree_Fold4  0.0000000          0.0000000         0.0000000         \n",
       "ExTree_Fold5  0.0000000          0.0000000         0.0000000         \n",
       "NNnorm_Fold1  0.6794938          0.4618322         0.2935302         \n",
       "NNnorm_Fold2  0.5883281          0.5064552         0.5000020         \n",
       "NNnorm_Fold3  0.4600331          0.2370274         0.5942607         \n",
       "NNnorm_Fold4  0.3595374          0.5210192         0.8058921         \n",
       "NNnorm_Fold5  0.3853921          0.3071486         0.3707738         "
      ]
     },
     "metadata": {},
     "output_type": "display_data"
    }
   ],
   "source": [
    "#sanity check\n",
    " dim(coef.super.matrix.2.5k)\n",
    " coef.super.matrix.2.5k[, 1:6]"
   ]
  },
  {
   "cell_type": "markdown",
   "metadata": {},
   "source": [
    "### 1k gene super matrix"
   ]
  },
  {
   "cell_type": "code",
   "execution_count": 56,
   "metadata": {},
   "outputs": [],
   "source": [
    "coef.super.matrix.1k = matrix(ncol = ncol(log.reg.coef.1k), data = 0)\n",
    "colnames(coef.super.matrix.1k) = colnames(log.reg.coef.1k)\n",
    "\n",
    "#add log reg coef to super matrix\n",
    "for(i in 1:nrow(log.reg.coef.1k)) {\n",
    "    coef.super.matrix.1k = rbind(coef.super.matrix.1k, log.reg.coef.norm.1k[i,]) \n",
    "}\n",
    "\n",
    "for(i in 1:nrow(lasso.coef.1k)) {\n",
    "    coef.super.matrix.1k = rbind(coef.super.matrix.1k, lasso.coef.norm.1k[i,]) \n",
    "}\n",
    "\n",
    "#add decision tree important features to decision tree\n",
    "for(i in 1:nrow(decision.tree.feature.importance.1k)) {\n",
    "    coef.super.matrix.1k = rbind(coef.super.matrix.1k, decision.tree.importance.norm.1k[i,]) \n",
    "}\n",
    "\n",
    "#add extra tree important features to decision tree\n",
    "for(i in 1:nrow(extra.tree.feature.importance.1k)) {\n",
    "    coef.super.matrix.1k = rbind(coef.super.matrix.1k, extra.tree.importance.norm.1k[i,]) \n",
    "}\n",
    "\n",
    "# add important features for neural net\n",
    "for(i in 1:nrow(neural.net.normalized.1k)) {\n",
    "    coef.super.matrix.1k = rbind(coef.super.matrix.1k, neural.net.normalized.1k[i,]) \n",
    "}\n",
    "\n",
    "#remove first row\n",
    "coef.super.matrix.1k = coef.super.matrix.1k[-1, ]\n",
    "\n",
    "#rename rows\n",
    "rownames(coef.super.matrix.1k) = c(\"LogReg_Fold1\", \"LogReg_Fold2\", \"LogReg_Fold3\", \"LogReg_Fold4\", \"LogReg_Fold5\",\n",
    "                                   \"Lasso_Fold1\", \"Lasso_Fold2\", \"Lasso_Fold3\", \"Lasso_Fold4\", \"Lasso_Fold5\",\n",
    "                                   \"DecTree_Fold1\", \"DecTree_Fold2\", \"DecTree_Fold3\", \"DecTree_Fold4\", \"DecTree_Fold5\",\n",
    "                                   \"ExTree_Fold1\", \"ExTree_Fold2\", \"ExTree_Fold3\", \"ExTree_Fold4\", \"ExTree_Fold5\",\n",
    "                                   \"NNnorm_Fold1\", \"NNnorm_Fold2\", \"NNnorm_Fold3\", \"NNnorm_Fold4\", \"NNnorm_Fold5\")"
   ]
  },
  {
   "cell_type": "code",
   "execution_count": 57,
   "metadata": {},
   "outputs": [
    {
     "data": {
      "text/html": [
       "<ol class=list-inline>\n",
       "\t<li>25</li>\n",
       "\t<li>1017</li>\n",
       "</ol>\n"
      ],
      "text/latex": [
       "\\begin{enumerate*}\n",
       "\\item 25\n",
       "\\item 1017\n",
       "\\end{enumerate*}\n"
      ],
      "text/markdown": [
       "1. 25\n",
       "2. 1017\n",
       "\n",
       "\n"
      ],
      "text/plain": [
       "[1]   25 1017"
      ]
     },
     "metadata": {},
     "output_type": "display_data"
    },
    {
     "data": {
      "text/html": [
       "<table>\n",
       "<thead><tr><th></th><th scope=col>ENSG00000000003.13</th><th scope=col>ENSG00000002586.16</th><th scope=col>ENSG00000003436.13</th><th scope=col>ENSG00000004139.12</th><th scope=col>ENSG00000004399.11</th><th scope=col>ENSG00000005073.5</th></tr></thead>\n",
       "<tbody>\n",
       "\t<tr><th scope=row>LogReg_Fold1</th><td>0.2525920 </td><td>0.63174319</td><td>0.45309848</td><td>0.2984767 </td><td>0.66144338</td><td>0.45080045</td></tr>\n",
       "\t<tr><th scope=row>LogReg_Fold2</th><td>0.5464902 </td><td>0.71914688</td><td>0.40278551</td><td>0.4684560 </td><td>0.68131716</td><td>0.53727770</td></tr>\n",
       "\t<tr><th scope=row>LogReg_Fold3</th><td>0.5461310 </td><td>0.35468475</td><td>0.52870728</td><td>0.4531102 </td><td>0.53254638</td><td>0.57954985</td></tr>\n",
       "\t<tr><th scope=row>LogReg_Fold4</th><td>0.6511066 </td><td>0.69886484</td><td>0.68309190</td><td>0.6510005 </td><td>0.80522893</td><td>0.60072555</td></tr>\n",
       "\t<tr><th scope=row>LogReg_Fold5</th><td>0.6194750 </td><td>0.47184510</td><td>0.67253394</td><td>0.8636829 </td><td>0.52272873</td><td>0.56926622</td></tr>\n",
       "\t<tr><th scope=row>Lasso_Fold1</th><td>0.5261222 </td><td>0.52612218</td><td>0.52612218</td><td>0.5261222 </td><td>0.52612218</td><td>0.52612218</td></tr>\n",
       "\t<tr><th scope=row>Lasso_Fold2</th><td>0.5806290 </td><td>0.58062897</td><td>0.58062897</td><td>0.5806290 </td><td>0.58062897</td><td>0.58062897</td></tr>\n",
       "\t<tr><th scope=row>Lasso_Fold3</th><td>0.5625802 </td><td>0.56258025</td><td>0.56258025</td><td>0.5625802 </td><td>0.56258025</td><td>0.56258025</td></tr>\n",
       "\t<tr><th scope=row>Lasso_Fold4</th><td>0.6388633 </td><td>0.63886330</td><td>0.63886330</td><td>0.6388633 </td><td>0.63886330</td><td>0.63886330</td></tr>\n",
       "\t<tr><th scope=row>Lasso_Fold5</th><td>0.8144165 </td><td>0.81441652</td><td>0.81441652</td><td>0.8144165 </td><td>0.81441652</td><td>0.81441652</td></tr>\n",
       "\t<tr><th scope=row>DecTree_Fold1</th><td>0.0000000 </td><td>0.00000000</td><td>0.00000000</td><td>0.0000000 </td><td>0.00000000</td><td>0.00000000</td></tr>\n",
       "\t<tr><th scope=row>DecTree_Fold2</th><td>0.0000000 </td><td>0.00000000</td><td>0.00000000</td><td>0.0000000 </td><td>0.00000000</td><td>0.00000000</td></tr>\n",
       "\t<tr><th scope=row>DecTree_Fold3</th><td>0.0000000 </td><td>0.00000000</td><td>0.00000000</td><td>0.0000000 </td><td>0.00000000</td><td>0.00000000</td></tr>\n",
       "\t<tr><th scope=row>DecTree_Fold4</th><td>0.0000000 </td><td>0.00000000</td><td>0.00000000</td><td>0.0000000 </td><td>0.00000000</td><td>0.00000000</td></tr>\n",
       "\t<tr><th scope=row>DecTree_Fold5</th><td>0.0000000 </td><td>0.00000000</td><td>0.00000000</td><td>0.0000000 </td><td>0.00000000</td><td>0.00000000</td></tr>\n",
       "\t<tr><th scope=row>ExTree_Fold1</th><td>0.0000000 </td><td>0.09238373</td><td>0.03649727</td><td>0.0000000 </td><td>0.00000000</td><td>0.00000000</td></tr>\n",
       "\t<tr><th scope=row>ExTree_Fold2</th><td>0.0000000 </td><td>0.10949241</td><td>0.00000000</td><td>0.0000000 </td><td>0.06039267</td><td>0.09154944</td></tr>\n",
       "\t<tr><th scope=row>ExTree_Fold3</th><td>0.0000000 </td><td>0.00000000</td><td>0.00000000</td><td>0.0000000 </td><td>0.00000000</td><td>0.11543132</td></tr>\n",
       "\t<tr><th scope=row>ExTree_Fold4</th><td>0.0000000 </td><td>0.00000000</td><td>0.00000000</td><td>0.0000000 </td><td>0.00000000</td><td>0.00000000</td></tr>\n",
       "\t<tr><th scope=row>ExTree_Fold5</th><td>0.0000000 </td><td>0.00000000</td><td>0.00000000</td><td>0.0000000 </td><td>0.05193665</td><td>0.00000000</td></tr>\n",
       "\t<tr><th scope=row>NNnorm_Fold1</th><td>0.2981313 </td><td>0.34546596</td><td>0.31494484</td><td>0.7216470 </td><td>0.38837723</td><td>0.44950729</td></tr>\n",
       "\t<tr><th scope=row>NNnorm_Fold2</th><td>0.4851328 </td><td>0.21850329</td><td>0.48811781</td><td>0.3104973 </td><td>0.36181123</td><td>0.64586165</td></tr>\n",
       "\t<tr><th scope=row>NNnorm_Fold3</th><td>0.4818415 </td><td>0.37868859</td><td>0.52920084</td><td>0.3047952 </td><td>0.21515936</td><td>0.61375718</td></tr>\n",
       "\t<tr><th scope=row>NNnorm_Fold4</th><td>0.3923287 </td><td>0.63619986</td><td>0.52278683</td><td>0.7464212 </td><td>0.60210983</td><td>0.44350707</td></tr>\n",
       "\t<tr><th scope=row>NNnorm_Fold5</th><td>0.5194067 </td><td>0.28931619</td><td>0.32617832</td><td>0.4223720 </td><td>0.56133763</td><td>0.45629308</td></tr>\n",
       "</tbody>\n",
       "</table>\n"
      ],
      "text/latex": [
       "\\begin{tabular}{r|llllll}\n",
       "  & ENSG00000000003.13 & ENSG00000002586.16 & ENSG00000003436.13 & ENSG00000004139.12 & ENSG00000004399.11 & ENSG00000005073.5\\\\\n",
       "\\hline\n",
       "\tLogReg\\_Fold1 & 0.2525920  & 0.63174319 & 0.45309848 & 0.2984767  & 0.66144338 & 0.45080045\\\\\n",
       "\tLogReg\\_Fold2 & 0.5464902  & 0.71914688 & 0.40278551 & 0.4684560  & 0.68131716 & 0.53727770\\\\\n",
       "\tLogReg\\_Fold3 & 0.5461310  & 0.35468475 & 0.52870728 & 0.4531102  & 0.53254638 & 0.57954985\\\\\n",
       "\tLogReg\\_Fold4 & 0.6511066  & 0.69886484 & 0.68309190 & 0.6510005  & 0.80522893 & 0.60072555\\\\\n",
       "\tLogReg\\_Fold5 & 0.6194750  & 0.47184510 & 0.67253394 & 0.8636829  & 0.52272873 & 0.56926622\\\\\n",
       "\tLasso\\_Fold1 & 0.5261222  & 0.52612218 & 0.52612218 & 0.5261222  & 0.52612218 & 0.52612218\\\\\n",
       "\tLasso\\_Fold2 & 0.5806290  & 0.58062897 & 0.58062897 & 0.5806290  & 0.58062897 & 0.58062897\\\\\n",
       "\tLasso\\_Fold3 & 0.5625802  & 0.56258025 & 0.56258025 & 0.5625802  & 0.56258025 & 0.56258025\\\\\n",
       "\tLasso\\_Fold4 & 0.6388633  & 0.63886330 & 0.63886330 & 0.6388633  & 0.63886330 & 0.63886330\\\\\n",
       "\tLasso\\_Fold5 & 0.8144165  & 0.81441652 & 0.81441652 & 0.8144165  & 0.81441652 & 0.81441652\\\\\n",
       "\tDecTree\\_Fold1 & 0.0000000  & 0.00000000 & 0.00000000 & 0.0000000  & 0.00000000 & 0.00000000\\\\\n",
       "\tDecTree\\_Fold2 & 0.0000000  & 0.00000000 & 0.00000000 & 0.0000000  & 0.00000000 & 0.00000000\\\\\n",
       "\tDecTree\\_Fold3 & 0.0000000  & 0.00000000 & 0.00000000 & 0.0000000  & 0.00000000 & 0.00000000\\\\\n",
       "\tDecTree\\_Fold4 & 0.0000000  & 0.00000000 & 0.00000000 & 0.0000000  & 0.00000000 & 0.00000000\\\\\n",
       "\tDecTree\\_Fold5 & 0.0000000  & 0.00000000 & 0.00000000 & 0.0000000  & 0.00000000 & 0.00000000\\\\\n",
       "\tExTree\\_Fold1 & 0.0000000  & 0.09238373 & 0.03649727 & 0.0000000  & 0.00000000 & 0.00000000\\\\\n",
       "\tExTree\\_Fold2 & 0.0000000  & 0.10949241 & 0.00000000 & 0.0000000  & 0.06039267 & 0.09154944\\\\\n",
       "\tExTree\\_Fold3 & 0.0000000  & 0.00000000 & 0.00000000 & 0.0000000  & 0.00000000 & 0.11543132\\\\\n",
       "\tExTree\\_Fold4 & 0.0000000  & 0.00000000 & 0.00000000 & 0.0000000  & 0.00000000 & 0.00000000\\\\\n",
       "\tExTree\\_Fold5 & 0.0000000  & 0.00000000 & 0.00000000 & 0.0000000  & 0.05193665 & 0.00000000\\\\\n",
       "\tNNnorm\\_Fold1 & 0.2981313  & 0.34546596 & 0.31494484 & 0.7216470  & 0.38837723 & 0.44950729\\\\\n",
       "\tNNnorm\\_Fold2 & 0.4851328  & 0.21850329 & 0.48811781 & 0.3104973  & 0.36181123 & 0.64586165\\\\\n",
       "\tNNnorm\\_Fold3 & 0.4818415  & 0.37868859 & 0.52920084 & 0.3047952  & 0.21515936 & 0.61375718\\\\\n",
       "\tNNnorm\\_Fold4 & 0.3923287  & 0.63619986 & 0.52278683 & 0.7464212  & 0.60210983 & 0.44350707\\\\\n",
       "\tNNnorm\\_Fold5 & 0.5194067  & 0.28931619 & 0.32617832 & 0.4223720  & 0.56133763 & 0.45629308\\\\\n",
       "\\end{tabular}\n"
      ],
      "text/markdown": [
       "\n",
       "| <!--/--> | ENSG00000000003.13 | ENSG00000002586.16 | ENSG00000003436.13 | ENSG00000004139.12 | ENSG00000004399.11 | ENSG00000005073.5 |\n",
       "|---|---|---|---|---|---|---|\n",
       "| LogReg_Fold1 | 0.2525920  | 0.63174319 | 0.45309848 | 0.2984767  | 0.66144338 | 0.45080045 |\n",
       "| LogReg_Fold2 | 0.5464902  | 0.71914688 | 0.40278551 | 0.4684560  | 0.68131716 | 0.53727770 |\n",
       "| LogReg_Fold3 | 0.5461310  | 0.35468475 | 0.52870728 | 0.4531102  | 0.53254638 | 0.57954985 |\n",
       "| LogReg_Fold4 | 0.6511066  | 0.69886484 | 0.68309190 | 0.6510005  | 0.80522893 | 0.60072555 |\n",
       "| LogReg_Fold5 | 0.6194750  | 0.47184510 | 0.67253394 | 0.8636829  | 0.52272873 | 0.56926622 |\n",
       "| Lasso_Fold1 | 0.5261222  | 0.52612218 | 0.52612218 | 0.5261222  | 0.52612218 | 0.52612218 |\n",
       "| Lasso_Fold2 | 0.5806290  | 0.58062897 | 0.58062897 | 0.5806290  | 0.58062897 | 0.58062897 |\n",
       "| Lasso_Fold3 | 0.5625802  | 0.56258025 | 0.56258025 | 0.5625802  | 0.56258025 | 0.56258025 |\n",
       "| Lasso_Fold4 | 0.6388633  | 0.63886330 | 0.63886330 | 0.6388633  | 0.63886330 | 0.63886330 |\n",
       "| Lasso_Fold5 | 0.8144165  | 0.81441652 | 0.81441652 | 0.8144165  | 0.81441652 | 0.81441652 |\n",
       "| DecTree_Fold1 | 0.0000000  | 0.00000000 | 0.00000000 | 0.0000000  | 0.00000000 | 0.00000000 |\n",
       "| DecTree_Fold2 | 0.0000000  | 0.00000000 | 0.00000000 | 0.0000000  | 0.00000000 | 0.00000000 |\n",
       "| DecTree_Fold3 | 0.0000000  | 0.00000000 | 0.00000000 | 0.0000000  | 0.00000000 | 0.00000000 |\n",
       "| DecTree_Fold4 | 0.0000000  | 0.00000000 | 0.00000000 | 0.0000000  | 0.00000000 | 0.00000000 |\n",
       "| DecTree_Fold5 | 0.0000000  | 0.00000000 | 0.00000000 | 0.0000000  | 0.00000000 | 0.00000000 |\n",
       "| ExTree_Fold1 | 0.0000000  | 0.09238373 | 0.03649727 | 0.0000000  | 0.00000000 | 0.00000000 |\n",
       "| ExTree_Fold2 | 0.0000000  | 0.10949241 | 0.00000000 | 0.0000000  | 0.06039267 | 0.09154944 |\n",
       "| ExTree_Fold3 | 0.0000000  | 0.00000000 | 0.00000000 | 0.0000000  | 0.00000000 | 0.11543132 |\n",
       "| ExTree_Fold4 | 0.0000000  | 0.00000000 | 0.00000000 | 0.0000000  | 0.00000000 | 0.00000000 |\n",
       "| ExTree_Fold5 | 0.0000000  | 0.00000000 | 0.00000000 | 0.0000000  | 0.05193665 | 0.00000000 |\n",
       "| NNnorm_Fold1 | 0.2981313  | 0.34546596 | 0.31494484 | 0.7216470  | 0.38837723 | 0.44950729 |\n",
       "| NNnorm_Fold2 | 0.4851328  | 0.21850329 | 0.48811781 | 0.3104973  | 0.36181123 | 0.64586165 |\n",
       "| NNnorm_Fold3 | 0.4818415  | 0.37868859 | 0.52920084 | 0.3047952  | 0.21515936 | 0.61375718 |\n",
       "| NNnorm_Fold4 | 0.3923287  | 0.63619986 | 0.52278683 | 0.7464212  | 0.60210983 | 0.44350707 |\n",
       "| NNnorm_Fold5 | 0.5194067  | 0.28931619 | 0.32617832 | 0.4223720  | 0.56133763 | 0.45629308 |\n",
       "\n"
      ],
      "text/plain": [
       "              ENSG00000000003.13 ENSG00000002586.16 ENSG00000003436.13\n",
       "LogReg_Fold1  0.2525920          0.63174319         0.45309848        \n",
       "LogReg_Fold2  0.5464902          0.71914688         0.40278551        \n",
       "LogReg_Fold3  0.5461310          0.35468475         0.52870728        \n",
       "LogReg_Fold4  0.6511066          0.69886484         0.68309190        \n",
       "LogReg_Fold5  0.6194750          0.47184510         0.67253394        \n",
       "Lasso_Fold1   0.5261222          0.52612218         0.52612218        \n",
       "Lasso_Fold2   0.5806290          0.58062897         0.58062897        \n",
       "Lasso_Fold3   0.5625802          0.56258025         0.56258025        \n",
       "Lasso_Fold4   0.6388633          0.63886330         0.63886330        \n",
       "Lasso_Fold5   0.8144165          0.81441652         0.81441652        \n",
       "DecTree_Fold1 0.0000000          0.00000000         0.00000000        \n",
       "DecTree_Fold2 0.0000000          0.00000000         0.00000000        \n",
       "DecTree_Fold3 0.0000000          0.00000000         0.00000000        \n",
       "DecTree_Fold4 0.0000000          0.00000000         0.00000000        \n",
       "DecTree_Fold5 0.0000000          0.00000000         0.00000000        \n",
       "ExTree_Fold1  0.0000000          0.09238373         0.03649727        \n",
       "ExTree_Fold2  0.0000000          0.10949241         0.00000000        \n",
       "ExTree_Fold3  0.0000000          0.00000000         0.00000000        \n",
       "ExTree_Fold4  0.0000000          0.00000000         0.00000000        \n",
       "ExTree_Fold5  0.0000000          0.00000000         0.00000000        \n",
       "NNnorm_Fold1  0.2981313          0.34546596         0.31494484        \n",
       "NNnorm_Fold2  0.4851328          0.21850329         0.48811781        \n",
       "NNnorm_Fold3  0.4818415          0.37868859         0.52920084        \n",
       "NNnorm_Fold4  0.3923287          0.63619986         0.52278683        \n",
       "NNnorm_Fold5  0.5194067          0.28931619         0.32617832        \n",
       "              ENSG00000004139.12 ENSG00000004399.11 ENSG00000005073.5\n",
       "LogReg_Fold1  0.2984767          0.66144338         0.45080045       \n",
       "LogReg_Fold2  0.4684560          0.68131716         0.53727770       \n",
       "LogReg_Fold3  0.4531102          0.53254638         0.57954985       \n",
       "LogReg_Fold4  0.6510005          0.80522893         0.60072555       \n",
       "LogReg_Fold5  0.8636829          0.52272873         0.56926622       \n",
       "Lasso_Fold1   0.5261222          0.52612218         0.52612218       \n",
       "Lasso_Fold2   0.5806290          0.58062897         0.58062897       \n",
       "Lasso_Fold3   0.5625802          0.56258025         0.56258025       \n",
       "Lasso_Fold4   0.6388633          0.63886330         0.63886330       \n",
       "Lasso_Fold5   0.8144165          0.81441652         0.81441652       \n",
       "DecTree_Fold1 0.0000000          0.00000000         0.00000000       \n",
       "DecTree_Fold2 0.0000000          0.00000000         0.00000000       \n",
       "DecTree_Fold3 0.0000000          0.00000000         0.00000000       \n",
       "DecTree_Fold4 0.0000000          0.00000000         0.00000000       \n",
       "DecTree_Fold5 0.0000000          0.00000000         0.00000000       \n",
       "ExTree_Fold1  0.0000000          0.00000000         0.00000000       \n",
       "ExTree_Fold2  0.0000000          0.06039267         0.09154944       \n",
       "ExTree_Fold3  0.0000000          0.00000000         0.11543132       \n",
       "ExTree_Fold4  0.0000000          0.00000000         0.00000000       \n",
       "ExTree_Fold5  0.0000000          0.05193665         0.00000000       \n",
       "NNnorm_Fold1  0.7216470          0.38837723         0.44950729       \n",
       "NNnorm_Fold2  0.3104973          0.36181123         0.64586165       \n",
       "NNnorm_Fold3  0.3047952          0.21515936         0.61375718       \n",
       "NNnorm_Fold4  0.7464212          0.60210983         0.44350707       \n",
       "NNnorm_Fold5  0.4223720          0.56133763         0.45629308       "
      ]
     },
     "metadata": {},
     "output_type": "display_data"
    }
   ],
   "source": [
    "#sanity check\n",
    " dim(coef.super.matrix.1k)\n",
    " coef.super.matrix.1k[, 1:6]"
   ]
  },
  {
   "cell_type": "markdown",
   "metadata": {},
   "source": [
    "### 100 gene super matrix"
   ]
  },
  {
   "cell_type": "code",
   "execution_count": 58,
   "metadata": {},
   "outputs": [
    {
     "ename": "ERROR",
     "evalue": "Error in rbind(coef.super.matrix.100, neural.net.normalized.norm.100[i, : object 'neural.net.normalized.norm.100' not found\n",
     "output_type": "error",
     "traceback": [
      "Error in rbind(coef.super.matrix.100, neural.net.normalized.norm.100[i, : object 'neural.net.normalized.norm.100' not found\nTraceback:\n",
      "1. rbind(coef.super.matrix.100, neural.net.normalized.norm.100[i, \n .     ])"
     ]
    }
   ],
   "source": [
    "coef.super.matrix.100 = matrix(ncol = ncol(log.reg.coef.100), data = 0)\n",
    "colnames(coef.super.matrix.100) = colnames(log.reg.coef.100)\n",
    "\n",
    "#add log reg coef to super matrix\n",
    "for(i in 1:nrow(log.reg.coef.100)) {\n",
    "    coef.super.matrix.100 = rbind(coef.super.matrix.100, log.reg.coef.norm.100[i,]) \n",
    "}\n",
    "\n",
    "for(i in 1:nrow(lasso.coef.100)) {\n",
    "    coef.super.matrix.100 = rbind(coef.super.matrix.100, lasso.coef.norm.100[i,]) \n",
    "}\n",
    "\n",
    "#add decision tree important features to decision tree\n",
    "for(i in 1:nrow(decision.tree.feature.importance.100)) {\n",
    "    coef.super.matrix.100 = rbind(coef.super.matrix.100, decision.tree.importance.norm.100[i,]) \n",
    "}\n",
    "\n",
    "#add extra tree important features to decision tree\n",
    "for(i in 1:nrow(extra.tree.feature.importance.100)) {\n",
    "    coef.super.matrix.100 = rbind(coef.super.matrix.100, extra.tree.importance.norm.100[i,]) \n",
    "}\n",
    "\n",
    "# add important features for neural net\n",
    "for(i in 1:nrow(neural.net.normalized.100)) {\n",
    "    coef.super.matrix.100 = rbind(coef.super.matrix.100, neural.net.normalized.norm.100[i,]) \n",
    "}\n",
    "\n",
    "#remove first row\n",
    "coef.super.matrix.100 = coef.super.matrix.100[-1, ]\n",
    "\n",
    "#rename rows\n",
    "rownames(coef.super.matrix.100) = c(\"LogReg_Fold1\", \"LogReg_Fold2\", \"LogReg_Fold3\", \"LogReg_Fold4\", \"LogReg_Fold5\",\n",
    "                                    \"Lasso_Fold1\", \"Lasso_Fold2\", \"Lasso_Fold3\", \"Lasso_Fold4\", \"Lasso_Fold5\",\n",
    "                                    \"DecTree_Fold1\", \"DecTree_Fold2\", \"DecTree_Fold3\", \"DecTree_Fold4\", \"DecTree_Fold5\",\n",
    "                                    \"ExTree_Fold1\", \"ExTree_Fold2\", \"ExTree_Fold3\", \"ExTree_Fold4\", \"ExTree_Fold5\",\n",
    "                                    \"NNnorm_Fold1\", \"NNnorm_Fold2\", \"NNnorm_Fold3\", \"NNnorm_Fold4\", \"NNnorm_Fold5\")"
   ]
  },
  {
   "cell_type": "code",
   "execution_count": null,
   "metadata": {},
   "outputs": [],
   "source": [
    "#sanity check\n",
    " dim(coef.super.matrix.100)\n",
    " coef.super.matrix.100[, 1:6]"
   ]
  },
  {
   "cell_type": "code",
   "execution_count": null,
   "metadata": {},
   "outputs": [],
   "source": [
    "for (i in 1:nrow(coef.super.matrix.10k)) {\n",
    "    #remove NAs\n",
    "    coef.super.matrix.10k[is.na(coef.super.matrix.10k)] = 0\n",
    "}\n",
    "for (i in 1:nrow(coef.super.matrix.5k)) {\n",
    "    #remove NAs\n",
    "    coef.super.matrix.5k[is.na(coef.super.matrix.5k)] = 0\n",
    "}\n",
    "for (i in 1:nrow(coef.super.matrix.2.5k)) {\n",
    "    #remove NAs\n",
    "    coef.super.matrix.2.5k[is.na(coef.super.matrix.2.5k)] = 0\n",
    "}\n",
    "for (i in 1:nrow(coef.super.matrix.1k)) {\n",
    "    #remove NAs\n",
    "    coef.super.matrix.1k[is.na(coef.super.matrix.1k)] = 0\n",
    "}\n",
    "for (i in 1:nrow(coef.super.matrix.100)) {\n",
    "    #remove NAs\n",
    "    coef.super.matrix.100[is.na(coef.super.matrix.100)] = 0\n",
    "}"
   ]
  },
  {
   "cell_type": "markdown",
   "metadata": {},
   "source": [
    "### Write to file"
   ]
  },
  {
   "cell_type": "code",
   "execution_count": null,
   "metadata": {},
   "outputs": [],
   "source": [
    "#write.table(coefficients.10k, file=\"../Data_Analysis/log_reg/LogRegCoef_10k.txt\", append=FALSE, sep=\"\\t\", dec=\".\", row.names=TRUE, col.names=TRUE)\n",
    "write.table(coef.super.matrix.10k, file=\"super_matrix/coef_10k.txt\", append=FALSE, sep=\"\\t\", dec=\".\", row.names=TRUE, col.names=TRUE)\n",
    "write.table(coef.super.matrix.5k, file=\"super_matrix/coef_5k.txt\", append=FALSE, sep=\"\\t\", dec=\".\", row.names=TRUE, col.names=TRUE)\n",
    "write.table(coef.super.matrix.2.5k, file=\"super_matrix/coef_2.5k.txt\", append=FALSE, sep=\"\\t\", dec=\".\", row.names=TRUE, col.names=TRUE)\n",
    "write.table(coef.super.matrix.1k, file=\"super_matrix/coef_1k.txt\", append=FALSE, sep=\"\\t\", dec=\".\", row.names=TRUE, col.names=TRUE)\n",
    "write.table(coef.super.matrix.100, file=\"super_matrix/coef_100.txt\", append=FALSE, sep=\"\\t\", dec=\".\", row.names=TRUE, col.names=TRUE)"
   ]
  },
  {
   "cell_type": "code",
   "execution_count": null,
   "metadata": {},
   "outputs": [],
   "source": [
    "write.table(accuracy.super.matrix.10k, file=\"super_matrix/acc_10k.txt\", append=FALSE, sep=\"\\t\", dec=\".\", row.names=TRUE, col.names=TRUE)\n",
    "write.table(accuracy.super.matrix.5k, file=\"super_matrix/acc_5k.txt\", append=FALSE, sep=\"\\t\", dec=\".\", row.names=TRUE, col.names=TRUE)\n",
    "write.table(accuracy.super.matrix.2.5k, file=\"super_matrix/acc_2.5k.txt\", append=FALSE, sep=\"\\t\", dec=\".\", row.names=TRUE, col.names=TRUE)\n",
    "write.table(accuracy.super.matrix.1k, file=\"super_matrix/acc_1k.txt\", append=FALSE, sep=\"\\t\", dec=\".\", row.names=TRUE, col.names=TRUE)\n",
    "write.table(accuracy.super.matrix.100, file=\"super_matrix/acc_100.txt\", append=FALSE, sep=\"\\t\", dec=\".\", row.names=TRUE, col.names=TRUE)"
   ]
  },
  {
   "cell_type": "code",
   "execution_count": null,
   "metadata": {},
   "outputs": [],
   "source": []
  }
 ],
 "metadata": {
  "kernelspec": {
   "display_name": "R",
   "language": "R",
   "name": "ir"
  },
  "language_info": {
   "codemirror_mode": "r",
   "file_extension": ".r",
   "mimetype": "text/x-r-source",
   "name": "R",
   "pygments_lexer": "r",
   "version": "3.5.1"
  }
 },
 "nbformat": 4,
 "nbformat_minor": 2
}
