{
 "cells": [
  {
   "cell_type": "markdown",
   "metadata": {},
   "source": [
    "# Author\n",
    "## Alex Merk"
   ]
  },
  {
   "cell_type": "code",
   "execution_count": 3,
   "metadata": {},
   "outputs": [
    {
     "data": {
      "text/html": [
       "'/home/alex/School/TCSS588_IndividualSubmission'"
      ],
      "text/latex": [
       "'/home/alex/School/TCSS588\\_IndividualSubmission'"
      ],
      "text/markdown": [
       "'/home/alex/School/TCSS588_IndividualSubmission'"
      ],
      "text/plain": [
       "[1] \"/home/alex/School/TCSS588_IndividualSubmission\""
      ]
     },
     "metadata": {},
     "output_type": "display_data"
    }
   ],
   "source": [
    "getwd()"
   ]
  },
  {
   "cell_type": "markdown",
   "metadata": {},
   "source": [
    "### read in aml data and labels"
   ]
  },
  {
   "cell_type": "code",
   "execution_count": 5,
   "metadata": {},
   "outputs": [
    {
     "data": {
      "text/html": [
       "<ol class=list-inline>\n",
       "\t<li>177</li>\n",
       "\t<li>10026</li>\n",
       "</ol>\n"
      ],
      "text/latex": [
       "\\begin{enumerate*}\n",
       "\\item 177\n",
       "\\item 10026\n",
       "\\end{enumerate*}\n"
      ],
      "text/markdown": [
       "1. 177\n",
       "2. 10026\n",
       "\n",
       "\n"
      ],
      "text/plain": [
       "[1]   177 10026"
      ]
     },
     "metadata": {},
     "output_type": "display_data"
    },
    {
     "data": {
      "text/html": [
       "<ol class=list-inline>\n",
       "\t<li>177</li>\n",
       "\t<li>5008</li>\n",
       "</ol>\n"
      ],
      "text/latex": [
       "\\begin{enumerate*}\n",
       "\\item 177\n",
       "\\item 5008\n",
       "\\end{enumerate*}\n"
      ],
      "text/markdown": [
       "1. 177\n",
       "2. 5008\n",
       "\n",
       "\n"
      ],
      "text/plain": [
       "[1]  177 5008"
      ]
     },
     "metadata": {},
     "output_type": "display_data"
    },
    {
     "data": {
      "text/html": [
       "<ol class=list-inline>\n",
       "\t<li>177</li>\n",
       "\t<li>2538</li>\n",
       "</ol>\n"
      ],
      "text/latex": [
       "\\begin{enumerate*}\n",
       "\\item 177\n",
       "\\item 2538\n",
       "\\end{enumerate*}\n"
      ],
      "text/markdown": [
       "1. 177\n",
       "2. 2538\n",
       "\n",
       "\n"
      ],
      "text/plain": [
       "[1]  177 2538"
      ]
     },
     "metadata": {},
     "output_type": "display_data"
    },
    {
     "data": {
      "text/html": [
       "<ol class=list-inline>\n",
       "\t<li>177</li>\n",
       "\t<li>1017</li>\n",
       "</ol>\n"
      ],
      "text/latex": [
       "\\begin{enumerate*}\n",
       "\\item 177\n",
       "\\item 1017\n",
       "\\end{enumerate*}\n"
      ],
      "text/markdown": [
       "1. 177\n",
       "2. 1017\n",
       "\n",
       "\n"
      ],
      "text/plain": [
       "[1]  177 1017"
      ]
     },
     "metadata": {},
     "output_type": "display_data"
    },
    {
     "data": {
      "text/html": [
       "<ol class=list-inline>\n",
       "\t<li>177</li>\n",
       "\t<li>117</li>\n",
       "</ol>\n"
      ],
      "text/latex": [
       "\\begin{enumerate*}\n",
       "\\item 177\n",
       "\\item 117\n",
       "\\end{enumerate*}\n"
      ],
      "text/markdown": [
       "1. 177\n",
       "2. 117\n",
       "\n",
       "\n"
      ],
      "text/plain": [
       "[1] 177 117"
      ]
     },
     "metadata": {},
     "output_type": "display_data"
    },
    {
     "data": {
      "text/html": [
       "177"
      ],
      "text/latex": [
       "177"
      ],
      "text/markdown": [
       "177"
      ],
      "text/plain": [
       "[1] 177"
      ]
     },
     "metadata": {},
     "output_type": "display_data"
    },
    {
     "data": {
      "text/plain": [
       "adr.mat\n",
       "  0   1 \n",
       " 72 105 "
      ]
     },
     "metadata": {},
     "output_type": "display_data"
    }
   ],
   "source": [
    "#read in 10k, 5k, 2.5k, an 1k genes\n",
    "my.data.10k = read.csv(file=\"aml.data.RNA.reduced.csv\", header=TRUE, sep=\",\", dec=\".\", fill=TRUE)\n",
    "my.data.5k = read.csv(file=\"aml.data.RNA.5k.csv\", header=TRUE, sep=\",\", dec=\".\", fill=TRUE)\n",
    "my.data.2.5k = read.csv(file=\"aml.data.RNA.2.5k.csv\", header=TRUE, sep=\",\", dec=\".\", fill=TRUE)\n",
    "my.data.1k = read.csv(file=\"aml.data.RNA.1k.csv\", header=TRUE, sep=\",\", dec=\".\", fill=TRUE)\n",
    "my.data.100 = read.csv(file=\"aml.data.RNA.100.csv\", header=TRUE, sep=\",\", dec=\".\", fill=TRUE)\n",
    "adr.mat = read.csv(file=\"aml.data.labels.csv\", header=TRUE, sep=\",\", dec=\".\", fill=TRUE)\n",
    "\n",
    "\n",
    "dimnames(my.data.10k)[[1]] <- my.data.10k[, 1]\n",
    "my.data.10k <- my.data.10k[, -1]\n",
    "dimnames(my.data.5k)[[1]] <- my.data.5k[, 1]\n",
    "my.data.5k <- my.data.5k[, -1]\n",
    "dimnames(my.data.2.5k)[[1]] <- my.data.2.5k[, 1]\n",
    "my.data.2.5k <- my.data.2.5k[, -1]\n",
    "dimnames(my.data.1k)[[1]] <- my.data.1k[, 1]\n",
    "my.data.1k <- my.data.1k[, -1]\n",
    "dimnames(my.data.100)[[1]] <- my.data.100[, 1]\n",
    "my.data.100 <- my.data.100[, -1]\n",
    "\n",
    "dimnames(adr.mat)[[1]] <- adr.mat[, 1]\n",
    "adr.mat <- adr.mat[, -1]\n",
    "\n",
    "#sanity check\n",
    "dim(my.data.10k)\n",
    "dim(my.data.5k)\n",
    "dim(my.data.2.5k)\n",
    "dim(my.data.1k)\n",
    "dim(my.data.100)\n",
    "length(adr.mat)\n",
    "\n",
    "nums = table(adr.mat)\n",
    "nums"
   ]
  },
  {
   "cell_type": "markdown",
   "metadata": {},
   "source": [
    "### data setup for cross validation"
   ]
  },
  {
   "cell_type": "code",
   "execution_count": 6,
   "metadata": {},
   "outputs": [],
   "source": [
    "#randomly shuffle data\n",
    "#my.data = my.data[sample(nrow(my.data)),]\n",
    "\n",
    "#cut into 5 equally sized sections\n",
    "folds.10k = cut(seq(1, nrow(my.data.10k)), breaks=5, labels=FALSE)\n",
    "folds.5k = cut(seq(1, nrow(my.data.5k)), breaks=5, labels=FALSE)\n",
    "folds.2.5k = cut(seq(1, nrow(my.data.2.5k)), breaks=5, labels=FALSE)\n",
    "folds.1k = cut(seq(1, nrow(my.data.1k)), breaks=5, labels=FALSE)\n",
    "folds.100 = cut(seq(1, nrow(my.data.100)), breaks=5, labels=FALSE)\n",
    "\n",
    "\n",
    "#results matrixes - coefficients - log_reg\n",
    "coefficients.10k = matrix(nrow = 5, ncol = ncol(my.data.10k), data = 0)\n",
    "rownames(coefficients.10k) = c(\"Fold 1_10k\", \"Fold 2_10k\", \"Fold 3_10k\", \"Fold 4_10k\", \"Fold 5_10k\")\n",
    "colnames(coefficients.10k) = colnames(my.data.10k)\n",
    "coefficients.5k = matrix(nrow = 5, ncol = ncol(my.data.5k), data = 0)\n",
    "rownames(coefficients.5k) = c(\"Fold 1_5k\", \"Fold 2_5k\", \"Fold 3_5k\", \"Fold 4_5k\", \"Fold 5_5k\")\n",
    "colnames(coefficients.5k) = colnames(my.data.5k)\n",
    "coefficients.2.5k = matrix(nrow = 5, ncol = ncol(my.data.2.5k), data = 0)\n",
    "rownames(coefficients.2.5k) = c(\"Fold 1_2.5k\", \"Fold 2_2.5k\", \"Fold 3_2.5k\", \"Fold 4_2.5k\", \"Fold 5_2.5k\")\n",
    "colnames(coefficients.2.5k) = colnames(my.data.2.5k)\n",
    "coefficients.1k = matrix(nrow = 5, ncol = ncol(my.data.1k), data = 0)\n",
    "rownames(coefficients.1k) = c(\"Fold 1_1k\", \"Fold 2_1k\", \"Fold 3_1k\", \"Fold 4_1k\", \"Fold 5_1k\")\n",
    "colnames(coefficients.1k) = colnames(my.data.1k)\n",
    "coefficients.100 = matrix(nrow = 5, ncol = ncol(my.data.100), data = 0)\n",
    "rownames(coefficients.100) = c(\"Fold 1_100\", \"Fold 2_100\", \"Fold 3_100\", \"Fold 4_100\", \"Fold 5_100\")\n",
    "colnames(coefficients.100) = colnames(my.data.100)\n",
    "\n",
    "#results matrixes - coefficients - lasso\n",
    "lasso.coefficients.10k = matrix(nrow = 5, ncol = ncol(my.data.10k), data = 0)\n",
    "rownames(lasso.coefficients.10k) = c(\"Fold 1_10k\", \"Fold 2_10k\", \"Fold 3_10k\", \"Fold 4_10k\", \"Fold 5_10k\")\n",
    "colnames(lasso.coefficients.10k) = colnames(my.data.10k)\n",
    "lasso.coefficients.5k = matrix(nrow = 5, ncol = ncol(my.data.5k), data = 0)\n",
    "rownames(lasso.coefficients.5k) = c(\"Fold 1_5k\", \"Fold 2_5k\", \"Fold 3_5k\", \"Fold 4_5k\", \"Fold 5_5k\")\n",
    "colnames(lasso.coefficients.5k) = colnames(my.data.5k)\n",
    "lasso.coefficients.2.5k = matrix(nrow = 5, ncol = ncol(my.data.2.5k), data = 0)\n",
    "rownames(lasso.coefficients.2.5k) = c(\"Fold 1_2.5k\", \"Fold 2_2.5k\", \"Fold 3_2.5k\", \"Fold 4_2.5k\", \"Fold 5_2.5k\")\n",
    "colnames(lasso.coefficients.2.5k) = colnames(my.data.2.5k)\n",
    "lasso.coefficients.1k = matrix(nrow = 5, ncol = ncol(my.data.1k), data = 0)\n",
    "rownames(lasso.coefficients.1k) = c(\"Fold 1_1k\", \"Fold 2_1k\", \"Fold 3_1k\", \"Fold 4_1k\", \"Fold 5_1k\")\n",
    "colnames(lasso.coefficients.1k) = colnames(my.data.1k)\n",
    "lasso.coefficients.100 = matrix(nrow = 5, ncol = ncol(my.data.100), data = 0)\n",
    "rownames(lasso.coefficients.100) = c(\"Fold 1_100\", \"Fold 2_100\", \"Fold 3_100\", \"Fold 4_100\", \"Fold 5_100\")\n",
    "colnames(lasso.coefficients.100) = colnames(my.data.100)\n",
    "\n",
    "#results matrices - accuracy and intercept - log_reg\n",
    "accuracy.intercept.10k = matrix(nrow = 5, ncol = 2, data = 0)\n",
    "rownames(accuracy.intercept.10k) = c(\"Fold 1_10k\", \"Fold 2_10k\", \"Fold 3_10k\", \"Fold 4_0k\", \"Fold 5_10k\")\n",
    "colnames(accuracy.intercept.10k) = c(\"Accuracy\", \"Intercept\")\n",
    "accuracy.intercept.5k = matrix(nrow = 5, ncol = 2, data = 0)\n",
    "rownames(accuracy.intercept.5k) = c(\"Fold 1_5k\", \"Fold 2_5k\", \"Fold 3_5k\", \"Fold 4_5k\", \"Fold 5_5k\")\n",
    "colnames(accuracy.intercept.5k) = c(\"Accuracy\", \"Intercept\")\n",
    "accuracy.intercept.2.5k = matrix(nrow = 5, ncol = 2, data = 0)\n",
    "rownames(accuracy.intercept.2.5k) = c(\"Fold 1_2.5k\", \"Fold 2_2.5k\", \"Fold 3_2.5k\", \"Fold 4_2.5k\", \"Fold 5_2.5k\")\n",
    "colnames(accuracy.intercept.2.5k) = c(\"Accuracy\", \"Intercept\")\n",
    "accuracy.intercept.1k = matrix(nrow = 5, ncol = 2, data = 0)\n",
    "rownames(accuracy.intercept.1k) = c(\"Fold 1_1k\", \"Fold 2_1k\", \"Fold 3_1k\", \"Fold 4_1k\", \"Fold 5_1k\")\n",
    "colnames(accuracy.intercept.1k) = c(\"Accuracy\", \"Intercept\")\n",
    "accuracy.intercept.100 = matrix(nrow = 5, ncol = 2, data = 0)\n",
    "rownames(accuracy.intercept.100) = c(\"Fold 1_100\", \"Fold 2_100\", \"Fold 3_100\", \"Fold 4_100\", \"Fold 5_100\")\n",
    "colnames(accuracy.intercept.100) = c(\"Accuracy\", \"Intercept\")\n",
    "\n",
    "#results matrices - accuracy and intercept - lasso\n",
    "lasso.accuracy.intercept.10k = matrix(nrow = 5, ncol = 2, data = 0)\n",
    "rownames(lasso.accuracy.intercept.10k) = c(\"Fold 1_10k\", \"Fold 2_10k\", \"Fold 3_10k\", \"Fold 4_0k\", \"Fold 5_10k\")\n",
    "colnames(lasso.accuracy.intercept.10k) = c(\"Accuracy\", \"Intercept\")\n",
    "lasso.accuracy.intercept.5k = matrix(nrow = 5, ncol = 2, data = 0)\n",
    "rownames(lasso.accuracy.intercept.5k) = c(\"Fold 1_5k\", \"Fold 2_5k\", \"Fold 3_5k\", \"Fold 4_5k\", \"Fold 5_5k\")\n",
    "colnames(lasso.accuracy.intercept.5k) = c(\"Accuracy\", \"Intercept\")\n",
    "lasso.accuracy.intercept.2.5k = matrix(nrow = 5, ncol = 2, data = 0)\n",
    "rownames(lasso.accuracy.intercept.2.5k) = c(\"Fold 1_2.5k\", \"Fold 2_2.5k\", \"Fold 3_2.5k\", \"Fold 4_2.5k\", \"Fold 5_2.5k\")\n",
    "colnames(lasso.accuracy.intercept.2.5k) = c(\"Accuracy\", \"Intercept\")\n",
    "lasso.accuracy.intercept.1k = matrix(nrow = 5, ncol = 2, data = 0)\n",
    "rownames(lasso.accuracy.intercept.1k) = c(\"Fold 1_1k\", \"Fold 2_1k\", \"Fold 3_1k\", \"Fold 4_1k\", \"Fold 5_1k\")\n",
    "colnames(lasso.accuracy.intercept.1k) = c(\"Accuracy\", \"Intercept\")\n",
    "lasso.accuracy.intercept.100 = matrix(nrow = 5, ncol = 2, data = 0)\n",
    "rownames(lasso.accuracy.intercept.100) = c(\"Fold 1_100\", \"Fold 2_100\", \"Fold 3_100\", \"Fold 4_100\", \"Fold 5_100\")\n",
    "colnames(lasso.accuracy.intercept.100) = c(\"Accuracy\", \"Intercept\")"
   ]
  },
  {
   "cell_type": "markdown",
   "metadata": {},
   "source": [
    "### 5 fold cross validation feature selection, take 1"
   ]
  },
  {
   "cell_type": "code",
   "execution_count": 7,
   "metadata": {},
   "outputs": [
    {
     "name": "stderr",
     "output_type": "stream",
     "text": [
      "Warning message:\n",
      "“glm.fit: fitted probabilities numerically 0 or 1 occurred”Warning message in predict.lm(object, newdata, se.fit, scale = 1, type = ifelse(type == :\n",
      "“prediction from a rank-deficient fit may be misleading”Warning message in predict.lm(object, newdata, se.fit, scale = 1, type = ifelse(type == :\n",
      "“prediction from a rank-deficient fit may be misleading”Warning message in predict.lm(object, newdata, se.fit, scale = 1, type = ifelse(type == :\n",
      "“prediction from a rank-deficient fit may be misleading”Warning message in predict.lm(object, newdata, se.fit, scale = 1, type = ifelse(type == :\n",
      "“prediction from a rank-deficient fit may be misleading”Warning message:\n",
      "“glm.fit: fitted probabilities numerically 0 or 1 occurred”Warning message in predict.lm(object, newdata, se.fit, scale = 1, type = ifelse(type == :\n",
      "“prediction from a rank-deficient fit may be misleading”Warning message in predict.lm(object, newdata, se.fit, scale = 1, type = ifelse(type == :\n",
      "“prediction from a rank-deficient fit may be misleading”Warning message in predict.lm(object, newdata, se.fit, scale = 1, type = ifelse(type == :\n",
      "“prediction from a rank-deficient fit may be misleading”Warning message in predict.lm(object, newdata, se.fit, scale = 1, type = ifelse(type == :\n",
      "“prediction from a rank-deficient fit may be misleading”Warning message:\n",
      "“glm.fit: fitted probabilities numerically 0 or 1 occurred”Warning message in predict.lm(object, newdata, se.fit, scale = 1, type = ifelse(type == :\n",
      "“prediction from a rank-deficient fit may be misleading”Warning message in predict.lm(object, newdata, se.fit, scale = 1, type = ifelse(type == :\n",
      "“prediction from a rank-deficient fit may be misleading”Warning message in predict.lm(object, newdata, se.fit, scale = 1, type = ifelse(type == :\n",
      "“prediction from a rank-deficient fit may be misleading”Warning message in predict.lm(object, newdata, se.fit, scale = 1, type = ifelse(type == :\n",
      "“prediction from a rank-deficient fit may be misleading”Warning message:\n",
      "“glm.fit: fitted probabilities numerically 0 or 1 occurred”Warning message in predict.lm(object, newdata, se.fit, scale = 1, type = ifelse(type == :\n",
      "“prediction from a rank-deficient fit may be misleading”Warning message in predict.lm(object, newdata, se.fit, scale = 1, type = ifelse(type == :\n",
      "“prediction from a rank-deficient fit may be misleading”Warning message in predict.lm(object, newdata, se.fit, scale = 1, type = ifelse(type == :\n",
      "“prediction from a rank-deficient fit may be misleading”Warning message in predict.lm(object, newdata, se.fit, scale = 1, type = ifelse(type == :\n",
      "“prediction from a rank-deficient fit may be misleading”Warning message:\n",
      "“glm.fit: fitted probabilities numerically 0 or 1 occurred”Warning message in predict.lm(object, newdata, se.fit, scale = 1, type = ifelse(type == :\n",
      "“prediction from a rank-deficient fit may be misleading”Warning message in predict.lm(object, newdata, se.fit, scale = 1, type = ifelse(type == :\n",
      "“prediction from a rank-deficient fit may be misleading”Warning message in predict.lm(object, newdata, se.fit, scale = 1, type = ifelse(type == :\n",
      "“prediction from a rank-deficient fit may be misleading”Warning message in predict.lm(object, newdata, se.fit, scale = 1, type = ifelse(type == :\n",
      "“prediction from a rank-deficient fit may be misleading”"
     ]
    }
   ],
   "source": [
    "for (f in 1:5) {\n",
    "    #get the indices\n",
    "    indices.10k = which(folds.10k==f, arr.ind=TRUE)\n",
    "    indices.5k = which(folds.5k==f, arr.ind=TRUE)\n",
    "    indices.2.5k = which(folds.2.5k==f, arr.ind=TRUE)\n",
    "    indices.1k = which(folds.1k==f, arr.ind=TRUE)\n",
    "    indices.100 = which(folds.100==f, arr.ind=TRUE)\n",
    "    \n",
    "    #test data sets\n",
    "    test.data.10k = my.data.10k[indices.10k, ]\n",
    "    test.labels.10k = adr.mat[indices.10k]\n",
    "    test.data.5k = my.data.10k[indices.5k, ]\n",
    "    test.labels.5k = adr.mat[indices.5k]\n",
    "    test.data.2.5k = my.data.10k[indices.2.5k, ]\n",
    "    test.labels.2.5k = adr.mat[indices.2.5k]\n",
    "    test.data.1k = my.data.1k[indices.1k, ]\n",
    "    test.labels.1k = adr.mat[indices.1k]\n",
    "    test.data.100 = my.data.100[indices.100, ]\n",
    "    test.labels.100 = adr.mat[indices.100]\n",
    "    \n",
    "    #training data sets\n",
    "    train.data.10k = my.data.10k[-indices.10k, ]\n",
    "    train.labels.10k = adr.mat[-indices.10k]\n",
    "    train.data.5k = my.data.5k[-indices.5k, ]\n",
    "    train.labels.5k = adr.mat[-indices.5k]\n",
    "    train.data.2.5k = my.data.2.5k[-indices.2.5k, ]\n",
    "    train.labels.2.5k = adr.mat[-indices.2.5k]\n",
    "    train.data.1k = my.data.1k[-indices.1k, ]\n",
    "    train.labels.1k = adr.mat[-indices.1k]\n",
    "    train.data.100 = my.data.100[-indices.100, ]\n",
    "    train.labels.100 = adr.mat[-indices.100]\n",
    "    \n",
    "    ###CANNOT DEBUG, HELP\n",
    "    model.10k = glm(train.labels.10k ~ ., data=train.data.10k, family=\"binomial\", maxit=10000)\n",
    "    model.5k = glm(train.labels.5k ~ ., data=train.data.5k, family=\"binomial\", maxit=10000)\n",
    "    model.2.5k = glm(train.labels.2.5k ~ ., data=train.data.2.5k, family=\"binomial\", maxit=10000)\n",
    "    model.1k = glm(train.labels.1k ~ ., data=train.data.1k, family=\"binomial\", maxit=10000)\n",
    "    model.100 = glm(train.labels.100 ~ ., data=train.data.100, family=\"binomial\", maxit=10000)\n",
    "    \n",
    "    #add coeffecients to coefficient matrix\n",
    "    coefficients.10k[f,] = coef(model.10k)[-1]\n",
    "    coefficients.5k[f,] = coef(model.5k)[-1]\n",
    "    coefficients.2.5k[f,] = coef(model.2.5k)[-1]\n",
    "    coefficients.1k[f,] = coef(model.1k)[-1]\n",
    "    coefficients.100[f,] = coef(model.100)[-1]\n",
    "    \n",
    "    #add intercept to accuracy.intercept matrix\n",
    "    accuracy.intercept.10k[f,2] = coef(model.10k)[1]\n",
    "    accuracy.intercept.5k[f,2] = coef(model.5k)[1]\n",
    "    accuracy.intercept.2.5k[f,2] = coef(model.2.5k)[1]\n",
    "    accuracy.intercept.1k[f,2] = coef(model.1k)[1]\n",
    "    accuracy.intercept.100[f,2] = coef(model.100)[1]\n",
    "    \n",
    "    #calculate accuracy, add to accuracy.intercept matrix\n",
    "    pred.10k = predict(model.10k, test.data.10k)\n",
    "    pred.5k = predict(model.5k, test.data.5k)\n",
    "    pred.2.5k = predict(model.2.5k, test.data.2.5k)\n",
    "    pred.1k = predict(model.1k, test.data.1k)\n",
    "    pred.100 = predict(model.100, test.data.100)\n",
    "    \n",
    "    result.10k = table(test.labels.10k, round(pred.10k))\n",
    "    result.5k = table(test.labels.5k, round(pred.5k))\n",
    "    result.2.5k = table(test.labels.2.5k, round(pred.2.5k))\n",
    "    result.1k = table(test.labels.1k, round(pred.1k))\n",
    "    result.100 = table(test.labels.100, round(pred.100))\n",
    "    \n",
    "    if(length(result.10k) == 1) {\n",
    "        accuracy.intercept.10k[f, 1] = 1\n",
    "    } else if (length(result.10k) == 2) {\n",
    "        accuracy.intercept.10k[f, 1] = 1 - (result.10k[2]/(length(test.labels.10k)))\n",
    "    } else {\n",
    "        accuracy.intercept.10k[f, 1] = 1 - ((result.10k[2] + result.10k[3])/(length(test.labels.10k)))\n",
    "    }\n",
    "    \n",
    "    if(length(result.5k) == 1) {\n",
    "        accuracy.intercept.5k[f, 1] = 1\n",
    "    } else if (length(result.5k) == 2) {\n",
    "        accuracy.intercept.5k[f, 1] = 1 - (result.5k[2]/(length(test.labels.5k)))\n",
    "    } else {\n",
    "        accuracy.intercept.5k[f, 1] = 1 - ((result.5k[2] + result.5k[3])/(length(test.labels.5k)))\n",
    "    }\n",
    "    \n",
    "    if(length(result.2.5k) == 1) {\n",
    "        accuracy.intercept.2.5k[f, 1] = 1\n",
    "    } else if (length(result.2.5k) == 2) {\n",
    "        accuracy.intercept.2.5k[f, 1] = 1 - (result.2.5k[2]/(length(test.labels.2.5k)))\n",
    "    } else {\n",
    "        accuracy.intercept.2.5k[f, 1] = 1 - ((result.2.5k[2] + result.2.5k[3])/(length(test.labels.2.5k)))\n",
    "    }\n",
    "    \n",
    "    if(length(result.1k) == 1) {\n",
    "        accuracy.intercept.1k[f, 1] = 1\n",
    "    } else if (length(result.1k) == 2) {\n",
    "        accuracy.intercept.1k[f, 1] = 1 - (result.1k[2]/(length(test.labels.1k)))\n",
    "    } else {\n",
    "        accuracy.intercept.1k[f, 1] = 1 - ((result.1k[2] + result.1k[3])/(length(test.labels.1k)))\n",
    "    }\n",
    "    \n",
    "    if(length(result.100) == 1) {\n",
    "        accuracy.intercept.100[f, 1] = 1\n",
    "    } else if (length(result.100) == 2) {\n",
    "        accuracy.intercept.100[f, 1] = 1 - (result.100[2]/(length(test.labels.100)))\n",
    "    } else {\n",
    "        accuracy.intercept.100[f, 1] = 1 - ((result.100[2] + result.100[3])/(length(test.labels.100)))\n",
    "    }\n",
    "}\n",
    "# summary(model)"
   ]
  },
  {
   "cell_type": "markdown",
   "metadata": {},
   "source": [
    "### Lasso testing"
   ]
  },
  {
   "cell_type": "code",
   "execution_count": 8,
   "metadata": {},
   "outputs": [
    {
     "name": "stderr",
     "output_type": "stream",
     "text": [
      "Loading required package: Matrix\n",
      "Loading required package: foreach\n",
      "Loaded glmnet 2.0-16\n",
      "\n"
     ]
    }
   ],
   "source": [
    "library(glmnet)\n",
    "set.seed(123)\n",
    "\n",
    "for(f in 1:5) {\n",
    "    #set indices\n",
    "    lasso.indices.10k = which(folds.10k==f, arr.ind=TRUE)\n",
    "    lasso.indices.5k = which(folds.5k==f, arr.ind=TRUE)\n",
    "    lasso.indices.2.5k = which(folds.2.5k==f, arr.ind=TRUE)\n",
    "    lasso.indices.1k = which(folds.1k==f, arr.ind=TRUE)\n",
    "    lasso.indices.100 = which(folds.100==f, arr.ind=TRUE)\n",
    "    \n",
    "    #set test data\n",
    "    lasso.test.data.10k = my.data.10k[lasso.indices.10k, ]\n",
    "    lasso.test.labels.10k = adr.mat[lasso.indices.10k]\n",
    "    lasso.test.data.5k = my.data.5k[lasso.indices.5k, ]\n",
    "    lasso.test.labels.5k = adr.mat[lasso.indices.5k]\n",
    "    lasso.test.data.2.5k = my.data.2.5k[lasso.indices.2.5k, ]\n",
    "    lasso.test.labels.2.5k = adr.mat[lasso.indices.2.5k]\n",
    "    lasso.test.data.1k = my.data.1k[lasso.indices.1k, ]\n",
    "    lasso.test.labels.1k = adr.mat[lasso.indices.1k]\n",
    "    lasso.test.data.100 = my.data.100[lasso.indices.100, ]\n",
    "    lasso.test.labels.100 = adr.mat[lasso.indices.100]\n",
    "    \n",
    "    #set train data\n",
    "    lasso.train.data.10k = my.data.10k[-lasso.indices.10k, ]\n",
    "    lasso.train.labels.10k = adr.mat[-lasso.indices.10k]\n",
    "    lasso.train.data.5k = my.data.5k[-lasso.indices.5k, ]\n",
    "    lasso.train.labels.5k = adr.mat[-lasso.indices.5k]\n",
    "    lasso.train.data.2.5k = my.data.2.5k[-lasso.indices.2.5k, ]\n",
    "    lasso.train.labels.2.5k = adr.mat[-lasso.indices.2.5k]\n",
    "    lasso.train.data.1k = my.data.1k[-lasso.indices.1k, ]\n",
    "    lasso.train.labels.1k = adr.mat[-lasso.indices.1k]\n",
    "    lasso.train.data.100 = my.data.100[-lasso.indices.100, ]\n",
    "    lasso.train.labels.100 = adr.mat[-lasso.indices.100]\n",
    "    \n",
    "    #find the best lambda\n",
    "    cv.lasso.10k = cv.glmnet(as.matrix(lasso.train.data.10k), lasso.train.labels.10k, alpha=1, family=\"binomial\")\n",
    "    cv.lasso.5k = cv.glmnet(as.matrix(lasso.train.data.5k), lasso.train.labels.5k, alpha=1, family=\"binomial\")\n",
    "    cv.lasso.2.5k = cv.glmnet(as.matrix(lasso.train.data.2.5k), lasso.train.labels.2.5k, alpha=1, family=\"binomial\")\n",
    "    cv.lasso.1k = cv.glmnet(as.matrix(lasso.train.data.1k), lasso.train.labels.1k, alpha=1, family=\"binomial\")\n",
    "    cv.lasso.100 = cv.glmnet(as.matrix(lasso.train.data.100), lasso.train.labels.100, alpha=1, family=\"binomial\")\n",
    "    \n",
    "    #compute the model\n",
    "    lasso.model.10k = glmnet(as.matrix(lasso.train.data.10k), lasso.train.labels.10k, alpha=1, family=\"binomial\",\n",
    "              lambda=cv.lasso.10k$lambda.min)\n",
    "    lasso.model.5k = glmnet(as.matrix(lasso.train.data.5k), lasso.train.labels.5k, alpha=1, family=\"binomial\",\n",
    "              lambda=cv.lasso.5k$lambda.min)\n",
    "    lasso.model.2.5k = glmnet(as.matrix(lasso.train.data.2.5k), lasso.train.labels.2.5k, alpha=1, family=\"binomial\",\n",
    "              lambda=cv.lasso.2.5k$lambda.min)\n",
    "    lasso.model.1k = glmnet(as.matrix(lasso.train.data.1k), lasso.train.labels.1k, alpha=1, family=\"binomial\",\n",
    "              lambda=cv.lasso.1k$lambda.min)\n",
    "    lasso.model.100 = glmnet(as.matrix(lasso.train.data.100), lasso.train.labels.100, alpha=1, family=\"binomial\",\n",
    "              lambda=cv.lasso.100$lambda.min)\n",
    "    \n",
    "#     temp = coef(lasso.model.10k)[-1,]\n",
    "#     print(temp)\n",
    "    #add coef to matrix\n",
    "    lasso.coefficients.10k[f,] = coef(lasso.model.10k)[-1]\n",
    "    lasso.coefficients.5k[f,] = coef(lasso.model.5k)[-1]\n",
    "    lasso.coefficients.2.5k[f,] = coef(lasso.model.2.5k)[-1]\n",
    "    lasso.coefficients.1k[f,] = coef(lasso.model.1k)[-1]\n",
    "    lasso.coefficients.100[f,] = coef(lasso.model.100)[-1]\n",
    "    \n",
    "    #add intercept to matrix\n",
    "    lasso.accuracy.intercept.10k[f,2] = coef(lasso.model.10k)[1]\n",
    "    lasso.accuracy.intercept.5k[f,2] = coef(lasso.model.5k)[1]\n",
    "    lasso.accuracy.intercept.2.5k[f,2] = coef(lasso.model.2.5k)[1]\n",
    "    lasso.accuracy.intercept.1k[f,2] = coef(lasso.model.1k)[1]\n",
    "    lasso.accuracy.intercept.100[f,2] = coef(lasso.model.100)[1]\n",
    "    \n",
    "    #predict y hats for models\n",
    "    probs.10k = predict(lasso.model.10k, newx = as.matrix(lasso.test.data.10k))\n",
    "    probs.5k = predict(lasso.model.5k, newx = as.matrix(lasso.test.data.5k))\n",
    "    probs.2.5k = predict(lasso.model.2.5k, newx = as.matrix(lasso.test.data.2.5k))\n",
    "    probs.1k = predict(lasso.model.1k, newx = as.matrix(lasso.test.data.1k))\n",
    "    probs.100 = predict(lasso.model.100, newx = as.matrix(lasso.test.data.100))\n",
    "    \n",
    "    lasso.accuracy.intercept.10k[f,1] = mean((lasso.test.labels.10k - probs.10k)^2)\n",
    "    lasso.accuracy.intercept.5k[f,1] = mean((lasso.test.labels.5k - probs.5k)^2)\n",
    "    lasso.accuracy.intercept.2.5k[f,1] = mean((lasso.test.labels.2.5k - probs.2.5k)^2)\n",
    "    lasso.accuracy.intercept.1k[f,1] = mean((lasso.test.labels.1k - probs.1k)^2)\n",
    "    lasso.accuracy.intercept.100[f,1] = mean((lasso.test.labels.100 - probs.100)^2)\n",
    "}"
   ]
  },
  {
   "cell_type": "code",
   "execution_count": 9,
   "metadata": {},
   "outputs": [
    {
     "data": {
      "text/html": [
       "<table>\n",
       "<thead><tr><th></th><th scope=col>Accuracy</th><th scope=col>Intercept</th></tr></thead>\n",
       "<tbody>\n",
       "\t<tr><th scope=row>Fold 1_10k</th><td> 5.470391</td><td>2.153823 </td></tr>\n",
       "\t<tr><th scope=row>Fold 2_10k</th><td> 6.980692</td><td>8.609448 </td></tr>\n",
       "\t<tr><th scope=row>Fold 3_10k</th><td>13.442565</td><td>3.505720 </td></tr>\n",
       "\t<tr><th scope=row>Fold 4_0k</th><td> 5.383364</td><td>2.036191 </td></tr>\n",
       "\t<tr><th scope=row>Fold 5_10k</th><td> 2.933923</td><td>5.098251 </td></tr>\n",
       "</tbody>\n",
       "</table>\n"
      ],
      "text/latex": [
       "\\begin{tabular}{r|ll}\n",
       "  & Accuracy & Intercept\\\\\n",
       "\\hline\n",
       "\tFold 1\\_10k &  5.470391 & 2.153823 \\\\\n",
       "\tFold 2\\_10k &  6.980692 & 8.609448 \\\\\n",
       "\tFold 3\\_10k & 13.442565 & 3.505720 \\\\\n",
       "\tFold 4\\_0k &  5.383364 & 2.036191 \\\\\n",
       "\tFold 5\\_10k &  2.933923 & 5.098251 \\\\\n",
       "\\end{tabular}\n"
      ],
      "text/markdown": [
       "\n",
       "| <!--/--> | Accuracy | Intercept |\n",
       "|---|---|---|\n",
       "| Fold 1_10k |  5.470391 | 2.153823  |\n",
       "| Fold 2_10k |  6.980692 | 8.609448  |\n",
       "| Fold 3_10k | 13.442565 | 3.505720  |\n",
       "| Fold 4_0k |  5.383364 | 2.036191  |\n",
       "| Fold 5_10k |  2.933923 | 5.098251  |\n",
       "\n"
      ],
      "text/plain": [
       "           Accuracy  Intercept\n",
       "Fold 1_10k  5.470391 2.153823 \n",
       "Fold 2_10k  6.980692 8.609448 \n",
       "Fold 3_10k 13.442565 3.505720 \n",
       "Fold 4_0k   5.383364 2.036191 \n",
       "Fold 5_10k  2.933923 5.098251 "
      ]
     },
     "metadata": {},
     "output_type": "display_data"
    },
    {
     "data": {
      "text/html": [
       "<table>\n",
       "<thead><tr><th></th><th scope=col>Accuracy</th><th scope=col>Intercept</th></tr></thead>\n",
       "<tbody>\n",
       "\t<tr><th scope=row>Fold 1_5k</th><td>7.454751</td><td>3.729346</td></tr>\n",
       "\t<tr><th scope=row>Fold 2_5k</th><td>5.590168</td><td>6.367975</td></tr>\n",
       "\t<tr><th scope=row>Fold 3_5k</th><td>3.631596</td><td>1.704543</td></tr>\n",
       "\t<tr><th scope=row>Fold 4_5k</th><td>4.395679</td><td>1.889571</td></tr>\n",
       "\t<tr><th scope=row>Fold 5_5k</th><td>3.006389</td><td>5.657538</td></tr>\n",
       "</tbody>\n",
       "</table>\n"
      ],
      "text/latex": [
       "\\begin{tabular}{r|ll}\n",
       "  & Accuracy & Intercept\\\\\n",
       "\\hline\n",
       "\tFold 1\\_5k & 7.454751 & 3.729346\\\\\n",
       "\tFold 2\\_5k & 5.590168 & 6.367975\\\\\n",
       "\tFold 3\\_5k & 3.631596 & 1.704543\\\\\n",
       "\tFold 4\\_5k & 4.395679 & 1.889571\\\\\n",
       "\tFold 5\\_5k & 3.006389 & 5.657538\\\\\n",
       "\\end{tabular}\n"
      ],
      "text/markdown": [
       "\n",
       "| <!--/--> | Accuracy | Intercept |\n",
       "|---|---|---|\n",
       "| Fold 1_5k | 7.454751 | 3.729346 |\n",
       "| Fold 2_5k | 5.590168 | 6.367975 |\n",
       "| Fold 3_5k | 3.631596 | 1.704543 |\n",
       "| Fold 4_5k | 4.395679 | 1.889571 |\n",
       "| Fold 5_5k | 3.006389 | 5.657538 |\n",
       "\n"
      ],
      "text/plain": [
       "          Accuracy Intercept\n",
       "Fold 1_5k 7.454751 3.729346 \n",
       "Fold 2_5k 5.590168 6.367975 \n",
       "Fold 3_5k 3.631596 1.704543 \n",
       "Fold 4_5k 4.395679 1.889571 \n",
       "Fold 5_5k 3.006389 5.657538 "
      ]
     },
     "metadata": {},
     "output_type": "display_data"
    },
    {
     "data": {
      "text/html": [
       "<table>\n",
       "<thead><tr><th></th><th scope=col>Accuracy</th><th scope=col>Intercept</th></tr></thead>\n",
       "<tbody>\n",
       "\t<tr><th scope=row>Fold 1_2.5k</th><td>8.642027</td><td>4.184765</td></tr>\n",
       "\t<tr><th scope=row>Fold 2_2.5k</th><td>9.859577</td><td>9.259210</td></tr>\n",
       "\t<tr><th scope=row>Fold 3_2.5k</th><td>5.740269</td><td>3.243694</td></tr>\n",
       "\t<tr><th scope=row>Fold 4_2.5k</th><td>4.768265</td><td>2.630439</td></tr>\n",
       "\t<tr><th scope=row>Fold 5_2.5k</th><td>6.043880</td><td>7.535496</td></tr>\n",
       "</tbody>\n",
       "</table>\n"
      ],
      "text/latex": [
       "\\begin{tabular}{r|ll}\n",
       "  & Accuracy & Intercept\\\\\n",
       "\\hline\n",
       "\tFold 1\\_2.5k & 8.642027 & 4.184765\\\\\n",
       "\tFold 2\\_2.5k & 9.859577 & 9.259210\\\\\n",
       "\tFold 3\\_2.5k & 5.740269 & 3.243694\\\\\n",
       "\tFold 4\\_2.5k & 4.768265 & 2.630439\\\\\n",
       "\tFold 5\\_2.5k & 6.043880 & 7.535496\\\\\n",
       "\\end{tabular}\n"
      ],
      "text/markdown": [
       "\n",
       "| <!--/--> | Accuracy | Intercept |\n",
       "|---|---|---|\n",
       "| Fold 1_2.5k | 8.642027 | 4.184765 |\n",
       "| Fold 2_2.5k | 9.859577 | 9.259210 |\n",
       "| Fold 3_2.5k | 5.740269 | 3.243694 |\n",
       "| Fold 4_2.5k | 4.768265 | 2.630439 |\n",
       "| Fold 5_2.5k | 6.043880 | 7.535496 |\n",
       "\n"
      ],
      "text/plain": [
       "            Accuracy Intercept\n",
       "Fold 1_2.5k 8.642027 4.184765 \n",
       "Fold 2_2.5k 9.859577 9.259210 \n",
       "Fold 3_2.5k 5.740269 3.243694 \n",
       "Fold 4_2.5k 4.768265 2.630439 \n",
       "Fold 5_2.5k 6.043880 7.535496 "
      ]
     },
     "metadata": {},
     "output_type": "display_data"
    },
    {
     "data": {
      "text/html": [
       "<table>\n",
       "<thead><tr><th></th><th scope=col>Accuracy</th><th scope=col>Intercept</th></tr></thead>\n",
       "<tbody>\n",
       "\t<tr><th scope=row>Fold 1_1k</th><td> 8.416602</td><td> 4.199862</td></tr>\n",
       "\t<tr><th scope=row>Fold 2_1k</th><td>11.810363</td><td>10.884311</td></tr>\n",
       "\t<tr><th scope=row>Fold 3_1k</th><td> 5.954922</td><td> 3.219380</td></tr>\n",
       "\t<tr><th scope=row>Fold 4_1k</th><td> 6.676764</td><td> 5.036587</td></tr>\n",
       "\t<tr><th scope=row>Fold 5_1k</th><td> 3.629813</td><td> 6.354038</td></tr>\n",
       "</tbody>\n",
       "</table>\n"
      ],
      "text/latex": [
       "\\begin{tabular}{r|ll}\n",
       "  & Accuracy & Intercept\\\\\n",
       "\\hline\n",
       "\tFold 1\\_1k &  8.416602 &  4.199862\\\\\n",
       "\tFold 2\\_1k & 11.810363 & 10.884311\\\\\n",
       "\tFold 3\\_1k &  5.954922 &  3.219380\\\\\n",
       "\tFold 4\\_1k &  6.676764 &  5.036587\\\\\n",
       "\tFold 5\\_1k &  3.629813 &  6.354038\\\\\n",
       "\\end{tabular}\n"
      ],
      "text/markdown": [
       "\n",
       "| <!--/--> | Accuracy | Intercept |\n",
       "|---|---|---|\n",
       "| Fold 1_1k |  8.416602 |  4.199862 |\n",
       "| Fold 2_1k | 11.810363 | 10.884311 |\n",
       "| Fold 3_1k |  5.954922 |  3.219380 |\n",
       "| Fold 4_1k |  6.676764 |  5.036587 |\n",
       "| Fold 5_1k |  3.629813 |  6.354038 |\n",
       "\n"
      ],
      "text/plain": [
       "          Accuracy  Intercept\n",
       "Fold 1_1k  8.416602  4.199862\n",
       "Fold 2_1k 11.810363 10.884311\n",
       "Fold 3_1k  5.954922  3.219380\n",
       "Fold 4_1k  6.676764  5.036587\n",
       "Fold 5_1k  3.629813  6.354038"
      ]
     },
     "metadata": {},
     "output_type": "display_data"
    },
    {
     "data": {
      "text/html": [
       "<table>\n",
       "<thead><tr><th></th><th scope=col>Accuracy</th><th scope=col>Intercept</th></tr></thead>\n",
       "<tbody>\n",
       "\t<tr><th scope=row>Fold 1_100</th><td>7.682479</td><td>3.496576</td></tr>\n",
       "\t<tr><th scope=row>Fold 2_100</th><td>6.846581</td><td>5.716011</td></tr>\n",
       "\t<tr><th scope=row>Fold 3_100</th><td>4.254030</td><td>1.864150</td></tr>\n",
       "\t<tr><th scope=row>Fold 4_100</th><td>9.131050</td><td>2.382986</td></tr>\n",
       "\t<tr><th scope=row>Fold 5_100</th><td>5.096202</td><td>5.178058</td></tr>\n",
       "</tbody>\n",
       "</table>\n"
      ],
      "text/latex": [
       "\\begin{tabular}{r|ll}\n",
       "  & Accuracy & Intercept\\\\\n",
       "\\hline\n",
       "\tFold 1\\_100 & 7.682479 & 3.496576\\\\\n",
       "\tFold 2\\_100 & 6.846581 & 5.716011\\\\\n",
       "\tFold 3\\_100 & 4.254030 & 1.864150\\\\\n",
       "\tFold 4\\_100 & 9.131050 & 2.382986\\\\\n",
       "\tFold 5\\_100 & 5.096202 & 5.178058\\\\\n",
       "\\end{tabular}\n"
      ],
      "text/markdown": [
       "\n",
       "| <!--/--> | Accuracy | Intercept |\n",
       "|---|---|---|\n",
       "| Fold 1_100 | 7.682479 | 3.496576 |\n",
       "| Fold 2_100 | 6.846581 | 5.716011 |\n",
       "| Fold 3_100 | 4.254030 | 1.864150 |\n",
       "| Fold 4_100 | 9.131050 | 2.382986 |\n",
       "| Fold 5_100 | 5.096202 | 5.178058 |\n",
       "\n"
      ],
      "text/plain": [
       "           Accuracy Intercept\n",
       "Fold 1_100 7.682479 3.496576 \n",
       "Fold 2_100 6.846581 5.716011 \n",
       "Fold 3_100 4.254030 1.864150 \n",
       "Fold 4_100 9.131050 2.382986 \n",
       "Fold 5_100 5.096202 5.178058 "
      ]
     },
     "metadata": {},
     "output_type": "display_data"
    }
   ],
   "source": [
    "lasso.accuracy.intercept.10k\n",
    "lasso.accuracy.intercept.5k\n",
    "lasso.accuracy.intercept.2.5k\n",
    "lasso.accuracy.intercept.1k\n",
    "lasso.accuracy.intercept.100"
   ]
  },
  {
   "cell_type": "code",
   "execution_count": 10,
   "metadata": {},
   "outputs": [],
   "source": [
    "# library(glmnet)\n",
    "# lasso.indices.1k = which(folds.1k==1, arr.ind=TRUE)\n",
    "\n",
    "# lasso.test.data.1k = my.data.1k[lasso.indices.1k, ]\n",
    "# lasso.train.data.1k = my.data.1k[-lasso.indices.1k, ]\n",
    "\n",
    "# lasso.test.labels.1k = adr.mat[lasso.indices.1k]\n",
    "# lasso.train.labels.1k = adr.mat[-lasso.indices.1k]\n",
    "\n",
    "# #find best lambda\n",
    "# cv.lasso = cv.glmnet(as.matrix(lasso.train.data.1k), lasso.train.labels.1k, alpha=0, family=\"binomial\")\n",
    "# # plot(cv.lasso)\n",
    "# #compute model\n",
    "# model = glmnet(as.matrix(lasso.train.data.1k), lasso.train.labels.1k, alpha=0, family=\"binomial\",\n",
    "#               lambda=cv.lasso$lambda.min)\n",
    "# temp = coef(model)[-1,]\n",
    "# temp\n",
    "# probs = predict(model, newx = as.matrix(lasso.test.data.1k))\n",
    "# # mse0 <- mean((y.test - yhat0)^2)\n",
    "# mse = mean((lasso.test.labels.1k - probs)^2)\n",
    "# mse"
   ]
  },
  {
   "cell_type": "markdown",
   "metadata": {},
   "source": [
    "### sanity check"
   ]
  },
  {
   "cell_type": "code",
   "execution_count": null,
   "metadata": {},
   "outputs": [],
   "source": [
    "#sanity check\n",
    "# coefficients.10k[1:3, 1:10]\n",
    "# coefficients.5k[1:3, 1:10]\n",
    "# coefficients.2.5k[1:3, 1:10]\n",
    "# coefficients.1k[1:3, 1:10]\n",
    "# coefficients.100[1:3, 1:10]\n",
    "\n",
    "# lasso.coefficients.10k[1:3, 1:10]\n",
    "# lasso.coefficients.5k[1:3, 1:10]\n",
    "# lasso.coefficients.2.5k[1:3, 1:10]\n",
    "# lasso.coefficients.1k[1:3, 1:10]\n",
    "# lasso.coefficients.100[1:3, 1:10]\n",
    "\n",
    "# min(lasso.coefficients.10k)\n",
    "# min(lasso.coefficients.5k)\n",
    "# min(lasso.coefficients.2.5k)\n",
    "# min(lasso.coefficients.1k)\n",
    "# min(lasso.coefficients.100)\n",
    "\n",
    "# max(lasso.coefficients.10k)\n",
    "# max(lasso.coefficients.5k)\n",
    "# max(lasso.coefficients.2.5k)\n",
    "# max(lasso.coefficients.1k)\n",
    "# max(lasso.coefficients.100)\n",
    "# accuracy.intercept.10k\n",
    "# accuracy.intercept.5k\n",
    "# accuracy.intercept.2.5k\n",
    "# accuracy.intercept.1k\n",
    "# accuracy.intercept.100"
   ]
  },
  {
   "cell_type": "markdown",
   "metadata": {},
   "source": [
    "### write results to file"
   ]
  },
  {
   "cell_type": "code",
   "execution_count": 31,
   "metadata": {},
   "outputs": [
    {
     "data": {
      "text/html": [
       "-0.519349454750181"
      ],
      "text/latex": [
       "-0.519349454750181"
      ],
      "text/markdown": [
       "-0.519349454750181"
      ],
      "text/plain": [
       "[1] -0.5193495"
      ]
     },
     "metadata": {},
     "output_type": "display_data"
    },
    {
     "data": {
      "text/html": [
       "-0.486533895107583"
      ],
      "text/latex": [
       "-0.486533895107583"
      ],
      "text/markdown": [
       "-0.486533895107583"
      ],
      "text/plain": [
       "[1] -0.4865339"
      ]
     },
     "metadata": {},
     "output_type": "display_data"
    },
    {
     "data": {
      "text/html": [
       "-0.714898629934437"
      ],
      "text/latex": [
       "-0.714898629934437"
      ],
      "text/markdown": [
       "-0.714898629934437"
      ],
      "text/plain": [
       "[1] -0.7148986"
      ]
     },
     "metadata": {},
     "output_type": "display_data"
    },
    {
     "data": {
      "text/html": [
       "-0.640441794728053"
      ],
      "text/latex": [
       "-0.640441794728053"
      ],
      "text/markdown": [
       "-0.640441794728053"
      ],
      "text/plain": [
       "[1] -0.6404418"
      ]
     },
     "metadata": {},
     "output_type": "display_data"
    },
    {
     "data": {
      "text/html": [
       "-0.641778326744239"
      ],
      "text/latex": [
       "-0.641778326744239"
      ],
      "text/markdown": [
       "-0.641778326744239"
      ],
      "text/plain": [
       "[1] -0.6417783"
      ]
     },
     "metadata": {},
     "output_type": "display_data"
    },
    {
     "data": {
      "text/html": [
       "0.385650693129621"
      ],
      "text/latex": [
       "0.385650693129621"
      ],
      "text/markdown": [
       "0.385650693129621"
      ],
      "text/plain": [
       "[1] 0.3856507"
      ]
     },
     "metadata": {},
     "output_type": "display_data"
    },
    {
     "data": {
      "text/html": [
       "0.283012419730436"
      ],
      "text/latex": [
       "0.283012419730436"
      ],
      "text/markdown": [
       "0.283012419730436"
      ],
      "text/plain": [
       "[1] 0.2830124"
      ]
     },
     "metadata": {},
     "output_type": "display_data"
    },
    {
     "data": {
      "text/html": [
       "0.350945127231478"
      ],
      "text/latex": [
       "0.350945127231478"
      ],
      "text/markdown": [
       "0.350945127231478"
      ],
      "text/plain": [
       "[1] 0.3509451"
      ]
     },
     "metadata": {},
     "output_type": "display_data"
    },
    {
     "data": {
      "text/html": [
       "0.462572045405418"
      ],
      "text/latex": [
       "0.462572045405418"
      ],
      "text/markdown": [
       "0.462572045405418"
      ],
      "text/plain": [
       "[1] 0.462572"
      ]
     },
     "metadata": {},
     "output_type": "display_data"
    },
    {
     "data": {
      "text/html": [
       "0.267500304226283"
      ],
      "text/latex": [
       "0.267500304226283"
      ],
      "text/markdown": [
       "0.267500304226283"
      ],
      "text/plain": [
       "[1] 0.2675003"
      ]
     },
     "metadata": {},
     "output_type": "display_data"
    }
   ],
   "source": [
    "#write results to file\n",
    "# write.table(coefficients.10k, file=\"LogRegCoef_10k.txt\", append=FALSE, sep=\"\\t\", dec=\".\", row.names=TRUE, col.names=TRUE)\n",
    "# write.table(coefficients.5k, file=\"LogRegCoef_5k.txt\", append=FALSE, sep=\"\\t\", dec=\".\", row.names=TRUE, col.names=TRUE)\n",
    "# write.table(coefficients.2.5k, file=\"LogRegCoef_2.5k.txt\", append=FALSE, sep=\"\\t\", dec=\".\", row.names=TRUE, col.names=TRUE)\n",
    "# write.table(coefficients.1k, file=\"LogRegCoef_1k.txt\", append=FALSE, sep=\"\\t\", dec=\".\", row.names=TRUE, col.names=TRUE)\n",
    "# write.table(coefficients.100, file=\"LogRegCoef_100.txt\", append=FALSE, sep=\"\\t\", dec=\".\", row.names=TRUE, col.names=TRUE)\n",
    "\n",
    "# write.table(lasso.coefficients.10k, file=\"LassoCoef_10k.txt\", append=FALSE, sep=\"\\t\", dec=\".\", row.names=TRUE, col.names=TRUE)\n",
    "# write.table(lasso.coefficients.5k, file=\"LassoCoef_5k.txt\", append=FALSE, sep=\"\\t\", dec=\".\", row.names=TRUE, col.names=TRUE)\n",
    "# write.table(lasso.coefficients.2.5k, file=\"LassoCoef_2.5k.txt\", append=FALSE, sep=\"\\t\", dec=\".\", row.names=TRUE, col.names=TRUE)\n",
    "# write.table(lasso.coefficients.1k, file=\"LassoCoef_1k.txt\", append=FALSE, sep=\"\\t\", dec=\".\", row.names=TRUE, col.names=TRUE)\n",
    "# write.table(lasso.coefficients.100, file=\"LassoCoef_100.txt\", append=FALSE, sep=\"\\t\", dec=\".\", row.names=TRUE, col.names=TRUE)"
   ]
  },
  {
   "cell_type": "code",
   "execution_count": 11,
   "metadata": {},
   "outputs": [],
   "source": [
    "# write.table(accuracy.intercept.10k, file=\"LogRegAcc_Int_10k.txt\", append=FALSE, sep=\"\\t\", dec=\".\", row.names=TRUE, col.names=TRUE)\n",
    "# write.table(accuracy.intercept.5k, file=\"LogRegAcc_Int_5k.txt\", append=FALSE, sep=\"\\t\", dec=\".\", row.names=TRUE, col.names=TRUE)\n",
    "# write.table(accuracy.intercept.2.5k, file=\"LogRegAcc_Int_2.5k.txt\", append=FALSE, sep=\"\\t\", dec=\".\", row.names=TRUE, col.names=TRUE)\n",
    "# write.table(accuracy.intercept.1k, file=\"LogRegAcc_Int_1k.txt\", append=FALSE, sep=\"\\t\", dec=\".\", row.names=TRUE, col.names=TRUE)\n",
    "# write.table(accuracy.intercept.100, file=\"LogRegAcc_Int_100.txt\", append=FALSE, sep=\"\\t\", dec=\".\", row.names=TRUE, col.names=TRUE)\n",
    "\n",
    "# write.table(lasso.accuracy.intercept.10k, file=\"LassoAcc_Int_10k.txt\", append=FALSE, sep=\"\\t\", dec=\".\", row.names=TRUE, col.names=TRUE)\n",
    "# write.table(lasso.accuracy.intercept.5k, file=\"LassoAcc_Int_5k.txt\", append=FALSE, sep=\"\\t\", dec=\".\", row.names=TRUE, col.names=TRUE)\n",
    "# write.table(lasso.accuracy.intercept.2.5k, file=\"LassoAcc_Int_2.5k.txt\", append=FALSE, sep=\"\\t\", dec=\".\", row.names=TRUE, col.names=TRUE)\n",
    "# write.table(lasso.accuracy.intercept.1k, file=\"LassoAcc_Int_1k.txt\", append=FALSE, sep=\"\\t\", dec=\".\", row.names=TRUE, col.names=TRUE)\n",
    "# write.table(lasso.accuracy.intercept.100, file=\"LassoAcc_Int_100.txt\", append=FALSE, sep=\"\\t\", dec=\".\", row.names=TRUE, col.names=TRUE)"
   ]
  }
 ],
 "metadata": {
  "kernelspec": {
   "display_name": "R",
   "language": "R",
   "name": "ir"
  },
  "language_info": {
   "codemirror_mode": "r",
   "file_extension": ".r",
   "mimetype": "text/x-r-source",
   "name": "R",
   "pygments_lexer": "r",
   "version": "3.5.1"
  }
 },
 "nbformat": 4,
 "nbformat_minor": 2
}
